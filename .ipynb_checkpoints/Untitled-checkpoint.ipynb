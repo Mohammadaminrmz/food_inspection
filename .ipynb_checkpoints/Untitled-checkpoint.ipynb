{
 "cells": [
  {
   "cell_type": "code",
   "execution_count": 57,
   "id": "5cf2ade2-2fce-476e-9eca-f1bb8442e362",
   "metadata": {},
   "outputs": [
    {
     "data": {
      "text/plain": [
       "array(['Risk Category III', 'Risk Category I', 'Risk Category II',\n",
       "       'no permanent plumbing', 'Risk II'], dtype=object)"
      ]
     },
     "execution_count": 57,
     "metadata": {},
     "output_type": "execute_result"
    }
   ],
   "source": [
    "import numpy as np\n",
    "import pandas as pd\n",
    "import plotly.express as px\n",
    "import scipy as sp\n",
    "from pandas.api.types import CategoricalDtype\n",
    "import seaborn as sns\n",
    "\n",
    "\n",
    "df = pd.read_csv('Food_Establishment_Inspection_Data.csv',low_memory=False)\n",
    "df.drop(['Name','Inspection Date','Address','City','Zip Code','Phone','Inspection Business Name','Inspection_Serial_Num','Violation_Record_ID'],axis=1,inplace=True)\n",
    "df[['capacity','Risk_category']]= df.Description.str.split(\" - \",expand=True)\n",
    "df.drop('Description',axis=1,inplace=True)\n",
    "pd.unique(df['Risk_category'])"
   ]
  },
  {
   "cell_type": "code",
   "execution_count": 51,
   "id": "e3bba423-82c2-4ce2-8e0a-52e9348d8aad",
   "metadata": {},
   "outputs": [],
   "source": [
    "R1=df.query(\"Risk_category=='Risk Category I'\")\n"
   ]
  },
  {
   "cell_type": "code",
   "execution_count": 62,
   "id": "1ee8acc9-7c45-4e76-9d3a-51c8ab5d1640",
   "metadata": {},
   "outputs": [
    {
     "data": {
      "text/plain": [
       "array(['Risk Category II', 'Risk II'], dtype=object)"
      ]
     },
     "execution_count": 62,
     "metadata": {},
     "output_type": "execute_result"
    }
   ],
   "source": [
    "R2=df.query(\"Risk_category=='Risk Category II' | Risk_category=='Risk II'\")\n"
   ]
  },
  {
   "cell_type": "code",
   "execution_count": 52,
   "id": "34e025d0-f5e1-4d44-8f9f-ca5da59f30c8",
   "metadata": {},
   "outputs": [],
   "source": [
    "R3=df.query(\"Risk_category=='Risk Category Risk Category III'\")"
   ]
  },
  {
   "cell_type": "code",
   "execution_count": 58,
   "id": "608b4a46-709f-4154-9938-31d1d7fea910",
   "metadata": {},
   "outputs": [],
   "source": [
    "NPP=df.query(\"Risk_category=='no permanent plumbing'\")"
   ]
  },
  {
   "cell_type": "code",
   "execution_count": null,
   "id": "9b7f23af-a47b-4d0b-b6be-f1736d06f753",
   "metadata": {},
   "outputs": [],
   "source": []
  }
 ],
 "metadata": {
  "kernelspec": {
   "display_name": "Python 3 (ipykernel)",
   "language": "python",
   "name": "python3"
  },
  "language_info": {
   "codemirror_mode": {
    "name": "ipython",
    "version": 3
   },
   "file_extension": ".py",
   "mimetype": "text/x-python",
   "name": "python",
   "nbconvert_exporter": "python",
   "pygments_lexer": "ipython3",
   "version": "3.9.12"
  },
  "vscode": {
   "interpreter": {
    "hash": "aee8b7b246df8f9039afb4144a1f6fd8d2ca17a180786b69acc140d282b71a49"
   }
  }
 },
 "nbformat": 4,
 "nbformat_minor": 5
}
