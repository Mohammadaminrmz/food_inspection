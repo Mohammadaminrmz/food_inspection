{
 "cells": [
  {
   "cell_type": "code",
   "execution_count": 1,
   "id": "dfbfe636-7940-42eb-b456-ce9b0f8ebfc4",
   "metadata": {},
   "outputs": [],
   "source": [
    "import pandas as pd\n",
    "import seaborn as sns\n",
    "import matplotlib.pyplot as plt\n",
    "import numpy as np\n",
    "from scipy.stats import chi2_contingency"
   ]
  },
  {
   "cell_type": "markdown",
   "id": "b3c659db-8f09-47bf-be08-f090c986c284",
   "metadata": {
    "tags": []
   },
   "source": [
    "# Some exploratory analysis"
   ]
  },
  {
   "cell_type": "code",
   "execution_count": 2,
   "id": "8c007c3c-e99b-4267-9118-1a5cf96320be",
   "metadata": {},
   "outputs": [],
   "source": [
    "df = pd.read_csv(\"Food_Establishment_Inspection_Data.csv\" , low_memory=False)"
   ]
  },
  {
   "cell_type": "code",
   "execution_count": 3,
   "id": "6e0da6e2-fc29-4ef1-8fe4-0e8946a181a2",
   "metadata": {},
   "outputs": [
    {
     "data": {
      "text/html": [
       "<div>\n",
       "<style scoped>\n",
       "    .dataframe tbody tr th:only-of-type {\n",
       "        vertical-align: middle;\n",
       "    }\n",
       "\n",
       "    .dataframe tbody tr th {\n",
       "        vertical-align: top;\n",
       "    }\n",
       "\n",
       "    .dataframe thead th {\n",
       "        text-align: right;\n",
       "    }\n",
       "</style>\n",
       "<table border=\"1\" class=\"dataframe\">\n",
       "  <thead>\n",
       "    <tr style=\"text-align: right;\">\n",
       "      <th></th>\n",
       "      <th>Name</th>\n",
       "      <th>Program Identifier</th>\n",
       "      <th>Inspection Date</th>\n",
       "      <th>Description</th>\n",
       "      <th>Address</th>\n",
       "      <th>City</th>\n",
       "      <th>Zip Code</th>\n",
       "      <th>Phone</th>\n",
       "      <th>Longitude</th>\n",
       "      <th>Latitude</th>\n",
       "      <th>...</th>\n",
       "      <th>Inspection Score</th>\n",
       "      <th>Inspection Result</th>\n",
       "      <th>Inspection Closed Business</th>\n",
       "      <th>Violation Type</th>\n",
       "      <th>Violation Description</th>\n",
       "      <th>Violation Points</th>\n",
       "      <th>Business_ID</th>\n",
       "      <th>Inspection_Serial_Num</th>\n",
       "      <th>Violation_Record_ID</th>\n",
       "      <th>Grade</th>\n",
       "    </tr>\n",
       "  </thead>\n",
       "  <tbody>\n",
       "    <tr>\n",
       "      <th>0</th>\n",
       "      <td>#807 TUTTA BELLA</td>\n",
       "      <td>#807 TUTTA BELLA</td>\n",
       "      <td>08/31/2022</td>\n",
       "      <td>Seating 0-12 - Risk Category III</td>\n",
       "      <td>2746 NE 45TH ST</td>\n",
       "      <td>SEATTLE</td>\n",
       "      <td>98105</td>\n",
       "      <td>(206) 722-6400</td>\n",
       "      <td>-122.296415</td>\n",
       "      <td>47.662311</td>\n",
       "      <td>...</td>\n",
       "      <td>10.0</td>\n",
       "      <td>Unsatisfactory</td>\n",
       "      <td>False</td>\n",
       "      <td>BLUE</td>\n",
       "      <td>3200 - Insects, rodents, animals not present; ...</td>\n",
       "      <td>5</td>\n",
       "      <td>PR0089260</td>\n",
       "      <td>DAEEWQC0L</td>\n",
       "      <td>IVQ7QYW2V</td>\n",
       "      <td>1.0</td>\n",
       "    </tr>\n",
       "  </tbody>\n",
       "</table>\n",
       "<p>1 rows × 22 columns</p>\n",
       "</div>"
      ],
      "text/plain": [
       "               Name Program Identifier Inspection Date  \\\n",
       "0  #807 TUTTA BELLA   #807 TUTTA BELLA      08/31/2022   \n",
       "\n",
       "                        Description          Address     City Zip Code  \\\n",
       "0  Seating 0-12 - Risk Category III  2746 NE 45TH ST  SEATTLE    98105   \n",
       "\n",
       "            Phone   Longitude   Latitude  ... Inspection Score  \\\n",
       "0  (206) 722-6400 -122.296415  47.662311  ...             10.0   \n",
       "\n",
       "  Inspection Result  Inspection Closed Business Violation Type  \\\n",
       "0    Unsatisfactory                       False           BLUE   \n",
       "\n",
       "                               Violation Description Violation Points  \\\n",
       "0  3200 - Insects, rodents, animals not present; ...                5   \n",
       "\n",
       "  Business_ID  Inspection_Serial_Num Violation_Record_ID Grade  \n",
       "0   PR0089260              DAEEWQC0L           IVQ7QYW2V   1.0  \n",
       "\n",
       "[1 rows x 22 columns]"
      ]
     },
     "execution_count": 3,
     "metadata": {},
     "output_type": "execute_result"
    }
   ],
   "source": [
    "df.head(1)"
   ]
  },
  {
   "cell_type": "code",
   "execution_count": 4,
   "id": "f11c7bda-7bb6-46e2-a92b-c479f3740578",
   "metadata": {},
   "outputs": [],
   "source": [
    "df_cleaned = df[['Inspection Score' ,'Inspection Result' ,  'Inspection Closed Business' , 'Violation Type','Violation Points',\"Grade\",\"Violation Description\"]]"
   ]
  },
  {
   "cell_type": "code",
   "execution_count": 5,
   "id": "8717c165-318e-4eb4-b4ba-6f2d1f06c2ef",
   "metadata": {},
   "outputs": [
    {
     "data": {
      "text/html": [
       "<div>\n",
       "<style scoped>\n",
       "    .dataframe tbody tr th:only-of-type {\n",
       "        vertical-align: middle;\n",
       "    }\n",
       "\n",
       "    .dataframe tbody tr th {\n",
       "        vertical-align: top;\n",
       "    }\n",
       "\n",
       "    .dataframe thead th {\n",
       "        text-align: right;\n",
       "    }\n",
       "</style>\n",
       "<table border=\"1\" class=\"dataframe\">\n",
       "  <thead>\n",
       "    <tr style=\"text-align: right;\">\n",
       "      <th></th>\n",
       "      <th>Inspection Score</th>\n",
       "      <th>Inspection Result</th>\n",
       "      <th>Inspection Closed Business</th>\n",
       "      <th>Violation Type</th>\n",
       "      <th>Violation Points</th>\n",
       "      <th>Grade</th>\n",
       "      <th>Violation Description</th>\n",
       "    </tr>\n",
       "  </thead>\n",
       "  <tbody>\n",
       "    <tr>\n",
       "      <th>0</th>\n",
       "      <td>10.0</td>\n",
       "      <td>Unsatisfactory</td>\n",
       "      <td>False</td>\n",
       "      <td>BLUE</td>\n",
       "      <td>5</td>\n",
       "      <td>1.0</td>\n",
       "      <td>3200 - Insects, rodents, animals not present; ...</td>\n",
       "    </tr>\n",
       "    <tr>\n",
       "      <th>1</th>\n",
       "      <td>10.0</td>\n",
       "      <td>Unsatisfactory</td>\n",
       "      <td>False</td>\n",
       "      <td>RED</td>\n",
       "      <td>5</td>\n",
       "      <td>1.0</td>\n",
       "      <td>0200 - Food Worker Cards current for all food ...</td>\n",
       "    </tr>\n",
       "    <tr>\n",
       "      <th>2</th>\n",
       "      <td>0.0</td>\n",
       "      <td>Satisfactory</td>\n",
       "      <td>False</td>\n",
       "      <td>NaN</td>\n",
       "      <td>0</td>\n",
       "      <td>1.0</td>\n",
       "      <td>NaN</td>\n",
       "    </tr>\n",
       "    <tr>\n",
       "      <th>3</th>\n",
       "      <td>0.0</td>\n",
       "      <td>Satisfactory</td>\n",
       "      <td>False</td>\n",
       "      <td>NaN</td>\n",
       "      <td>0</td>\n",
       "      <td>1.0</td>\n",
       "      <td>NaN</td>\n",
       "    </tr>\n",
       "    <tr>\n",
       "      <th>4</th>\n",
       "      <td>0.0</td>\n",
       "      <td>Satisfactory</td>\n",
       "      <td>False</td>\n",
       "      <td>NaN</td>\n",
       "      <td>0</td>\n",
       "      <td>2.0</td>\n",
       "      <td>NaN</td>\n",
       "    </tr>\n",
       "    <tr>\n",
       "      <th>...</th>\n",
       "      <td>...</td>\n",
       "      <td>...</td>\n",
       "      <td>...</td>\n",
       "      <td>...</td>\n",
       "      <td>...</td>\n",
       "      <td>...</td>\n",
       "      <td>...</td>\n",
       "    </tr>\n",
       "    <tr>\n",
       "      <th>250753</th>\n",
       "      <td>0.0</td>\n",
       "      <td>Complete</td>\n",
       "      <td>False</td>\n",
       "      <td>NaN</td>\n",
       "      <td>0</td>\n",
       "      <td>2.0</td>\n",
       "      <td>NaN</td>\n",
       "    </tr>\n",
       "    <tr>\n",
       "      <th>250754</th>\n",
       "      <td>0.0</td>\n",
       "      <td>Satisfactory</td>\n",
       "      <td>False</td>\n",
       "      <td>NaN</td>\n",
       "      <td>0</td>\n",
       "      <td>2.0</td>\n",
       "      <td>NaN</td>\n",
       "    </tr>\n",
       "    <tr>\n",
       "      <th>250755</th>\n",
       "      <td>0.0</td>\n",
       "      <td>Satisfactory</td>\n",
       "      <td>False</td>\n",
       "      <td>NaN</td>\n",
       "      <td>0</td>\n",
       "      <td>2.0</td>\n",
       "      <td>NaN</td>\n",
       "    </tr>\n",
       "    <tr>\n",
       "      <th>250756</th>\n",
       "      <td>0.0</td>\n",
       "      <td>Complete</td>\n",
       "      <td>False</td>\n",
       "      <td>NaN</td>\n",
       "      <td>0</td>\n",
       "      <td>2.0</td>\n",
       "      <td>NaN</td>\n",
       "    </tr>\n",
       "    <tr>\n",
       "      <th>250757</th>\n",
       "      <td>5.0</td>\n",
       "      <td>Unsatisfactory</td>\n",
       "      <td>False</td>\n",
       "      <td>RED</td>\n",
       "      <td>5</td>\n",
       "      <td>1.0</td>\n",
       "      <td>2120 - Proper cold holding temperatures ( 42 d...</td>\n",
       "    </tr>\n",
       "  </tbody>\n",
       "</table>\n",
       "<p>250758 rows × 7 columns</p>\n",
       "</div>"
      ],
      "text/plain": [
       "        Inspection Score Inspection Result Inspection Closed Business  \\\n",
       "0                   10.0    Unsatisfactory                      False   \n",
       "1                   10.0    Unsatisfactory                      False   \n",
       "2                    0.0      Satisfactory                      False   \n",
       "3                    0.0      Satisfactory                      False   \n",
       "4                    0.0      Satisfactory                      False   \n",
       "...                  ...               ...                        ...   \n",
       "250753               0.0          Complete                      False   \n",
       "250754               0.0      Satisfactory                      False   \n",
       "250755               0.0      Satisfactory                      False   \n",
       "250756               0.0          Complete                      False   \n",
       "250757               5.0    Unsatisfactory                      False   \n",
       "\n",
       "       Violation Type  Violation Points  Grade  \\\n",
       "0                BLUE                 5    1.0   \n",
       "1                 RED                 5    1.0   \n",
       "2                 NaN                 0    1.0   \n",
       "3                 NaN                 0    1.0   \n",
       "4                 NaN                 0    2.0   \n",
       "...               ...               ...    ...   \n",
       "250753            NaN                 0    2.0   \n",
       "250754            NaN                 0    2.0   \n",
       "250755            NaN                 0    2.0   \n",
       "250756            NaN                 0    2.0   \n",
       "250757            RED                 5    1.0   \n",
       "\n",
       "                                    Violation Description  \n",
       "0       3200 - Insects, rodents, animals not present; ...  \n",
       "1       0200 - Food Worker Cards current for all food ...  \n",
       "2                                                     NaN  \n",
       "3                                                     NaN  \n",
       "4                                                     NaN  \n",
       "...                                                   ...  \n",
       "250753                                                NaN  \n",
       "250754                                                NaN  \n",
       "250755                                                NaN  \n",
       "250756                                                NaN  \n",
       "250757  2120 - Proper cold holding temperatures ( 42 d...  \n",
       "\n",
       "[250758 rows x 7 columns]"
      ]
     },
     "execution_count": 5,
     "metadata": {},
     "output_type": "execute_result"
    }
   ],
   "source": [
    "df_cleaned"
   ]
  },
  {
   "cell_type": "code",
   "execution_count": 6,
   "id": "ddda5952-9232-43f6-b4e5-5f4c2632608b",
   "metadata": {},
   "outputs": [
    {
     "data": {
      "text/plain": [
       "<AxesSubplot: xlabel='Violation Type', ylabel='Violation Points'>"
      ]
     },
     "execution_count": 6,
     "metadata": {},
     "output_type": "execute_result"
    },
    {
     "data": {
      "image/png": "[encoded data removed]",
      "text/plain": [
       "<Figure size 640x480 with 1 Axes>"
      ]
     },
     "metadata": {},
     "output_type": "display_data"
    }
   ],
   "source": [
    "sns.boxplot(data= df_cleaned , x = \"Violation Type\" , y = \"Violation Points\")"
   ]
  },
  {
   "cell_type": "code",
   "execution_count": 7,
   "id": "0cd34a7b-61e4-4974-aea2-2979efd2db10",
   "metadata": {},
   "outputs": [
    {
     "data": {
      "text/plain": [
       "<AxesSubplot: xlabel='Violation Points', ylabel='Inspection Result'>"
      ]
     },
     "execution_count": 7,
     "metadata": {},
     "output_type": "execute_result"
    },
    {
     "data": {
      "image/png": "[encoded data removed]",
      "text/plain": [
       "<Figure size 640x480 with 1 Axes>"
      ]
     },
     "metadata": {},
     "output_type": "display_data"
    }
   ],
   "source": [
    "sns.scatterplot(data= df_cleaned , x = \"Violation Points\" , y = \"Inspection Result\", hue = \"Violation Type\")"
   ]
  },
  {
   "cell_type": "code",
   "execution_count": 8,
   "id": "aeb0ec8a-4a1f-4d5d-827b-6663db4c8f44",
   "metadata": {},
   "outputs": [
    {
     "name": "stderr",
     "output_type": "stream",
     "text": [
      "/tmp/ipykernel_5094/1367570080.py:1: FutureWarning: The default value of numeric_only in DataFrame.corr is deprecated. In a future version, it will default to False. Select only valid columns or specify the value of numeric_only to silence this warning.\n",
      "  df_cleaned.corr()\n"
     ]
    },
    {
     "data": {
      "text/html": [
       "<div>\n",
       "<style scoped>\n",
       "    .dataframe tbody tr th:only-of-type {\n",
       "        vertical-align: middle;\n",
       "    }\n",
       "\n",
       "    .dataframe tbody tr th {\n",
       "        vertical-align: top;\n",
       "    }\n",
       "\n",
       "    .dataframe thead th {\n",
       "        text-align: right;\n",
       "    }\n",
       "</style>\n",
       "<table border=\"1\" class=\"dataframe\">\n",
       "  <thead>\n",
       "    <tr style=\"text-align: right;\">\n",
       "      <th></th>\n",
       "      <th>Inspection Score</th>\n",
       "      <th>Violation Points</th>\n",
       "      <th>Grade</th>\n",
       "    </tr>\n",
       "  </thead>\n",
       "  <tbody>\n",
       "    <tr>\n",
       "      <th>Inspection Score</th>\n",
       "      <td>1.000000</td>\n",
       "      <td>0.591614</td>\n",
       "      <td>0.291949</td>\n",
       "    </tr>\n",
       "    <tr>\n",
       "      <th>Violation Points</th>\n",
       "      <td>0.591614</td>\n",
       "      <td>1.000000</td>\n",
       "      <td>0.161187</td>\n",
       "    </tr>\n",
       "    <tr>\n",
       "      <th>Grade</th>\n",
       "      <td>0.291949</td>\n",
       "      <td>0.161187</td>\n",
       "      <td>1.000000</td>\n",
       "    </tr>\n",
       "  </tbody>\n",
       "</table>\n",
       "</div>"
      ],
      "text/plain": [
       "                  Inspection Score  Violation Points     Grade\n",
       "Inspection Score          1.000000          0.591614  0.291949\n",
       "Violation Points          0.591614          1.000000  0.161187\n",
       "Grade                     0.291949          0.161187  1.000000"
      ]
     },
     "execution_count": 8,
     "metadata": {},
     "output_type": "execute_result"
    }
   ],
   "source": [
    "df_cleaned.corr()"
   ]
  },
  {
   "cell_type": "code",
   "execution_count": 9,
   "id": "e564e4f7-15d4-4a7a-b133-89a2aa682521",
   "metadata": {},
   "outputs": [
    {
     "data": {
      "text/html": [
       "<div>\n",
       "<style scoped>\n",
       "    .dataframe tbody tr th:only-of-type {\n",
       "        vertical-align: middle;\n",
       "    }\n",
       "\n",
       "    .dataframe tbody tr th {\n",
       "        vertical-align: top;\n",
       "    }\n",
       "\n",
       "    .dataframe thead th {\n",
       "        text-align: right;\n",
       "    }\n",
       "</style>\n",
       "<table border=\"1\" class=\"dataframe\">\n",
       "  <thead>\n",
       "    <tr style=\"text-align: right;\">\n",
       "      <th></th>\n",
       "      <th>Inspection Score</th>\n",
       "      <th>Violation Points</th>\n",
       "      <th>Grade</th>\n",
       "    </tr>\n",
       "  </thead>\n",
       "  <tbody>\n",
       "    <tr>\n",
       "      <th>count</th>\n",
       "      <td>249952.000000</td>\n",
       "      <td>250758.000000</td>\n",
       "      <td>191184.000000</td>\n",
       "    </tr>\n",
       "    <tr>\n",
       "      <th>mean</th>\n",
       "      <td>14.137182</td>\n",
       "      <td>4.408805</td>\n",
       "      <td>1.381611</td>\n",
       "    </tr>\n",
       "    <tr>\n",
       "      <th>std</th>\n",
       "      <td>20.281002</td>\n",
       "      <td>6.159414</td>\n",
       "      <td>0.579045</td>\n",
       "    </tr>\n",
       "    <tr>\n",
       "      <th>min</th>\n",
       "      <td>-30.000000</td>\n",
       "      <td>0.000000</td>\n",
       "      <td>1.000000</td>\n",
       "    </tr>\n",
       "    <tr>\n",
       "      <th>25%</th>\n",
       "      <td>0.000000</td>\n",
       "      <td>0.000000</td>\n",
       "      <td>1.000000</td>\n",
       "    </tr>\n",
       "    <tr>\n",
       "      <th>50%</th>\n",
       "      <td>5.000000</td>\n",
       "      <td>3.000000</td>\n",
       "      <td>1.000000</td>\n",
       "    </tr>\n",
       "    <tr>\n",
       "      <th>75%</th>\n",
       "      <td>20.000000</td>\n",
       "      <td>5.000000</td>\n",
       "      <td>2.000000</td>\n",
       "    </tr>\n",
       "    <tr>\n",
       "      <th>max</th>\n",
       "      <td>178.000000</td>\n",
       "      <td>30.000000</td>\n",
       "      <td>4.000000</td>\n",
       "    </tr>\n",
       "  </tbody>\n",
       "</table>\n",
       "</div>"
      ],
      "text/plain": [
       "       Inspection Score  Violation Points          Grade\n",
       "count     249952.000000     250758.000000  191184.000000\n",
       "mean          14.137182          4.408805       1.381611\n",
       "std           20.281002          6.159414       0.579045\n",
       "min          -30.000000          0.000000       1.000000\n",
       "25%            0.000000          0.000000       1.000000\n",
       "50%            5.000000          3.000000       1.000000\n",
       "75%           20.000000          5.000000       2.000000\n",
       "max          178.000000         30.000000       4.000000"
      ]
     },
     "execution_count": 9,
     "metadata": {},
     "output_type": "execute_result"
    }
   ],
   "source": [
    "df_cleaned.describe()"
   ]
  },
  {
   "cell_type": "code",
   "execution_count": 10,
   "id": "3bbbea91-89c9-470c-a53b-29839b1c548c",
   "metadata": {},
   "outputs": [
    {
     "ename": "KeyError",
     "evalue": "'City'",
     "output_type": "error",
     "traceback": [
      "\u001b[0;31m---------------------------------------------------------------------------\u001b[0m",
      "\u001b[0;31mKeyError\u001b[0m                                  Traceback (most recent call last)",
      "File \u001b[0;32m/opt/conda/lib/python3.10/site-packages/pandas/core/indexes/base.py:3803\u001b[0m, in \u001b[0;36mIndex.get_loc\u001b[0;34m(self, key, method, tolerance)\u001b[0m\n\u001b[1;32m   3802\u001b[0m \u001b[38;5;28;01mtry\u001b[39;00m:\n\u001b[0;32m-> 3803\u001b[0m     \u001b[38;5;28;01mreturn\u001b[39;00m \u001b[38;5;28;43mself\u001b[39;49m\u001b[38;5;241;43m.\u001b[39;49m\u001b[43m_engine\u001b[49m\u001b[38;5;241;43m.\u001b[39;49m\u001b[43mget_loc\u001b[49m\u001b[43m(\u001b[49m\u001b[43mcasted_key\u001b[49m\u001b[43m)\u001b[49m\n\u001b[1;32m   3804\u001b[0m \u001b[38;5;28;01mexcept\u001b[39;00m \u001b[38;5;167;01mKeyError\u001b[39;00m \u001b[38;5;28;01mas\u001b[39;00m err:\n",
      "File \u001b[0;32m/opt/conda/lib/python3.10/site-packages/pandas/_libs/index.pyx:138\u001b[0m, in \u001b[0;36mpandas._libs.index.IndexEngine.get_loc\u001b[0;34m()\u001b[0m\n",
      "File \u001b[0;32m/opt/conda/lib/python3.10/site-packages/pandas/_libs/index.pyx:165\u001b[0m, in \u001b[0;36mpandas._libs.index.IndexEngine.get_loc\u001b[0;34m()\u001b[0m\n",
      "File \u001b[0;32mpandas/_libs/hashtable_class_helper.pxi:5745\u001b[0m, in \u001b[0;36mpandas._libs.hashtable.PyObjectHashTable.get_item\u001b[0;34m()\u001b[0m\n",
      "File \u001b[0;32mpandas/_libs/hashtable_class_helper.pxi:5753\u001b[0m, in \u001b[0;36mpandas._libs.hashtable.PyObjectHashTable.get_item\u001b[0;34m()\u001b[0m\n",
      "\u001b[0;31mKeyError\u001b[0m: 'City'",
      "\nThe above exception was the direct cause of the following exception:\n",
      "\u001b[0;31mKeyError\u001b[0m                                  Traceback (most recent call last)",
      "Cell \u001b[0;32mIn [10], line 1\u001b[0m\n\u001b[0;32m----> 1\u001b[0m \u001b[43mdf_cleaned\u001b[49m\u001b[43m[\u001b[49m\u001b[38;5;124;43m\"\u001b[39;49m\u001b[38;5;124;43mCity\u001b[39;49m\u001b[38;5;124;43m\"\u001b[39;49m\u001b[43m]\u001b[49m\u001b[38;5;241m.\u001b[39mnunique()\n",
      "File \u001b[0;32m/opt/conda/lib/python3.10/site-packages/pandas/core/frame.py:3804\u001b[0m, in \u001b[0;36mDataFrame.__getitem__\u001b[0;34m(self, key)\u001b[0m\n\u001b[1;32m   3802\u001b[0m \u001b[38;5;28;01mif\u001b[39;00m \u001b[38;5;28mself\u001b[39m\u001b[38;5;241m.\u001b[39mcolumns\u001b[38;5;241m.\u001b[39mnlevels \u001b[38;5;241m>\u001b[39m \u001b[38;5;241m1\u001b[39m:\n\u001b[1;32m   3803\u001b[0m     \u001b[38;5;28;01mreturn\u001b[39;00m \u001b[38;5;28mself\u001b[39m\u001b[38;5;241m.\u001b[39m_getitem_multilevel(key)\n\u001b[0;32m-> 3804\u001b[0m indexer \u001b[38;5;241m=\u001b[39m \u001b[38;5;28;43mself\u001b[39;49m\u001b[38;5;241;43m.\u001b[39;49m\u001b[43mcolumns\u001b[49m\u001b[38;5;241;43m.\u001b[39;49m\u001b[43mget_loc\u001b[49m\u001b[43m(\u001b[49m\u001b[43mkey\u001b[49m\u001b[43m)\u001b[49m\n\u001b[1;32m   3805\u001b[0m \u001b[38;5;28;01mif\u001b[39;00m is_integer(indexer):\n\u001b[1;32m   3806\u001b[0m     indexer \u001b[38;5;241m=\u001b[39m [indexer]\n",
      "File \u001b[0;32m/opt/conda/lib/python3.10/site-packages/pandas/core/indexes/base.py:3805\u001b[0m, in \u001b[0;36mIndex.get_loc\u001b[0;34m(self, key, method, tolerance)\u001b[0m\n\u001b[1;32m   3803\u001b[0m     \u001b[38;5;28;01mreturn\u001b[39;00m \u001b[38;5;28mself\u001b[39m\u001b[38;5;241m.\u001b[39m_engine\u001b[38;5;241m.\u001b[39mget_loc(casted_key)\n\u001b[1;32m   3804\u001b[0m \u001b[38;5;28;01mexcept\u001b[39;00m \u001b[38;5;167;01mKeyError\u001b[39;00m \u001b[38;5;28;01mas\u001b[39;00m err:\n\u001b[0;32m-> 3805\u001b[0m     \u001b[38;5;28;01mraise\u001b[39;00m \u001b[38;5;167;01mKeyError\u001b[39;00m(key) \u001b[38;5;28;01mfrom\u001b[39;00m \u001b[38;5;21;01merr\u001b[39;00m\n\u001b[1;32m   3806\u001b[0m \u001b[38;5;28;01mexcept\u001b[39;00m \u001b[38;5;167;01mTypeError\u001b[39;00m:\n\u001b[1;32m   3807\u001b[0m     \u001b[38;5;66;03m# If we have a listlike key, _check_indexing_error will raise\u001b[39;00m\n\u001b[1;32m   3808\u001b[0m     \u001b[38;5;66;03m#  InvalidIndexError. Otherwise we fall through and re-raise\u001b[39;00m\n\u001b[1;32m   3809\u001b[0m     \u001b[38;5;66;03m#  the TypeError.\u001b[39;00m\n\u001b[1;32m   3810\u001b[0m     \u001b[38;5;28mself\u001b[39m\u001b[38;5;241m.\u001b[39m_check_indexing_error(key)\n",
      "\u001b[0;31mKeyError\u001b[0m: 'City'"
     ]
    }
   ],
   "source": [
    "df_cleaned[\"City\"].nunique()"
   ]
  },
  {
   "cell_type": "code",
   "execution_count": null,
   "id": "6c124988-3950-4cff-b8b9-5a54a67623f7",
   "metadata": {},
   "outputs": [],
   "source": [
    "df_cleaned[\"City\"].unique()"
   ]
  },
  {
   "cell_type": "code",
   "execution_count": null,
   "id": "cad34cf8-2ed7-42d4-9d25-c8c14e921cd5",
   "metadata": {},
   "outputs": [],
   "source": [
    "df_cleaned[\"City\"].value_counts()"
   ]
  },
  {
   "cell_type": "code",
   "execution_count": null,
   "id": "7f2dd1ed-9f36-4f0f-b5af-8fa793198cc8",
   "metadata": {},
   "outputs": [],
   "source": [
    "df_cleaned[\"Grade\"].unique()"
   ]
  },
  {
   "cell_type": "code",
   "execution_count": null,
   "id": "6d8632b7-7934-4a17-9202-8ac74b6cc289",
   "metadata": {},
   "outputs": [],
   "source": [
    "df_cleaned[\"Inspection Result\"].unique()"
   ]
  },
  {
   "cell_type": "code",
   "execution_count": null,
   "id": "82778842-6ff5-49d3-80fb-20a227799a65",
   "metadata": {},
   "outputs": [],
   "source": [
    "df_cleaned[\"Inspection Result\"].nunique()"
   ]
  },
  {
   "cell_type": "code",
   "execution_count": null,
   "id": "4f93d9c3-d4de-4977-9aee-48aee0557e8a",
   "metadata": {},
   "outputs": [],
   "source": [
    "df_cleaned[\"Violation Points\"].unique()"
   ]
  },
  {
   "cell_type": "code",
   "execution_count": null,
   "id": "f50299d1-462d-440d-a4d9-77fbe6422804",
   "metadata": {},
   "outputs": [],
   "source": [
    "df_cleaned[\"Inspection Score\"].unique()"
   ]
  },
  {
   "cell_type": "code",
   "execution_count": null,
   "id": "2976ac64-7e97-497e-94d2-86ce509f7ed6",
   "metadata": {},
   "outputs": [],
   "source": [
    "df_cleaned[\"Inspection Type\"].unique()"
   ]
  },
  {
   "cell_type": "code",
   "execution_count": null,
   "id": "d35f94b9-37d6-448b-9098-a907f7092adc",
   "metadata": {},
   "outputs": [],
   "source": [
    "sns.histplot(data= df_cleaned , x = \"Grade\")"
   ]
  },
  {
   "cell_type": "code",
   "execution_count": null,
   "id": "3ebbe966-888b-43de-b8b0-cc9e2f61b600",
   "metadata": {},
   "outputs": [],
   "source": [
    "sns.histplot(data= df_cleaned , x = \"Violation Points\")"
   ]
  },
  {
   "cell_type": "code",
   "execution_count": null,
   "id": "b86b739b-f297-459d-b028-74f7854f81dc",
   "metadata": {},
   "outputs": [],
   "source": [
    "ax = sns.barplot(data=df_cleaned , x = \"Inspection Result\" , y= \"Inspection Score\")\n",
    "ax.tick_params(axis='x', rotation=90)"
   ]
  },
  {
   "cell_type": "code",
   "execution_count": null,
   "id": "249d6e4c-4602-4b83-befd-c1090249c655",
   "metadata": {},
   "outputs": [],
   "source": [
    "df.columns"
   ]
  },
  {
   "cell_type": "code",
   "execution_count": null,
   "id": "23190ceb-cb55-4185-a2d8-12f46eccc88e",
   "metadata": {},
   "outputs": [],
   "source": [
    "import plotly.express as px"
   ]
  },
  {
   "cell_type": "code",
   "execution_count": null,
   "id": "6572c309-c6c7-481e-8079-d6ee23229346",
   "metadata": {},
   "outputs": [],
   "source": [
    "fig = px.scatter_mapbox(df, \n",
    "                        lat=\"Latitude\", \n",
    "                        lon=\"Longitude\", \n",
    "                        hover_name=\"Address\",\n",
    "                        zoom=8, \n",
    "                        height=800,\n",
    "                        width=800)"
   ]
  },
  {
   "cell_type": "code",
   "execution_count": null,
   "id": "39a2f6e9-29be-4dc0-9dc2-4ee82be627d1",
   "metadata": {},
   "outputs": [],
   "source": [
    "fig.update_layout(mapbox_style=\"open-street-map\")\n",
    "fig.update_layout(margin={\"r\":0,\"t\":0,\"l\":0,\"b\":0})\n",
    "fig.show()"
   ]
  },
  {
   "cell_type": "code",
   "execution_count": null,
   "id": "0dd386fe-6bb6-44c0-8732-ea25b0b353dc",
   "metadata": {},
   "outputs": [],
   "source": [
    "df.head(3)"
   ]
  },
  {
   "cell_type": "code",
   "execution_count": null,
   "id": "5dcec463-69c7-484e-9f6d-e068e571b05b",
   "metadata": {},
   "outputs": [],
   "source": [
    "df.loc[0,\"Inspection Score\"]"
   ]
  },
  {
   "cell_type": "code",
   "execution_count": null,
   "id": "5b62eb43-25aa-414d-91bd-6fba14524751",
   "metadata": {},
   "outputs": [],
   "source": [
    "df.columns"
   ]
  },
  {
   "cell_type": "code",
   "execution_count": null,
   "id": "34c132b2-0138-40d6-9ec8-9bcc2071902e",
   "metadata": {},
   "outputs": [],
   "source": [
    "sum(df[\"Inspection Business Name\"].isna())"
   ]
  },
  {
   "cell_type": "code",
   "execution_count": null,
   "id": "faff64ce-f75e-45c1-aa1a-4828eae66499",
   "metadata": {},
   "outputs": [],
   "source": [
    "sum(df[\"Inspection Type\"].isna())"
   ]
  },
  {
   "cell_type": "code",
   "execution_count": null,
   "id": "377aca17-4661-4fae-bd4d-be9b67ef5dfd",
   "metadata": {},
   "outputs": [],
   "source": [
    "sum(df[\"Inspection Score\"].isna())"
   ]
  },
  {
   "cell_type": "code",
   "execution_count": null,
   "id": "9a57fba4-9d33-4e65-bd09-ffeb7325e3ce",
   "metadata": {},
   "outputs": [],
   "source": [
    "sum(df[\"Inspection Result\"].isna())"
   ]
  },
  {
   "cell_type": "code",
   "execution_count": 13,
   "id": "c1c85a7d-f534-4d97-8088-ba1c17001a20",
   "metadata": {},
   "outputs": [
    {
     "data": {
      "text/plain": [
       "765"
      ]
     },
     "execution_count": 13,
     "metadata": {},
     "output_type": "execute_result"
    }
   ],
   "source": [
    "sum(df[\"Inspection Closed Business\"].isna())"
   ]
  },
  {
   "cell_type": "code",
   "execution_count": 12,
   "id": "f2e6b7d9-c804-4dfc-b99c-1f87c7eef543",
   "metadata": {},
   "outputs": [
    {
     "data": {
      "text/plain": [
       "111623"
      ]
     },
     "execution_count": 12,
     "metadata": {},
     "output_type": "execute_result"
    }
   ],
   "source": [
    "sum(df[\"Violation Type\"].isna())"
   ]
  },
  {
   "cell_type": "code",
   "execution_count": 14,
   "id": "6a24babc-d7bc-44b7-b9ca-4903025d00bb",
   "metadata": {},
   "outputs": [
    {
     "data": {
      "text/plain": [
       "111623"
      ]
     },
     "execution_count": 14,
     "metadata": {},
     "output_type": "execute_result"
    }
   ],
   "source": [
    "sum(df[\"Violation Description\"].isna())"
   ]
  },
  {
   "cell_type": "code",
   "execution_count": 15,
   "id": "0f807b1e-0574-422d-9252-30fe4e7a486f",
   "metadata": {},
   "outputs": [
    {
     "data": {
      "text/plain": [
       "0"
      ]
     },
     "execution_count": 15,
     "metadata": {},
     "output_type": "execute_result"
    }
   ],
   "source": [
    "sum(df[\"Violation Points\"].isna())"
   ]
  },
  {
   "cell_type": "code",
   "execution_count": 16,
   "id": "7dc13c5a-2bfb-4491-bac3-0e5becdc9c11",
   "metadata": {},
   "outputs": [
    {
     "data": {
      "text/plain": [
       "0"
      ]
     },
     "execution_count": 16,
     "metadata": {},
     "output_type": "execute_result"
    }
   ],
   "source": [
    "sum(df[\"Business_ID\"].isna())"
   ]
  },
  {
   "cell_type": "code",
   "execution_count": 17,
   "id": "78c980bb-757d-42c7-8ec6-4e0be2245efd",
   "metadata": {},
   "outputs": [
    {
     "data": {
      "text/plain": [
       "765"
      ]
     },
     "execution_count": 17,
     "metadata": {},
     "output_type": "execute_result"
    }
   ],
   "source": [
    "sum(df[\"Inspection_Serial_Num\"].isna())"
   ]
  },
  {
   "cell_type": "code",
   "execution_count": null,
   "id": "12ed65ee-c5ab-4349-8ea5-f450ae45f8c6",
   "metadata": {},
   "outputs": [],
   "source": [
    "sum(df[\"Violation_Record_ID\"].isna())"
   ]
  },
  {
   "cell_type": "code",
   "execution_count": null,
   "id": "2c00cdd8-2082-41ac-a3ce-9299c588d33f",
   "metadata": {},
   "outputs": [],
   "source": [
    "sum(df[\"Grade\"].isna())"
   ]
  },
  {
   "cell_type": "code",
   "execution_count": null,
   "id": "7c7fea26-ad64-43a7-8a25-cc92a18e7eb6",
   "metadata": {},
   "outputs": [],
   "source": [
    "sum(df[\"Violation Points\"].isna())"
   ]
  },
  {
   "cell_type": "code",
   "execution_count": null,
   "id": "4ad89978-ab2b-4afc-8917-094e2c1ec94f",
   "metadata": {},
   "outputs": [],
   "source": [
    "sum(df[\"Name\"].isna())"
   ]
  },
  {
   "cell_type": "code",
   "execution_count": null,
   "id": "32d76a64-945e-4da3-9d53-928bd1f0591a",
   "metadata": {},
   "outputs": [],
   "source": [
    "sum(df[\"Program Identifier\"].isna())"
   ]
  },
  {
   "cell_type": "code",
   "execution_count": null,
   "id": "f671bad7-f3a8-462b-b628-a61c279ede00",
   "metadata": {},
   "outputs": [],
   "source": [
    "sum(df[\"Inspection Date\"].isna())"
   ]
  },
  {
   "cell_type": "code",
   "execution_count": null,
   "id": "96d8cf7d-987e-44cb-b970-46a3ad9b5767",
   "metadata": {},
   "outputs": [],
   "source": [
    "sum(df[\"Description\"].isna())"
   ]
  },
  {
   "cell_type": "code",
   "execution_count": null,
   "id": "9d3bf7d9-18e4-4475-ae70-d777fcfacc62",
   "metadata": {},
   "outputs": [],
   "source": [
    "sum(df[\"Address\"].isna())"
   ]
  },
  {
   "cell_type": "code",
   "execution_count": null,
   "id": "dac88da7-936f-44dd-b6f7-a86fabf87737",
   "metadata": {},
   "outputs": [],
   "source": [
    "sum(df[\"City\"].isna())"
   ]
  },
  {
   "cell_type": "code",
   "execution_count": null,
   "id": "dbd4ffef-ab1f-45bb-b501-ba38956f39a1",
   "metadata": {},
   "outputs": [],
   "source": [
    "sum(df[\"Zip Code\"].isna())"
   ]
  },
  {
   "cell_type": "code",
   "execution_count": null,
   "id": "fef8651c-d0da-46b0-a8cd-5efdd4b3158f",
   "metadata": {},
   "outputs": [],
   "source": [
    "sum(df[\"Phone\"].isna())"
   ]
  },
  {
   "cell_type": "code",
   "execution_count": null,
   "id": "bb6de4a5-0467-4e7e-b697-4e73ae5bad3c",
   "metadata": {},
   "outputs": [],
   "source": [
    "sum(df[\"Longitude\"].isna())"
   ]
  },
  {
   "cell_type": "code",
   "execution_count": null,
   "id": "ee6a2a45-47d6-4cac-92e3-05c911b56f6a",
   "metadata": {},
   "outputs": [],
   "source": [
    "sum(df[\"Latitude\"].isna())"
   ]
  },
  {
   "cell_type": "code",
   "execution_count": null,
   "id": "511f8c89-ff7f-4475-b59e-aae2badefb59",
   "metadata": {},
   "outputs": [],
   "source": [
    "df.shape"
   ]
  },
  {
   "cell_type": "code",
   "execution_count": null,
   "id": "e52431a9-2e28-4d43-8c65-e2338fd40742",
   "metadata": {},
   "outputs": [],
   "source": [
    "df[\"City\"].nunique()"
   ]
  },
  {
   "cell_type": "code",
   "execution_count": null,
   "id": "28557ba8-ba6e-4a86-a6fa-ad694c3ed376",
   "metadata": {},
   "outputs": [],
   "source": [
    "df[\"City\"].unique()"
   ]
  },
  {
   "cell_type": "code",
   "execution_count": null,
   "id": "20e4d5d3-f286-432f-93ae-c0c7699125c0",
   "metadata": {},
   "outputs": [],
   "source": [
    "df[\"Inspection Type\"].unique()"
   ]
  },
  {
   "cell_type": "code",
   "execution_count": null,
   "id": "0512cba6-e3c8-49f9-87ad-e153f0107539",
   "metadata": {},
   "outputs": [],
   "source": [
    "df[\"Inspection Score\"].unique()"
   ]
  },
  {
   "cell_type": "code",
   "execution_count": null,
   "id": "99eb0ed1-8bae-4def-82f7-6384aec5d4ef",
   "metadata": {},
   "outputs": [],
   "source": [
    "df[\"Violation Description\"].nunique()\n"
   ]
  },
  {
   "cell_type": "code",
   "execution_count": null,
   "id": "27d63fcf-7a5d-48fb-8849-21699ecc6f03",
   "metadata": {},
   "outputs": [],
   "source": [
    "df[\"Violation Points\"].nunique()\n"
   ]
  },
  {
   "cell_type": "code",
   "execution_count": null,
   "id": "e031cd6e-bb4b-47be-9b72-ebf670074a93",
   "metadata": {},
   "outputs": [],
   "source": [
    "df[\"Violation Points\"].unique()\n"
   ]
  },
  {
   "cell_type": "code",
   "execution_count": null,
   "id": "5304c7f2-f2db-4f45-a663-e6ebc9d894b6",
   "metadata": {},
   "outputs": [],
   "source": [
    "df[\"Business_ID\"].unique()\n"
   ]
  },
  {
   "cell_type": "code",
   "execution_count": null,
   "id": "9973bddb-2e33-489f-b631-0d8b40fa950e",
   "metadata": {},
   "outputs": [],
   "source": [
    "df[\"Violation_Record_ID\"].unique()\n"
   ]
  },
  {
   "cell_type": "code",
   "execution_count": null,
   "id": "9899860d-e509-47ea-b3f5-a0bf3648f785",
   "metadata": {},
   "outputs": [],
   "source": [
    "df[\"Violation_Record_ID\"].nunique()\n"
   ]
  },
  {
   "cell_type": "code",
   "execution_count": null,
   "id": "66e0f4db-e724-4c85-9d70-ae4c5e207d6c",
   "metadata": {},
   "outputs": [],
   "source": [
    "sum(df[\"Violation_Record_ID\"].isna())"
   ]
  },
  {
   "cell_type": "code",
   "execution_count": null,
   "id": "da9f1368-2def-472b-85f4-948fad274c97",
   "metadata": {},
   "outputs": [],
   "source": [
    "df[\"Inspection_Serial_Num\"].nunique()\n"
   ]
  },
  {
   "cell_type": "code",
   "execution_count": null,
   "id": "f8b9e811-8875-40dd-b9cd-073913634f09",
   "metadata": {},
   "outputs": [],
   "source": [
    "sum(df[\"Inspection_Serial_Num\"].isna())\n"
   ]
  },
  {
   "cell_type": "code",
   "execution_count": null,
   "id": "e5cdbdce-457f-43d5-805c-8eebe08628a4",
   "metadata": {},
   "outputs": [],
   "source": [
    "df[\"Grade\"].unique()"
   ]
  },
  {
   "cell_type": "markdown",
   "id": "ce0fa01e-17cf-4f2c-bc94-f041f1a18bf9",
   "metadata": {
    "tags": []
   },
   "source": [
    "# Data Cleaning"
   ]
  },
  {
   "cell_type": "code",
   "execution_count": null,
   "id": "60973b1d-24ec-48b7-b6f3-b0f6a533154f",
   "metadata": {},
   "outputs": [],
   "source": [
    "df = pd.read_csv(\"Food_Establishment_Inspection_Data.csv\" , low_memory=False)"
   ]
  },
  {
   "cell_type": "code",
   "execution_count": null,
   "id": "9e754dad-9804-4fc3-9a2e-5b59356738f9",
   "metadata": {},
   "outputs": [],
   "source": [
    "df.head()"
   ]
  },
  {
   "cell_type": "markdown",
   "id": "6c076126-28ff-498f-a853-e8ac4d80b5f4",
   "metadata": {
    "tags": []
   },
   "source": [
    "## Dropping rows/columns"
   ]
  },
  {
   "cell_type": "code",
   "execution_count": null,
   "id": "4a6f6f72-dd7a-46ea-b580-6268b2562173",
   "metadata": {},
   "outputs": [],
   "source": [
    "missing_values = {}\n",
    "for col in df:\n",
    "    missing_values[col] = sum(df[col].isna())"
   ]
  },
  {
   "cell_type": "code",
   "execution_count": null,
   "id": "89a18cba-a697-4f9c-b9be-7d85ae71dfd2",
   "metadata": {},
   "outputs": [],
   "source": [
    "# plt.figure(figsize=(5,5))\n",
    "# plt.bar(missing_values.keys(), missing_values.values())\n",
    "# plt.xticks(rotation = 90);\n",
    "# plt.savefig(\"missing_data.jpg\",bbox_inches = \"tight\")"
   ]
  },
  {
   "cell_type": "code",
   "execution_count": null,
   "id": "28742b5a-fcd1-4ea1-af2f-74b9d32426ad",
   "metadata": {},
   "outputs": [],
   "source": [
    "df[df[\"Inspection Date\"].isna()]"
   ]
  },
  {
   "cell_type": "code",
   "execution_count": null,
   "id": "38dabc85-fae1-4eb6-b615-a53699f3eba0",
   "metadata": {},
   "outputs": [],
   "source": [
    "df_cleaned = df.drop(df[df[\"Inspection Date\"].isna()].index , axis=0)"
   ]
  },
  {
   "cell_type": "code",
   "execution_count": null,
   "id": "f839ede5-ac8f-403a-b69e-d236e225e369",
   "metadata": {},
   "outputs": [],
   "source": [
    "missing_values_cleaned = {}\n",
    "for col in df_cleaned:\n",
    "    missing_values_cleaned[col] = sum(df_cleaned[col].isna())"
   ]
  },
  {
   "cell_type": "code",
   "execution_count": null,
   "id": "49b6fb27-1c8e-4ff3-be5e-7f33503ef1be",
   "metadata": {},
   "outputs": [],
   "source": [
    "missing_values_cleaned"
   ]
  },
  {
   "cell_type": "code",
   "execution_count": null,
   "id": "967011ab-2ef0-4d7a-b633-694526f54d74",
   "metadata": {},
   "outputs": [],
   "source": [
    "# plt.figure(figsize=(5,5))\n",
    "# plt.bar(missing_values_cleaned.keys(), missing_values_cleaned.values())\n",
    "# plt.xticks(rotation = 90);\n",
    "# plt.savefig(\"missing_data_cleaned.jpg\",bbox_inches = \"tight\")"
   ]
  },
  {
   "cell_type": "code",
   "execution_count": null,
   "id": "0f0a4d19-2bbe-4650-819b-a543db2ef16f",
   "metadata": {},
   "outputs": [],
   "source": [
    "df_cleaned.drop([\"Phone\" , \"Violation_Record_ID\"],axis=1,inplace=True)"
   ]
  },
  {
   "cell_type": "markdown",
   "id": "4e0dfe00-5e93-4808-b10c-847fafcdbaa2",
   "metadata": {
    "tags": []
   },
   "source": [
    "## Filling missing data"
   ]
  },
  {
   "cell_type": "markdown",
   "id": "bebc8fa2-056f-4ee0-a17c-f60cd3a3f1b2",
   "metadata": {
    "tags": []
   },
   "source": [
    "### Fill Inspection Score missing values"
   ]
  },
  {
   "cell_type": "code",
   "execution_count": null,
   "id": "d080ad70-5778-4e85-9722-6924aa14256d",
   "metadata": {},
   "outputs": [],
   "source": [
    "df_cleaned[df_cleaned[\"Inspection Score\"].isna()].head()"
   ]
  },
  {
   "cell_type": "code",
   "execution_count": null,
   "id": "a1083bec-eacd-4c3a-836a-4edb2130a985",
   "metadata": {},
   "outputs": [],
   "source": [
    "look_up = df_cleaned.pivot_table(index=\"Inspection Closed Business\" , columns=\"Inspection Result\", values =\"Inspection Score\" ,aggfunc=\"mean\" )"
   ]
  },
  {
   "cell_type": "code",
   "execution_count": null,
   "id": "07c2b2ff-4a87-48c4-a61e-c9303cebc6ce",
   "metadata": {},
   "outputs": [],
   "source": [
    "look_up"
   ]
  },
  {
   "cell_type": "code",
   "execution_count": null,
   "id": "b7f89d0c-546e-4487-81eb-115acef4026f",
   "metadata": {},
   "outputs": [],
   "source": [
    "look_up.loc[True,\"Complete\"]"
   ]
  },
  {
   "cell_type": "code",
   "execution_count": null,
   "id": "b518ea99-e5b2-4154-a008-90f85afbc671",
   "metadata": {},
   "outputs": [],
   "source": [
    "df_cleaned.loc[df_cleaned[df_cleaned[\"Inspection Score\"].isna()].index,\"Inspection Score\"] = df_cleaned[df_cleaned[\"Inspection Score\"].isna()].apply(lambda x :look_up.loc[x[\"Inspection Closed Business\"],x[\"Inspection Result\"]] , axis = 1)"
   ]
  },
  {
   "cell_type": "code",
   "execution_count": null,
   "id": "604aaf02-5d26-47b2-8338-d6584194e8d2",
   "metadata": {},
   "outputs": [],
   "source": [
    "df_cleaned[\"Inspection Score\"].isna()"
   ]
  },
  {
   "cell_type": "markdown",
   "id": "d7fbdc48-682f-4604-b005-4cc62728380a",
   "metadata": {
    "tags": []
   },
   "source": [
    "### Fill Violation Type missing values"
   ]
  },
  {
   "cell_type": "code",
   "execution_count": null,
   "id": "d18de627-32ce-4963-a81c-1b4a2d022da0",
   "metadata": {},
   "outputs": [],
   "source": [
    "df_cleaned.head()"
   ]
  },
  {
   "cell_type": "code",
   "execution_count": null,
   "id": "f0cce169-9814-4d4f-985f-46da182e399c",
   "metadata": {},
   "outputs": [],
   "source": [
    "df_cleaned.pivot_table(index=[\"Inspection Result\",\"Inspection Closed Business\"] , columns=\"Violation Type\", aggfunc=\"size\")\n",
    "# No meaningful result"
   ]
  },
  {
   "cell_type": "code",
   "execution_count": null,
   "id": "3ac2cad1-b094-4ff4-ac88-5a64c730d22d",
   "metadata": {},
   "outputs": [],
   "source": [
    "df_cleaned.pivot_table(index=[\"Inspection Result\",\"Inspection Closed Business\"] , columns=\"Violation Type\",values = \"Inspection Score\" ,aggfunc=\"mean\")\n",
    "# No meaningful result"
   ]
  },
  {
   "cell_type": "code",
   "execution_count": null,
   "id": "31ef98fe-d4fc-48cf-a6a5-7bd0508c9195",
   "metadata": {},
   "outputs": [],
   "source": [
    "df_cleaned.pivot_table(index=[\"Inspection Result\",\"Inspection Closed Business\"] , columns=\"Violation Type\",values = \"Violation Points\" ,aggfunc=\"mean\")\n"
   ]
  },
  {
   "cell_type": "code",
   "execution_count": null,
   "id": "fd6c2f74-ab91-4f19-8043-a301078a9b1b",
   "metadata": {},
   "outputs": [],
   "source": [
    "sns.boxplot(data=df_cleaned, x = \"Violation Type\" , y = \"Violation Points\")"
   ]
  },
  {
   "cell_type": "code",
   "execution_count": null,
   "id": "7957af25-e45d-4d98-9abb-932994454007",
   "metadata": {},
   "outputs": [],
   "source": [
    "## ^^^^ seems like 3rd quantile of violation points in blue group is 5\n",
    "##  also 1st quantile of violation points in red group is 5\n",
    "## so violation points beneath 5 are most likely Blue otherwise they are Red"
   ]
  },
  {
   "cell_type": "code",
   "execution_count": null,
   "id": "49afc35f-b16f-489e-a838-1aea00c95ed1",
   "metadata": {},
   "outputs": [],
   "source": [
    "np.percentile(df_cleaned[df_cleaned[\"Violation Type\"] == \"BLUE\"][\"Violation Points\"],75)"
   ]
  },
  {
   "cell_type": "code",
   "execution_count": null,
   "id": "bafb6ec7-1b65-4f04-8b68-6a3d69f1372b",
   "metadata": {},
   "outputs": [],
   "source": [
    "np.percentile(df_cleaned[df_cleaned[\"Violation Type\"] == \"RED\"][\"Violation Points\"],25)"
   ]
  },
  {
   "cell_type": "code",
   "execution_count": null,
   "id": "02ce2d0c-e8d4-48b0-9f14-f7604a29844c",
   "metadata": {},
   "outputs": [],
   "source": [
    "df_cleaned.loc[df_cleaned[df_cleaned[\"Violation Type\"].isna()].index,\"Violation Type\"] = df_cleaned[df_cleaned[\"Violation Type\"].isna()][\"Violation Points\"].apply(lambda x : \"RED\" if x > 5 else \"BLUE\")"
   ]
  },
  {
   "cell_type": "code",
   "execution_count": null,
   "id": "f38e1f37-5628-4468-9549-a53678fabd6a",
   "metadata": {},
   "outputs": [],
   "source": [
    "df_cleaned[\"Violation Type\"] = df_cleaned[\"Violation Type\"].map({\"Blue\" : \"BLUE\" , \"RED\" : \"RED\" , \"BLUE\" : \"BLUE\"})"
   ]
  },
  {
   "cell_type": "markdown",
   "id": "d8f90b48-2ad1-4943-88a7-610e3476a6dd",
   "metadata": {
    "tags": []
   },
   "source": [
    "### Check again for missing values"
   ]
  },
  {
   "cell_type": "code",
   "execution_count": null,
   "id": "71da79c8-6218-402a-ac84-fb9ce3e0cc75",
   "metadata": {},
   "outputs": [],
   "source": [
    "df_cleaned"
   ]
  },
  {
   "cell_type": "code",
   "execution_count": null,
   "id": "1cec79e6-48a8-4f9a-a35b-a4207efdc94e",
   "metadata": {},
   "outputs": [],
   "source": []
  },
  {
   "cell_type": "code",
   "execution_count": null,
   "id": "8516bdae-33d6-41cb-8b4f-81a86f1a3447",
   "metadata": {},
   "outputs": [],
   "source": [
    "missing_values_cleaned = {}\n",
    "for col in df_cleaned:\n",
    "    missing_values_cleaned[col] = sum(df_cleaned[col].isna())"
   ]
  },
  {
   "cell_type": "code",
   "execution_count": null,
   "id": "4cb25240-b70d-4a34-9a07-3457ec74dfd7",
   "metadata": {},
   "outputs": [],
   "source": [
    "missing_values_cleaned"
   ]
  },
  {
   "cell_type": "code",
   "execution_count": null,
   "id": "4c14e3f7-fe69-45bf-bf87-c28019436026",
   "metadata": {},
   "outputs": [],
   "source": [
    "# plt.figure(figsize=(5,5))\n",
    "# plt.bar(missing_values_cleaned.keys(), missing_values_cleaned.values())\n",
    "# plt.xticks(rotation = 90);\n",
    "# plt.savefig(\"missing_data_cleaned_2.jpg\",bbox_inches = \"tight\")"
   ]
  },
  {
   "cell_type": "markdown",
   "id": "8f15c134-182e-460b-b86f-80456e56092c",
   "metadata": {
    "tags": []
   },
   "source": [
    "### Filling Grades missing values"
   ]
  },
  {
   "cell_type": "code",
   "execution_count": null,
   "id": "9b461908-7fea-4660-a233-d9eff3ef52ce",
   "metadata": {},
   "outputs": [],
   "source": [
    "# sns.scatterplot(data= df_cleaned ,  x = \"Longitude\" , y = \"Latitude\" , hue = \"Grade\")"
   ]
  },
  {
   "cell_type": "code",
   "execution_count": null,
   "id": "7d0e4ad9-aea9-4496-963a-5f2eb99a8d8d",
   "metadata": {},
   "outputs": [],
   "source": [
    "df_cleaned.corr()"
   ]
  },
  {
   "cell_type": "code",
   "execution_count": null,
   "id": "33cfcfe8-d5e9-4e91-a596-0c3c818dbeaf",
   "metadata": {},
   "outputs": [],
   "source": [
    "# sns.boxplot(data=df_cleaned , y = \"Inspection Score\",hue =df_cleaned[['Violation Type', 'Grade']].apply(tuple, axis=1),x = \"Inspection Closed Business\")"
   ]
  },
  {
   "cell_type": "code",
   "execution_count": null,
   "id": "a4b8c500-f292-4762-aca5-1a704025b5dd",
   "metadata": {},
   "outputs": [],
   "source": [
    "sns.boxplot(data=df_cleaned,x = \"Grade\" , y = \"Longitude\")"
   ]
  },
  {
   "cell_type": "code",
   "execution_count": null,
   "id": "cda4fe37-0a46-471c-8d8c-019f8b5370d6",
   "metadata": {},
   "outputs": [],
   "source": [
    "sns.boxplot(data=df_cleaned,x = \"Grade\" , y = \"Latitude\")"
   ]
  },
  {
   "cell_type": "code",
   "execution_count": null,
   "id": "dad21001-0c4f-4d80-9097-d17ca738c54c",
   "metadata": {},
   "outputs": [],
   "source": [
    "sns.boxplot(data=df_cleaned,x = \"Grade\" , y = \"Inspection Score\")"
   ]
  },
  {
   "cell_type": "code",
   "execution_count": null,
   "id": "ebcbf7a2-d926-4191-a774-92b44052e7e0",
   "metadata": {},
   "outputs": [],
   "source": [
    "sns.boxplot(data=df_cleaned,x = \"Grade\" , y = \"Violation Points\")"
   ]
  },
  {
   "cell_type": "code",
   "execution_count": null,
   "id": "54ace9c8-61f4-478f-bd8f-ee50ed288c1f",
   "metadata": {},
   "outputs": [],
   "source": [
    "fig , ax = plt.subplots(1,1)\n",
    "ax = sns.scatterplot(data= df_cleaned , x = \"Violation Points\" , y = \"Inspection Score\",  hue = \"Grade\",style= \"Violation Type\")\n",
    "ax.legend(loc = (1,1));"
   ]
  },
  {
   "cell_type": "code",
   "execution_count": null,
   "id": "4a5132cb-3a1e-44ed-b3bc-1f55b5c450e4",
   "metadata": {},
   "outputs": [],
   "source": [
    "fig , ax = plt.subplots(1,1)\n",
    "ax = sns.scatterplot(data= df_cleaned , y = \"Inspection Score\",  x = \"Grade\",hue= \"Violation Type\",alpha=0.5)\n",
    "ax.legend(loc = (1,1));"
   ]
  },
  {
   "cell_type": "code",
   "execution_count": null,
   "id": "e00acd40-9a83-47f0-8f22-311f2f45b5b0",
   "metadata": {},
   "outputs": [],
   "source": [
    "fig , ax = plt.subplots(1,1,figsize = (20,20))\n",
    "ax = sns.scatterplot(data= df_cleaned , y = \"Latitude\",  x = \"Longitude\",hue= \"Grade\",alpha=0.5,legend=False)\n",
    "# ax.legend.remove()\n"
   ]
  },
  {
   "cell_type": "markdown",
   "id": "9e750a96-fe96-4e2b-9a47-e3cfd96c9d74",
   "metadata": {},
   "source": [
    "### Filling Description missing values"
   ]
  },
  {
   "cell_type": "code",
   "execution_count": null,
   "id": "04d81e52-5f8d-4e66-a8b0-83971d2037c9",
   "metadata": {},
   "outputs": [],
   "source": [
    "df_cleaned[df_cleaned[\"Description\"].str.endswith(\"plumbing\")]"
   ]
  },
  {
   "cell_type": "code",
   "execution_count": null,
   "id": "c62939df-9a22-46d6-8894-bab80e2daf38",
   "metadata": {},
   "outputs": [],
   "source": [
    "df_cleaned[\"Category\"] = df_cleaned.loc[:, \"Description\"].apply(lambda x: {\"I\":1 , \"II\":2 ,\"III\":3 , \"plumbing\":0}[x.split(\"-\")[-1].split(\" \")[-1]])"
   ]
  },
  {
   "cell_type": "code",
   "execution_count": null,
   "id": "95054de1-fd34-4a0a-bacc-4d522a512c07",
   "metadata": {},
   "outputs": [],
   "source": [
    "df_cleaned"
   ]
  },
  {
   "cell_type": "code",
   "execution_count": null,
   "id": "e65c53b0-0f1b-4c16-b909-51e5cee251ca",
   "metadata": {},
   "outputs": [],
   "source": [
    "cross_tab = pd.crosstab(index= df_cleaned.Grade , columns=df_cleaned.Category,normalize=False)"
   ]
  },
  {
   "cell_type": "code",
   "execution_count": null,
   "id": "fdaf4947-8e31-49c9-aad8-ae41bb1bbd65",
   "metadata": {},
   "outputs": [],
   "source": [
    "cross_tab"
   ]
  },
  {
   "cell_type": "code",
   "execution_count": null,
   "id": "15252559-e34a-458e-9a25-9d2f1f00658c",
   "metadata": {},
   "outputs": [],
   "source": [
    "_ , p_value , dof , expeted_values = chi2_contingency(cross_tab)"
   ]
  },
  {
   "cell_type": "code",
   "execution_count": null,
   "id": "2f3fd177-f185-40d4-b8a4-2cee184d5931",
   "metadata": {},
   "outputs": [],
   "source": [
    "p_value"
   ]
  },
  {
   "cell_type": "code",
   "execution_count": null,
   "id": "157f69bf-d774-4696-a3b2-b2ed9295edd2",
   "metadata": {},
   "outputs": [],
   "source": [
    "expeted_values"
   ]
  },
  {
   "cell_type": "code",
   "execution_count": null,
   "id": "86dc131d-4969-4362-84fa-c99faa235f89",
   "metadata": {},
   "outputs": [],
   "source": [
    "sns.boxplot(data=df_cleaned , x = \"Category\" , y = \"Inspection Score\" , hue= \"Grade\")"
   ]
  },
  {
   "cell_type": "code",
   "execution_count": null,
   "id": "6209b00a-94c0-4eb9-9364-44f314b02e02",
   "metadata": {},
   "outputs": [],
   "source": [
    "sns.heatmap(pd.crosstab(index= [df_cleaned.Category , df_cleaned[\"Violation Type\"]] ,columns=df_cleaned.Grade ,normalize=False))"
   ]
  },
  {
   "cell_type": "code",
   "execution_count": null,
   "id": "7ea42619-3cf6-4976-a0f6-cc2ffb0ae988",
   "metadata": {},
   "outputs": [],
   "source": [
    "### fill values with grade 1"
   ]
  },
  {
   "cell_type": "code",
   "execution_count": null,
   "id": "b39f1a0b-6022-4848-bdb5-dbdce369c57e",
   "metadata": {},
   "outputs": [],
   "source": [
    "df_cleaned[\"Grade\"].fillna()"
   ]
  },
  {
   "cell_type": "code",
   "execution_count": null,
   "id": "eed33cf5-c150-4c81-af6e-f0018b254a33",
   "metadata": {},
   "outputs": [],
   "source": []
  },
  {
   "cell_type": "code",
   "execution_count": null,
   "id": "78ec69cb-7ce8-4165-abda-604be2a6b486",
   "metadata": {},
   "outputs": [],
   "source": [
    "q1 = np.quantile(df_cleaned[\"Inspection Score\"],0.25)\n",
    "q2 = np.quantile(df_cleaned[\"Inspection Score\"],0.5)\n",
    "q3 = np.quantile(df_cleaned[\"Inspection Score\"],0.75)\n",
    "def Inspection_Score_InRange_Categorizer( x) :\n",
    "    if x <q1:\n",
    "        return 0\n",
    "    elif x <q2:\n",
    "        return 1\n",
    "    elif x <q3 :\n",
    "        return 2\n",
    "    else: return 3"
   ]
  },
  {
   "cell_type": "code",
   "execution_count": null,
   "id": "9aa0545f-ca5d-4da2-b688-86345d1ad9ba",
   "metadata": {},
   "outputs": [],
   "source": [
    "Inspection_Score_InRange_Categorizer( 233)"
   ]
  },
  {
   "cell_type": "code",
   "execution_count": null,
   "id": "e9301e56-884d-46d9-a846-e6198c9d1fd7",
   "metadata": {},
   "outputs": [],
   "source": [
    "df_cleaned[\"Inspection_Score_InRange\"] = df_cleaned[\"Inspection Score\"].apply(lambda x:Inspection_Score_InRange_Categorizer(x))"
   ]
  },
  {
   "cell_type": "code",
   "execution_count": null,
   "id": "465a2304-5dbc-4954-8979-c6bf04cce216",
   "metadata": {},
   "outputs": [],
   "source": [
    "d = pd.crosstab(index=[df_cleaned[\"Inspection Closed Business\"],df_cleaned[\"Inspection_Score_InRange\"] , df_cleaned[\"Violation Type\"]],columns=df_cleaned.Grade)"
   ]
  },
  {
   "cell_type": "code",
   "execution_count": null,
   "id": "2938b92d-335f-4ada-9163-c88e40cf42cb",
   "metadata": {},
   "outputs": [],
   "source": [
    "d"
   ]
  },
  {
   "cell_type": "code",
   "execution_count": null,
   "id": "1f649f5f-1b4d-4a54-90e7-7ad44ed24530",
   "metadata": {},
   "outputs": [],
   "source": [
    "df_cleaned[\"Grade\"].fillna(1,inplace=True)"
   ]
  },
  {
   "cell_type": "code",
   "execution_count": null,
   "id": "3a0deb67-e8ea-4600-b8ad-6f02275e6c65",
   "metadata": {},
   "outputs": [],
   "source": [
    "df_cleaned = df_cleaned.drop([ \"Business_ID\" , \"Inspection_Serial_Num\" ,\"Inspection_Score_InRange\", \"Address\" ,\"Zip Code\", \"Inspection Business Name\" ,\"Program Identifier\"],axis=1)"
   ]
  },
  {
   "cell_type": "code",
   "execution_count": null,
   "id": "c4a1cf75-3e18-4d64-87f5-c1b33979d952",
   "metadata": {},
   "outputs": [],
   "source": [
    "df_cleaned.to_csv(\"cleaned_dataset_V1.csv\", header=True , index=False)"
   ]
  },
  {
   "cell_type": "code",
   "execution_count": 23,
   "id": "501371ea-c3e7-4939-9a9a-af9212130ef3",
   "metadata": {},
   "outputs": [],
   "source": [
    "df_cleaned_Violation_Description=df_cleaned.dropna()"
   ]
  },
  {
   "cell_type": "code",
   "execution_count": 24,
   "id": "c5000ac5-bbb1-4015-b262-acf3d2e61f1f",
   "metadata": {},
   "outputs": [],
   "source": [
    "df_cleaned_Violation_Description.to_csv(\"cleaned_dataset_V1_Violation_Description.csv\", header=True , index=False)"
   ]
  },
  {
   "cell_type": "code",
   "execution_count": 26,
   "id": "b9432c28-d95a-40c8-92b7-4c0020993c5d",
   "metadata": {},
   "outputs": [
    {
     "name": "stdout",
     "output_type": "stream",
     "text": [
      "<class 'pandas.core.frame.DataFrame'>\n",
      "Int64Index: 116325 entries, 0 to 250757\n",
      "Data columns (total 7 columns):\n",
      " #   Column                      Non-Null Count   Dtype  \n",
      "---  ------                      --------------   -----  \n",
      " 0   Inspection Score            116325 non-null  float64\n",
      " 1   Inspection Result           116325 non-null  object \n",
      " 2   Inspection Closed Business  116325 non-null  object \n",
      " 3   Violation Type              116325 non-null  object \n",
      " 4   Violation Points            116325 non-null  int64  \n",
      " 5   Grade                       116325 non-null  float64\n",
      " 6   Violation Description       116325 non-null  object \n",
      "dtypes: float64(2), int64(1), object(4)\n",
      "memory usage: 7.1+ MB\n"
     ]
    }
   ],
   "source": [
    "df_cleaned_Violation_Description.info()"
   ]
  },
  {
   "cell_type": "code",
   "execution_count": null,
   "id": "17aa3c66-3c24-424e-9af7-c684074e45a5",
   "metadata": {},
   "outputs": [],
   "source": []
  }
 ],
 "metadata": {
  "kernelspec": {
   "display_name": "Python 3 (ipykernel)",
   "language": "python",
   "name": "python3"
  },
  "language_info": {
   "codemirror_mode": {
    "name": "ipython",
    "version": 3
   },
   "file_extension": ".py",
   "mimetype": "text/x-python",
   "name": "python",
   "nbconvert_exporter": "python",
   "pygments_lexer": "ipython3",
   "version": "3.10.6"
  },
  "widgets": {
   "application/vnd.jupyter.widget-state+json": {
    "state": {},
    "version_major": 2,
    "version_minor": 0
   }
  }
 },
 "nbformat": 4,
 "nbformat_minor": 5
}
