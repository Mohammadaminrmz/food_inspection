{
 "cells": [
  {
   "cell_type": "code",
   "execution_count": 1,
   "id": "af9e39c3-77bd-4f89-8f03-476b8dcca959",
   "metadata": {},
   "outputs": [],
   "source": [
    "import pandas as pd\n",
    "import matplotlib.pyplot as plt\n",
    "import numpy as np"
   ]
  },
  {
   "cell_type": "code",
   "execution_count": 6,
   "id": "649a505b-1b4a-41fa-99bf-5a4a996d02ab",
   "metadata": {},
   "outputs": [
    {
     "name": "stderr",
     "output_type": "stream",
     "text": [
      "/tmp/ipykernel_2479/2491600647.py:1: DtypeWarning: Columns (6) have mixed types. Specify dtype option on import or set low_memory=False.\n",
      "  df2=pd.read_csv('Food_Establishment_Inspection_Data.csv')\n"
     ]
    },
    {
     "data": {
      "text/html": [
       "<div>\n",
       "<style scoped>\n",
       "    .dataframe tbody tr th:only-of-type {\n",
       "        vertical-align: middle;\n",
       "    }\n",
       "\n",
       "    .dataframe tbody tr th {\n",
       "        vertical-align: top;\n",
       "    }\n",
       "\n",
       "    .dataframe thead th {\n",
       "        text-align: right;\n",
       "    }\n",
       "</style>\n",
       "<table border=\"1\" class=\"dataframe\">\n",
       "  <thead>\n",
       "    <tr style=\"text-align: right;\">\n",
       "      <th></th>\n",
       "      <th>Name</th>\n",
       "      <th>Program Identifier</th>\n",
       "      <th>Inspection Date</th>\n",
       "      <th>Description</th>\n",
       "      <th>Address</th>\n",
       "      <th>City</th>\n",
       "      <th>Zip Code</th>\n",
       "      <th>Phone</th>\n",
       "      <th>Longitude</th>\n",
       "      <th>Latitude</th>\n",
       "      <th>...</th>\n",
       "      <th>Inspection Score</th>\n",
       "      <th>Inspection Result</th>\n",
       "      <th>Inspection Closed Business</th>\n",
       "      <th>Violation Type</th>\n",
       "      <th>Violation Description</th>\n",
       "      <th>Violation Points</th>\n",
       "      <th>Business_ID</th>\n",
       "      <th>Inspection_Serial_Num</th>\n",
       "      <th>Violation_Record_ID</th>\n",
       "      <th>Grade</th>\n",
       "    </tr>\n",
       "  </thead>\n",
       "  <tbody>\n",
       "    <tr>\n",
       "      <th>0</th>\n",
       "      <td>#807 TUTTA BELLA</td>\n",
       "      <td>#807 TUTTA BELLA</td>\n",
       "      <td>08/31/2022</td>\n",
       "      <td>Seating 0-12 - Risk Category III</td>\n",
       "      <td>2746 NE 45TH ST</td>\n",
       "      <td>SEATTLE</td>\n",
       "      <td>98105</td>\n",
       "      <td>(206) 722-6400</td>\n",
       "      <td>-122.296415</td>\n",
       "      <td>47.662311</td>\n",
       "      <td>...</td>\n",
       "      <td>10.0</td>\n",
       "      <td>Unsatisfactory</td>\n",
       "      <td>False</td>\n",
       "      <td>BLUE</td>\n",
       "      <td>3200 - Insects, rodents, animals not present; ...</td>\n",
       "      <td>5</td>\n",
       "      <td>PR0089260</td>\n",
       "      <td>DAEEWQC0L</td>\n",
       "      <td>IVQ7QYW2V</td>\n",
       "      <td>1.0</td>\n",
       "    </tr>\n",
       "    <tr>\n",
       "      <th>1</th>\n",
       "      <td>#807 TUTTA BELLA</td>\n",
       "      <td>#807 TUTTA BELLA</td>\n",
       "      <td>08/31/2022</td>\n",
       "      <td>Seating 0-12 - Risk Category III</td>\n",
       "      <td>2746 NE 45TH ST</td>\n",
       "      <td>SEATTLE</td>\n",
       "      <td>98105</td>\n",
       "      <td>(206) 722-6400</td>\n",
       "      <td>-122.296415</td>\n",
       "      <td>47.662311</td>\n",
       "      <td>...</td>\n",
       "      <td>10.0</td>\n",
       "      <td>Unsatisfactory</td>\n",
       "      <td>False</td>\n",
       "      <td>RED</td>\n",
       "      <td>0200 - Food Worker Cards current for all food ...</td>\n",
       "      <td>5</td>\n",
       "      <td>PR0089260</td>\n",
       "      <td>DAEEWQC0L</td>\n",
       "      <td>IV0J437H6</td>\n",
       "      <td>1.0</td>\n",
       "    </tr>\n",
       "  </tbody>\n",
       "</table>\n",
       "<p>2 rows × 22 columns</p>\n",
       "</div>"
      ],
      "text/plain": [
       "               Name Program Identifier Inspection Date  \\\n",
       "0  #807 TUTTA BELLA   #807 TUTTA BELLA      08/31/2022   \n",
       "1  #807 TUTTA BELLA   #807 TUTTA BELLA      08/31/2022   \n",
       "\n",
       "                        Description          Address     City Zip Code  \\\n",
       "0  Seating 0-12 - Risk Category III  2746 NE 45TH ST  SEATTLE    98105   \n",
       "1  Seating 0-12 - Risk Category III  2746 NE 45TH ST  SEATTLE    98105   \n",
       "\n",
       "            Phone   Longitude   Latitude  ... Inspection Score  \\\n",
       "0  (206) 722-6400 -122.296415  47.662311  ...             10.0   \n",
       "1  (206) 722-6400 -122.296415  47.662311  ...             10.0   \n",
       "\n",
       "  Inspection Result  Inspection Closed Business Violation Type  \\\n",
       "0    Unsatisfactory                       False           BLUE   \n",
       "1    Unsatisfactory                       False            RED   \n",
       "\n",
       "                               Violation Description Violation Points  \\\n",
       "0  3200 - Insects, rodents, animals not present; ...                5   \n",
       "1  0200 - Food Worker Cards current for all food ...                5   \n",
       "\n",
       "  Business_ID  Inspection_Serial_Num Violation_Record_ID Grade  \n",
       "0   PR0089260              DAEEWQC0L           IVQ7QYW2V   1.0  \n",
       "1   PR0089260              DAEEWQC0L           IV0J437H6   1.0  \n",
       "\n",
       "[2 rows x 22 columns]"
      ]
     },
     "execution_count": 6,
     "metadata": {},
     "output_type": "execute_result"
    }
   ],
   "source": [
    "df2=pd.read_csv('Food_Establishment_Inspection_Data.csv')\n",
    "df2.head(2)"
   ]
  },
  {
   "cell_type": "code",
   "execution_count": 7,
   "id": "e700412f-c639-490b-b2b4-091171212cf7",
   "metadata": {},
   "outputs": [
    {
     "data": {
      "text/html": [
       "<div>\n",
       "<style scoped>\n",
       "    .dataframe tbody tr th:only-of-type {\n",
       "        vertical-align: middle;\n",
       "    }\n",
       "\n",
       "    .dataframe tbody tr th {\n",
       "        vertical-align: top;\n",
       "    }\n",
       "\n",
       "    .dataframe thead th {\n",
       "        text-align: right;\n",
       "    }\n",
       "</style>\n",
       "<table border=\"1\" class=\"dataframe\">\n",
       "  <thead>\n",
       "    <tr style=\"text-align: right;\">\n",
       "      <th></th>\n",
       "      <th>Inspection Score</th>\n",
       "      <th>Inspection Result</th>\n",
       "      <th>Violation Description</th>\n",
       "      <th>Violation Points</th>\n",
       "    </tr>\n",
       "  </thead>\n",
       "  <tbody>\n",
       "    <tr>\n",
       "      <th>0</th>\n",
       "      <td>10.0</td>\n",
       "      <td>Unsatisfactory</td>\n",
       "      <td>3200 - Insects, rodents, animals not present; ...</td>\n",
       "      <td>5</td>\n",
       "    </tr>\n",
       "    <tr>\n",
       "      <th>1</th>\n",
       "      <td>10.0</td>\n",
       "      <td>Unsatisfactory</td>\n",
       "      <td>0200 - Food Worker Cards current for all food ...</td>\n",
       "      <td>5</td>\n",
       "    </tr>\n",
       "  </tbody>\n",
       "</table>\n",
       "</div>"
      ],
      "text/plain": [
       "   Inspection Score Inspection Result  \\\n",
       "0              10.0    Unsatisfactory   \n",
       "1              10.0    Unsatisfactory   \n",
       "\n",
       "                               Violation Description  Violation Points  \n",
       "0  3200 - Insects, rodents, animals not present; ...                 5  \n",
       "1  0200 - Food Worker Cards current for all food ...                 5  "
      ]
     },
     "execution_count": 7,
     "metadata": {},
     "output_type": "execute_result"
    }
   ],
   "source": [
    "df=df2.loc[:, ['Inspection Score','Inspection Result','Violation Description' , 'Violation Points']]\n",
    "# len(pd.unique(df['Violation Description']))\n",
    "df.dropna(inplace=True)\n",
    "\n",
    "df.head(2)"
   ]
  },
  {
   "cell_type": "code",
   "execution_count": 10,
   "id": "ea1cf232-98f1-4f7e-8049-44a6c5d5dc84",
   "metadata": {},
   "outputs": [
    {
     "name": "stdout",
     "output_type": "stream",
     "text": [
      "<class 'pandas.core.frame.DataFrame'>\n",
      "Int64Index: 139128 entries, 0 to 250757\n",
      "Data columns (total 5 columns):\n",
      " #   Column                 Non-Null Count   Dtype  \n",
      "---  ------                 --------------   -----  \n",
      " 0   Inspection Score       139128 non-null  float64\n",
      " 1   Inspection Result      139128 non-null  object \n",
      " 2   Violation Description  139128 non-null  string \n",
      " 3   Violation Points       139128 non-null  int64  \n",
      " 4   code                   139128 non-null  object \n",
      "dtypes: float64(1), int64(1), object(2), string(1)\n",
      "memory usage: 6.4+ MB\n"
     ]
    }
   ],
   "source": [
    "# dfe = df.explode('Violation Description')\n",
    "# df['Violation Description']=df['Violation Description'].map(str)\n",
    "df = df.astype({'Violation Description':'string'})\n",
    "\n",
    "df['code']=df['Violation Description'].apply(lambda x: x[0:4])\n",
    "df.info()\n",
    "df.dropna(inplace=True)\n",
    "# print(df.sort_values(by='code'))\n",
    "# print(df.isna())"
   ]
  },
  {
   "cell_type": "code",
   "execution_count": 11,
   "id": "a7a45f65-9f82-4a02-9b9a-7c216b05ff5f",
   "metadata": {},
   "outputs": [
    {
     "data": {
      "text/plain": [
       "0"
      ]
     },
     "execution_count": 11,
     "metadata": {},
     "output_type": "execute_result"
    }
   ],
   "source": [
    "# df3=df.groupby(by='Violation Description',as_index=False).size().sort_values(by='size', ascending=False)\n",
    "# df3\n",
    "df['code'].isna().sum()"
   ]
  },
  {
   "cell_type": "markdown",
   "id": "b650c5f9-8a09-4aa5-841b-61728d77385a",
   "metadata": {},
   "source": [
    "\n",
    "\n",
    "<div dir = \"rtl\" style=\"direction:rtl;line-height:300%;\">\n",
    "\t<font face=\"XB Zar\" size=4>\n",
    "\t\t<font color=blue size=5>\n",
    "           بررسی بیشترین دلایل مشکلات بازرسی\n",
    "            </font>\n",
    "        <br/>\n",
    "        <font>\n",
    "            بررسی بیشترین مشکلات اعلام شده در بازرسیها موارد زیر را نشان میدهد:\n",
    "            دمای مناسب \n",
    "            شست و شوی دست\n",
    "            تمیز بودن لباسها\n",
    "            نصب مناسب شیرها \n",
    "                         \n",
    "</div>"
   ]
  },
  {
   "cell_type": "code",
   "execution_count": 29,
   "id": "2bc52728-6089-4a06-a57a-b9d6f67aad2a",
   "metadata": {},
   "outputs": [
    {
     "name": "stdout",
     "output_type": "stream",
     "text": [
      "    code                              Violation Description   size\n",
      "41  2110  2110 - Proper cold holding temperatures (great...  12095\n",
      "12  0600             0600 - Adequate handwashing facilities  10320\n",
      "68  3400  3400 - Wiping cloths properly used, stored, pr...   8614\n",
      "80  4100  4100 - Warewashing facilities properly install...   6977\n",
      "42  2120  2120 - Proper cold holding temperatures ( 42 d...   6268\n",
      "81  4200  4200 - Food-contact surfaces maintained, clean...   6262\n",
      "65  3300  3300 - Potential food contamination prevented ...   4946\n",
      "4   0200  0200 - Food Worker Cards current for all food ...   4867\n",
      "82  4300  4300 - Non-food contact surfaces maintained an...   4277\n",
      "31  1600                    1600 - Proper cooling procedure   3739\n"
     ]
    }
   ],
   "source": [
    "df2=df.groupby(by=['code','Violation Description'],as_index=False,dropna=False).size().sort_values(by='size', ascending=False)\n",
    "df3=df2.head(10)\n",
    "print(df3)"
   ]
  },
  {
   "cell_type": "code",
   "execution_count": 31,
   "id": "4ed15fca-62a6-4462-8470-6fcff3a1aebf",
   "metadata": {},
   "outputs": [
    {
     "data": {
      "text/plain": [
       "Text(0.5, 1.0, '10 most occured Violation Description')"
      ]
     },
     "execution_count": 31,
     "metadata": {},
     "output_type": "execute_result"
    },
    {
     "data": {
      "image/png": "[encoded data removed]",
      "text/plain": [
       "<Figure size 640x480 with 1 Axes>"
      ]
     },
     "metadata": {},
     "output_type": "display_data"
    }
   ],
   "source": [
    "ax = df3.plot.bar(x='code', y='size', rot=0)\n",
    "plt.title('10 most occured Violation Description')"
   ]
  },
  {
   "cell_type": "code",
   "execution_count": null,
   "id": "ac3d1630-5a20-42b5-9993-a2a3ffa81aa6",
   "metadata": {},
   "outputs": [],
   "source": []
  }
 ],
 "metadata": {
  "kernelspec": {
   "display_name": "Python 3 (ipykernel)",
   "language": "python",
   "name": "python3"
  },
  "language_info": {
   "codemirror_mode": {
    "name": "ipython",
    "version": 3
   },
   "file_extension": ".py",
   "mimetype": "text/x-python",
   "name": "python",
   "nbconvert_exporter": "python",
   "pygments_lexer": "ipython3",
   "version": "3.10.6"
  },
  "widgets": {
   "application/vnd.jupyter.widget-state+json": {
    "state": {},
    "version_major": 2,
    "version_minor": 0
   }
  }
 },
 "nbformat": 4,
 "nbformat_minor": 5
}
