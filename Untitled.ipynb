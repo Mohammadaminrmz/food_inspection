{
 "cells": [
  {
   "cell_type": "code",
   "execution_count": 143,
   "id": "b7557c01",
   "metadata": {},
   "outputs": [],
   "source": [
    "import pandas as pd\n",
    "import seaborn as sns\n",
    "import matplotlib.pyplot as plt\n",
    "from pandas.plotting import scatter_matrix\n",
    "import numpy as np\n",
    "from pandas.api.types import CategoricalDtype\n",
    "from plotly.subplots import make_subplots\n",
    "import plotly.graph_objects as go\n",
    "from scipy.stats import chi2_contingency\n",
    "from scipy.stats import chi2\n",
    "import pandas as pd\n",
    "import numpy as np\n",
    "from scipy.stats import f_oneway\n",
    "import re"
   ]
  },
  {
   "cell_type": "code",
   "execution_count": 144,
   "id": "3d2ffeda",
   "metadata": {},
   "outputs": [
    {
     "data": {
      "text/html": [
       "<div>\n",
       "<style scoped>\n",
       "    .dataframe tbody tr th:only-of-type {\n",
       "        vertical-align: middle;\n",
       "    }\n",
       "\n",
       "    .dataframe tbody tr th {\n",
       "        vertical-align: top;\n",
       "    }\n",
       "\n",
       "    .dataframe thead th {\n",
       "        text-align: right;\n",
       "    }\n",
       "</style>\n",
       "<table border=\"1\" class=\"dataframe\">\n",
       "  <thead>\n",
       "    <tr style=\"text-align: right;\">\n",
       "      <th></th>\n",
       "      <th>Name</th>\n",
       "      <th>Program Identifier</th>\n",
       "      <th>Inspection Date</th>\n",
       "      <th>Description</th>\n",
       "      <th>Address</th>\n",
       "      <th>City</th>\n",
       "      <th>Zip Code</th>\n",
       "      <th>Phone</th>\n",
       "      <th>Longitude</th>\n",
       "      <th>Latitude</th>\n",
       "      <th>...</th>\n",
       "      <th>Inspection Score</th>\n",
       "      <th>Inspection Result</th>\n",
       "      <th>Inspection Closed Business</th>\n",
       "      <th>Violation Type</th>\n",
       "      <th>Violation Description</th>\n",
       "      <th>Violation Points</th>\n",
       "      <th>Business_ID</th>\n",
       "      <th>Inspection_Serial_Num</th>\n",
       "      <th>Violation_Record_ID</th>\n",
       "      <th>Grade</th>\n",
       "    </tr>\n",
       "  </thead>\n",
       "  <tbody>\n",
       "    <tr>\n",
       "      <th>0</th>\n",
       "      <td>#807 TUTTA BELLA</td>\n",
       "      <td>#807 TUTTA BELLA</td>\n",
       "      <td>08/31/2022</td>\n",
       "      <td>Seating 0-12 - Risk Category III</td>\n",
       "      <td>2746 NE 45TH ST</td>\n",
       "      <td>SEATTLE</td>\n",
       "      <td>98105</td>\n",
       "      <td>(206) 722-6400</td>\n",
       "      <td>-122.296415</td>\n",
       "      <td>47.662311</td>\n",
       "      <td>...</td>\n",
       "      <td>10.0</td>\n",
       "      <td>Unsatisfactory</td>\n",
       "      <td>False</td>\n",
       "      <td>BLUE</td>\n",
       "      <td>3200 - Insects, rodents, animals not present; ...</td>\n",
       "      <td>5</td>\n",
       "      <td>PR0089260</td>\n",
       "      <td>DAEEWQC0L</td>\n",
       "      <td>IVQ7QYW2V</td>\n",
       "      <td>1.0</td>\n",
       "    </tr>\n",
       "    <tr>\n",
       "      <th>1</th>\n",
       "      <td>#807 TUTTA BELLA</td>\n",
       "      <td>#807 TUTTA BELLA</td>\n",
       "      <td>08/31/2022</td>\n",
       "      <td>Seating 0-12 - Risk Category III</td>\n",
       "      <td>2746 NE 45TH ST</td>\n",
       "      <td>SEATTLE</td>\n",
       "      <td>98105</td>\n",
       "      <td>(206) 722-6400</td>\n",
       "      <td>-122.296415</td>\n",
       "      <td>47.662311</td>\n",
       "      <td>...</td>\n",
       "      <td>10.0</td>\n",
       "      <td>Unsatisfactory</td>\n",
       "      <td>False</td>\n",
       "      <td>RED</td>\n",
       "      <td>0200 - Food Worker Cards current for all food ...</td>\n",
       "      <td>5</td>\n",
       "      <td>PR0089260</td>\n",
       "      <td>DAEEWQC0L</td>\n",
       "      <td>IV0J437H6</td>\n",
       "      <td>1.0</td>\n",
       "    </tr>\n",
       "    <tr>\n",
       "      <th>2</th>\n",
       "      <td>#807 TUTTA BELLA</td>\n",
       "      <td>#807 TUTTA BELLA</td>\n",
       "      <td>01/13/2022</td>\n",
       "      <td>Seating 0-12 - Risk Category III</td>\n",
       "      <td>2746 NE 45TH ST</td>\n",
       "      <td>SEATTLE</td>\n",
       "      <td>98105</td>\n",
       "      <td>(206) 722-6400</td>\n",
       "      <td>-122.296415</td>\n",
       "      <td>47.662311</td>\n",
       "      <td>...</td>\n",
       "      <td>0.0</td>\n",
       "      <td>Satisfactory</td>\n",
       "      <td>False</td>\n",
       "      <td>NaN</td>\n",
       "      <td>NaN</td>\n",
       "      <td>0</td>\n",
       "      <td>PR0089260</td>\n",
       "      <td>DAWWGK08K</td>\n",
       "      <td>NaN</td>\n",
       "      <td>1.0</td>\n",
       "    </tr>\n",
       "    <tr>\n",
       "      <th>3</th>\n",
       "      <td>#807 TUTTA BELLA</td>\n",
       "      <td>#807 TUTTA BELLA</td>\n",
       "      <td>01/06/2021</td>\n",
       "      <td>Seating 0-12 - Risk Category III</td>\n",
       "      <td>2746 NE 45TH ST</td>\n",
       "      <td>SEATTLE</td>\n",
       "      <td>98105</td>\n",
       "      <td>(206) 722-6400</td>\n",
       "      <td>-122.296415</td>\n",
       "      <td>47.662311</td>\n",
       "      <td>...</td>\n",
       "      <td>0.0</td>\n",
       "      <td>Satisfactory</td>\n",
       "      <td>False</td>\n",
       "      <td>NaN</td>\n",
       "      <td>NaN</td>\n",
       "      <td>0</td>\n",
       "      <td>PR0089260</td>\n",
       "      <td>DAUHM2FT8</td>\n",
       "      <td>NaN</td>\n",
       "      <td>1.0</td>\n",
       "    </tr>\n",
       "    <tr>\n",
       "      <th>4</th>\n",
       "      <td>+MAS CAFE</td>\n",
       "      <td>+MAS CAFE</td>\n",
       "      <td>07/13/2022</td>\n",
       "      <td>Seating 0-12 - Risk Category III</td>\n",
       "      <td>1906 N 34TH ST</td>\n",
       "      <td>SEATTLE</td>\n",
       "      <td>98103</td>\n",
       "      <td>(206) 491-4694</td>\n",
       "      <td>-122.334587</td>\n",
       "      <td>47.648180</td>\n",
       "      <td>...</td>\n",
       "      <td>0.0</td>\n",
       "      <td>Satisfactory</td>\n",
       "      <td>False</td>\n",
       "      <td>NaN</td>\n",
       "      <td>NaN</td>\n",
       "      <td>0</td>\n",
       "      <td>PR0046367</td>\n",
       "      <td>DATSWIPUS</td>\n",
       "      <td>NaN</td>\n",
       "      <td>2.0</td>\n",
       "    </tr>\n",
       "  </tbody>\n",
       "</table>\n",
       "<p>5 rows × 22 columns</p>\n",
       "</div>"
      ],
      "text/plain": [
       "               Name Program Identifier Inspection Date  \\\n",
       "0  #807 TUTTA BELLA   #807 TUTTA BELLA      08/31/2022   \n",
       "1  #807 TUTTA BELLA   #807 TUTTA BELLA      08/31/2022   \n",
       "2  #807 TUTTA BELLA   #807 TUTTA BELLA      01/13/2022   \n",
       "3  #807 TUTTA BELLA   #807 TUTTA BELLA      01/06/2021   \n",
       "4         +MAS CAFE          +MAS CAFE      07/13/2022   \n",
       "\n",
       "                        Description          Address     City Zip Code  \\\n",
       "0  Seating 0-12 - Risk Category III  2746 NE 45TH ST  SEATTLE    98105   \n",
       "1  Seating 0-12 - Risk Category III  2746 NE 45TH ST  SEATTLE    98105   \n",
       "2  Seating 0-12 - Risk Category III  2746 NE 45TH ST  SEATTLE    98105   \n",
       "3  Seating 0-12 - Risk Category III  2746 NE 45TH ST  SEATTLE    98105   \n",
       "4  Seating 0-12 - Risk Category III  1906 N 34TH ST   SEATTLE    98103   \n",
       "\n",
       "            Phone   Longitude   Latitude  ... Inspection Score  \\\n",
       "0  (206) 722-6400 -122.296415  47.662311  ...             10.0   \n",
       "1  (206) 722-6400 -122.296415  47.662311  ...             10.0   \n",
       "2  (206) 722-6400 -122.296415  47.662311  ...              0.0   \n",
       "3  (206) 722-6400 -122.296415  47.662311  ...              0.0   \n",
       "4  (206) 491-4694 -122.334587  47.648180  ...              0.0   \n",
       "\n",
       "  Inspection Result  Inspection Closed Business Violation Type  \\\n",
       "0    Unsatisfactory                       False           BLUE   \n",
       "1    Unsatisfactory                       False            RED   \n",
       "2      Satisfactory                       False            NaN   \n",
       "3      Satisfactory                       False            NaN   \n",
       "4      Satisfactory                       False            NaN   \n",
       "\n",
       "                               Violation Description Violation Points  \\\n",
       "0  3200 - Insects, rodents, animals not present; ...                5   \n",
       "1  0200 - Food Worker Cards current for all food ...                5   \n",
       "2                                                NaN                0   \n",
       "3                                                NaN                0   \n",
       "4                                                NaN                0   \n",
       "\n",
       "  Business_ID  Inspection_Serial_Num Violation_Record_ID Grade  \n",
       "0   PR0089260              DAEEWQC0L           IVQ7QYW2V   1.0  \n",
       "1   PR0089260              DAEEWQC0L           IV0J437H6   1.0  \n",
       "2   PR0089260              DAWWGK08K                 NaN   1.0  \n",
       "3   PR0089260              DAUHM2FT8                 NaN   1.0  \n",
       "4   PR0046367              DATSWIPUS                 NaN   2.0  \n",
       "\n",
       "[5 rows x 22 columns]"
      ]
     },
     "execution_count": 144,
     "metadata": {},
     "output_type": "execute_result"
    }
   ],
   "source": [
    "df = pd.read_csv(\"Food.csv\" , low_memory=False)\n",
    "df.head()"
   ]
  },
  {
   "cell_type": "code",
   "execution_count": 145,
   "id": "3d1ea4af",
   "metadata": {},
   "outputs": [
    {
     "data": {
      "image/png": "[encoded data removed]",
      "text/plain": [
       "<Figure size 640x480 with 1 Axes>"
      ]
     },
     "metadata": {},
     "output_type": "display_data"
    }
   ],
   "source": [
    "dfa = pd.DataFrame({\"index\":df.columns,\n",
    "                    \"issum\":df.notnull().sum(),\n",
    "                    \"isnull\":df.isnull().sum(),}).set_index('index')\n",
    "\n",
    "dfa.plot(kind='bar', stacked=True)\n",
    "a1=len(df)*0.77 #min null\n",
    "plt.axhline(y=a1,c='r',ls='--')\n",
    "a2=len(df)*0.56 #max null\n",
    "plt.axhline(y=a2,c='r',ls='--')\n",
    "plt.show()"
   ]
  },
  {
   "cell_type": "code",
   "execution_count": 146,
   "id": "27c1338b",
   "metadata": {},
   "outputs": [],
   "source": [
    "df[\"City\"] = df[\"City\"].str.lower()\n",
    "df['day_of_week'] = pd.to_datetime(df['Inspection Date']).dt.day_name()\n",
    "df['month_name'] = pd.to_datetime(df['Inspection Date']).dt.month_name()\n",
    "df['year'] = pd.to_datetime(df['Inspection Date']).dt.year"
   ]
  },
  {
   "cell_type": "code",
   "execution_count": 147,
   "id": "dac1c556",
   "metadata": {},
   "outputs": [
    {
     "data": {
      "text/html": [
       "<div>\n",
       "<style scoped>\n",
       "    .dataframe tbody tr th:only-of-type {\n",
       "        vertical-align: middle;\n",
       "    }\n",
       "\n",
       "    .dataframe tbody tr th {\n",
       "        vertical-align: top;\n",
       "    }\n",
       "\n",
       "    .dataframe thead th {\n",
       "        text-align: right;\n",
       "    }\n",
       "</style>\n",
       "<table border=\"1\" class=\"dataframe\">\n",
       "  <thead>\n",
       "    <tr style=\"text-align: right;\">\n",
       "      <th></th>\n",
       "      <th>Name</th>\n",
       "      <th>Program Identifier</th>\n",
       "      <th>Inspection Date</th>\n",
       "      <th>City</th>\n",
       "      <th>Zip Code</th>\n",
       "      <th>Longitude</th>\n",
       "      <th>Latitude</th>\n",
       "      <th>Inspection Business Name</th>\n",
       "      <th>Inspection Type</th>\n",
       "      <th>Inspection Score</th>\n",
       "      <th>...</th>\n",
       "      <th>Violation Points</th>\n",
       "      <th>Business_ID</th>\n",
       "      <th>Inspection_Serial_Num</th>\n",
       "      <th>Violation_Record_ID</th>\n",
       "      <th>Grade</th>\n",
       "      <th>day_of_week</th>\n",
       "      <th>month_name</th>\n",
       "      <th>year</th>\n",
       "      <th>Risk Category</th>\n",
       "      <th>Type Rest</th>\n",
       "    </tr>\n",
       "  </thead>\n",
       "  <tbody>\n",
       "    <tr>\n",
       "      <th>0</th>\n",
       "      <td>#807 TUTTA BELLA</td>\n",
       "      <td>#807 TUTTA BELLA</td>\n",
       "      <td>08/31/2022</td>\n",
       "      <td>seattle</td>\n",
       "      <td>98105</td>\n",
       "      <td>-122.296415</td>\n",
       "      <td>47.662311</td>\n",
       "      <td>#807 TUTTA BELLA</td>\n",
       "      <td>Routine Inspection/Field Review</td>\n",
       "      <td>10.0</td>\n",
       "      <td>...</td>\n",
       "      <td>5</td>\n",
       "      <td>PR0089260</td>\n",
       "      <td>DAEEWQC0L</td>\n",
       "      <td>IVQ7QYW2V</td>\n",
       "      <td>1.0</td>\n",
       "      <td>Wednesday</td>\n",
       "      <td>August</td>\n",
       "      <td>2022.0</td>\n",
       "      <td>Risk Category III</td>\n",
       "      <td>Seating 0-12</td>\n",
       "    </tr>\n",
       "    <tr>\n",
       "      <th>1</th>\n",
       "      <td>#807 TUTTA BELLA</td>\n",
       "      <td>#807 TUTTA BELLA</td>\n",
       "      <td>08/31/2022</td>\n",
       "      <td>seattle</td>\n",
       "      <td>98105</td>\n",
       "      <td>-122.296415</td>\n",
       "      <td>47.662311</td>\n",
       "      <td>#807 TUTTA BELLA</td>\n",
       "      <td>Routine Inspection/Field Review</td>\n",
       "      <td>10.0</td>\n",
       "      <td>...</td>\n",
       "      <td>5</td>\n",
       "      <td>PR0089260</td>\n",
       "      <td>DAEEWQC0L</td>\n",
       "      <td>IV0J437H6</td>\n",
       "      <td>1.0</td>\n",
       "      <td>Wednesday</td>\n",
       "      <td>August</td>\n",
       "      <td>2022.0</td>\n",
       "      <td>Risk Category III</td>\n",
       "      <td>Seating 0-12</td>\n",
       "    </tr>\n",
       "    <tr>\n",
       "      <th>2</th>\n",
       "      <td>#807 TUTTA BELLA</td>\n",
       "      <td>#807 TUTTA BELLA</td>\n",
       "      <td>01/13/2022</td>\n",
       "      <td>seattle</td>\n",
       "      <td>98105</td>\n",
       "      <td>-122.296415</td>\n",
       "      <td>47.662311</td>\n",
       "      <td>#807 TUTTA BELLA</td>\n",
       "      <td>Routine Inspection/Field Review</td>\n",
       "      <td>0.0</td>\n",
       "      <td>...</td>\n",
       "      <td>0</td>\n",
       "      <td>PR0089260</td>\n",
       "      <td>DAWWGK08K</td>\n",
       "      <td>NaN</td>\n",
       "      <td>1.0</td>\n",
       "      <td>Thursday</td>\n",
       "      <td>January</td>\n",
       "      <td>2022.0</td>\n",
       "      <td>Risk Category III</td>\n",
       "      <td>Seating 0-12</td>\n",
       "    </tr>\n",
       "  </tbody>\n",
       "</table>\n",
       "<p>3 rows × 24 columns</p>\n",
       "</div>"
      ],
      "text/plain": [
       "               Name Program Identifier Inspection Date     City Zip Code  \\\n",
       "0  #807 TUTTA BELLA   #807 TUTTA BELLA      08/31/2022  seattle    98105   \n",
       "1  #807 TUTTA BELLA   #807 TUTTA BELLA      08/31/2022  seattle    98105   \n",
       "2  #807 TUTTA BELLA   #807 TUTTA BELLA      01/13/2022  seattle    98105   \n",
       "\n",
       "    Longitude   Latitude Inspection Business Name  \\\n",
       "0 -122.296415  47.662311         #807 TUTTA BELLA   \n",
       "1 -122.296415  47.662311         #807 TUTTA BELLA   \n",
       "2 -122.296415  47.662311         #807 TUTTA BELLA   \n",
       "\n",
       "                   Inspection Type  Inspection Score  ... Violation Points  \\\n",
       "0  Routine Inspection/Field Review              10.0  ...                5   \n",
       "1  Routine Inspection/Field Review              10.0  ...                5   \n",
       "2  Routine Inspection/Field Review               0.0  ...                0   \n",
       "\n",
       "  Business_ID Inspection_Serial_Num Violation_Record_ID  Grade day_of_week  \\\n",
       "0   PR0089260             DAEEWQC0L           IVQ7QYW2V    1.0   Wednesday   \n",
       "1   PR0089260             DAEEWQC0L           IV0J437H6    1.0   Wednesday   \n",
       "2   PR0089260             DAWWGK08K                 NaN    1.0    Thursday   \n",
       "\n",
       "  month_name    year       Risk Category      Type Rest  \n",
       "0     August  2022.0   Risk Category III  Seating 0-12   \n",
       "1     August  2022.0   Risk Category III  Seating 0-12   \n",
       "2    January  2022.0   Risk Category III  Seating 0-12   \n",
       "\n",
       "[3 rows x 24 columns]"
      ]
     },
     "execution_count": 147,
     "metadata": {},
     "output_type": "execute_result"
    }
   ],
   "source": [
    "df[[\"0\",\"1\",\"Risk Category\"]]= df[\"Description\"].str.split('-{1,}', expand=True)\n",
    "df[\"Type Rest\"]=df[\"0\"]+\"-\"+df[\"1\"]\n",
    "df.drop([\"0\",\"1\",\"Address\",\"Phone\",\"Description\"],inplace=True, axis=1)\n",
    "df.head(3)"
   ]
  },
  {
   "cell_type": "code",
   "execution_count": 148,
   "id": "fc456a13",
   "metadata": {},
   "outputs": [
    {
     "data": {
      "text/plain": [
       "array([' Risk Category III', ' Risk Category I', ' Risk Category II',\n",
       "       None], dtype=object)"
      ]
     },
     "execution_count": 148,
     "metadata": {},
     "output_type": "execute_result"
    }
   ],
   "source": [
    "df[\"Risk Category\"] .unique()"
   ]
  },
  {
   "cell_type": "code",
   "execution_count": 149,
   "id": "484c0980",
   "metadata": {},
   "outputs": [
    {
     "data": {
      "text/plain": [
       "array(['Routine Inspection/Field Review', 'Return Inspection',\n",
       "       'Consultation/Education - Field', nan], dtype=object)"
      ]
     },
     "execution_count": 149,
     "metadata": {},
     "output_type": "execute_result"
    }
   ],
   "source": [
    "df[\"Inspection Type\"].unique()"
   ]
  },
  {
   "cell_type": "code",
   "execution_count": 150,
   "id": "e6b1f1a6",
   "metadata": {},
   "outputs": [
    {
     "data": {
      "text/html": [
       "<div>\n",
       "<style scoped>\n",
       "    .dataframe tbody tr th:only-of-type {\n",
       "        vertical-align: middle;\n",
       "    }\n",
       "\n",
       "    .dataframe tbody tr th {\n",
       "        vertical-align: top;\n",
       "    }\n",
       "\n",
       "    .dataframe thead th {\n",
       "        text-align: right;\n",
       "    }\n",
       "</style>\n",
       "<table border=\"1\" class=\"dataframe\">\n",
       "  <thead>\n",
       "    <tr style=\"text-align: right;\">\n",
       "      <th></th>\n",
       "      <th>Name</th>\n",
       "      <th>Program Identifier</th>\n",
       "      <th>Inspection Date</th>\n",
       "      <th>City</th>\n",
       "      <th>Zip Code</th>\n",
       "      <th>Longitude</th>\n",
       "      <th>Latitude</th>\n",
       "      <th>Inspection Business Name</th>\n",
       "      <th>Inspection Type</th>\n",
       "      <th>Inspection Score</th>\n",
       "      <th>...</th>\n",
       "      <th>Violation Points</th>\n",
       "      <th>Business_ID</th>\n",
       "      <th>Inspection_Serial_Num</th>\n",
       "      <th>Violation_Record_ID</th>\n",
       "      <th>Grade</th>\n",
       "      <th>day_of_week</th>\n",
       "      <th>month_name</th>\n",
       "      <th>year</th>\n",
       "      <th>Risk Category</th>\n",
       "      <th>Type Rest</th>\n",
       "    </tr>\n",
       "  </thead>\n",
       "  <tbody>\n",
       "    <tr>\n",
       "      <th>0</th>\n",
       "      <td>#807 TUTTA BELLA</td>\n",
       "      <td>#807 TUTTA BELLA</td>\n",
       "      <td>08/31/2022</td>\n",
       "      <td>seattle</td>\n",
       "      <td>98105</td>\n",
       "      <td>-122.296415</td>\n",
       "      <td>47.662311</td>\n",
       "      <td>#807 TUTTA BELLA</td>\n",
       "      <td>Routine Inspection/Field Review</td>\n",
       "      <td>10.0</td>\n",
       "      <td>...</td>\n",
       "      <td>5</td>\n",
       "      <td>PR0089260</td>\n",
       "      <td>DAEEWQC0L</td>\n",
       "      <td>IVQ7QYW2V</td>\n",
       "      <td>1.0</td>\n",
       "      <td>Wednesday</td>\n",
       "      <td>August</td>\n",
       "      <td>2022.0</td>\n",
       "      <td>3.0</td>\n",
       "      <td>Seating 0-12</td>\n",
       "    </tr>\n",
       "    <tr>\n",
       "      <th>1</th>\n",
       "      <td>#807 TUTTA BELLA</td>\n",
       "      <td>#807 TUTTA BELLA</td>\n",
       "      <td>08/31/2022</td>\n",
       "      <td>seattle</td>\n",
       "      <td>98105</td>\n",
       "      <td>-122.296415</td>\n",
       "      <td>47.662311</td>\n",
       "      <td>#807 TUTTA BELLA</td>\n",
       "      <td>Routine Inspection/Field Review</td>\n",
       "      <td>10.0</td>\n",
       "      <td>...</td>\n",
       "      <td>5</td>\n",
       "      <td>PR0089260</td>\n",
       "      <td>DAEEWQC0L</td>\n",
       "      <td>IV0J437H6</td>\n",
       "      <td>1.0</td>\n",
       "      <td>Wednesday</td>\n",
       "      <td>August</td>\n",
       "      <td>2022.0</td>\n",
       "      <td>3.0</td>\n",
       "      <td>Seating 0-12</td>\n",
       "    </tr>\n",
       "    <tr>\n",
       "      <th>2</th>\n",
       "      <td>#807 TUTTA BELLA</td>\n",
       "      <td>#807 TUTTA BELLA</td>\n",
       "      <td>01/13/2022</td>\n",
       "      <td>seattle</td>\n",
       "      <td>98105</td>\n",
       "      <td>-122.296415</td>\n",
       "      <td>47.662311</td>\n",
       "      <td>#807 TUTTA BELLA</td>\n",
       "      <td>Routine Inspection/Field Review</td>\n",
       "      <td>0.0</td>\n",
       "      <td>...</td>\n",
       "      <td>0</td>\n",
       "      <td>PR0089260</td>\n",
       "      <td>DAWWGK08K</td>\n",
       "      <td>NaN</td>\n",
       "      <td>1.0</td>\n",
       "      <td>Thursday</td>\n",
       "      <td>January</td>\n",
       "      <td>2022.0</td>\n",
       "      <td>3.0</td>\n",
       "      <td>Seating 0-12</td>\n",
       "    </tr>\n",
       "  </tbody>\n",
       "</table>\n",
       "<p>3 rows × 24 columns</p>\n",
       "</div>"
      ],
      "text/plain": [
       "               Name Program Identifier Inspection Date     City Zip Code  \\\n",
       "0  #807 TUTTA BELLA   #807 TUTTA BELLA      08/31/2022  seattle    98105   \n",
       "1  #807 TUTTA BELLA   #807 TUTTA BELLA      08/31/2022  seattle    98105   \n",
       "2  #807 TUTTA BELLA   #807 TUTTA BELLA      01/13/2022  seattle    98105   \n",
       "\n",
       "    Longitude   Latitude Inspection Business Name  \\\n",
       "0 -122.296415  47.662311         #807 TUTTA BELLA   \n",
       "1 -122.296415  47.662311         #807 TUTTA BELLA   \n",
       "2 -122.296415  47.662311         #807 TUTTA BELLA   \n",
       "\n",
       "                   Inspection Type  Inspection Score  ... Violation Points  \\\n",
       "0  Routine Inspection/Field Review              10.0  ...                5   \n",
       "1  Routine Inspection/Field Review              10.0  ...                5   \n",
       "2  Routine Inspection/Field Review               0.0  ...                0   \n",
       "\n",
       "  Business_ID Inspection_Serial_Num Violation_Record_ID  Grade day_of_week  \\\n",
       "0   PR0089260             DAEEWQC0L           IVQ7QYW2V    1.0   Wednesday   \n",
       "1   PR0089260             DAEEWQC0L           IV0J437H6    1.0   Wednesday   \n",
       "2   PR0089260             DAWWGK08K                 NaN    1.0    Thursday   \n",
       "\n",
       "  month_name    year  Risk Category      Type Rest  \n",
       "0     August  2022.0            3.0  Seating 0-12   \n",
       "1     August  2022.0            3.0  Seating 0-12   \n",
       "2    January  2022.0            3.0  Seating 0-12   \n",
       "\n",
       "[3 rows x 24 columns]"
      ]
     },
     "execution_count": 150,
     "metadata": {},
     "output_type": "execute_result"
    }
   ],
   "source": [
    "df[\"Risk Category\"] = df[\"Risk Category\"].map({\" Risk Category III\":3 , \" Risk Category II\":2 ,\" Risk Category I\":1})\n",
    "df.head(3)"
   ]
  },
  {
   "cell_type": "code",
   "execution_count": 151,
   "id": "d1104499",
   "metadata": {},
   "outputs": [],
   "source": [
    "df[\"Zip Code\"].replace('98057-4936',\"98057\", inplace = True)\n",
    "df[\"Zip Code\"] = df[\"Zip Code\"].astype(\"int\")"
   ]
  },
  {
   "cell_type": "code",
   "execution_count": 152,
   "id": "cdc46fe6",
   "metadata": {},
   "outputs": [
    {
     "data": {
      "text/html": [
       "<div>\n",
       "<style scoped>\n",
       "    .dataframe tbody tr th:only-of-type {\n",
       "        vertical-align: middle;\n",
       "    }\n",
       "\n",
       "    .dataframe tbody tr th {\n",
       "        vertical-align: top;\n",
       "    }\n",
       "\n",
       "    .dataframe thead th {\n",
       "        text-align: right;\n",
       "    }\n",
       "</style>\n",
       "<table border=\"1\" class=\"dataframe\">\n",
       "  <thead>\n",
       "    <tr style=\"text-align: right;\">\n",
       "      <th></th>\n",
       "      <th>Zip Code</th>\n",
       "      <th>Longitude</th>\n",
       "      <th>Latitude</th>\n",
       "      <th>Inspection Score</th>\n",
       "      <th>Violation Points</th>\n",
       "      <th>Grade</th>\n",
       "      <th>year</th>\n",
       "      <th>Risk Category</th>\n",
       "    </tr>\n",
       "  </thead>\n",
       "  <tbody>\n",
       "    <tr>\n",
       "      <th>Zip Code</th>\n",
       "      <td>1.000000</td>\n",
       "      <td>-0.045273</td>\n",
       "      <td>0.017143</td>\n",
       "      <td>-0.001518</td>\n",
       "      <td>-0.003743</td>\n",
       "      <td>0.008426</td>\n",
       "      <td>-0.009308</td>\n",
       "      <td>-0.003760</td>\n",
       "    </tr>\n",
       "    <tr>\n",
       "      <th>Longitude</th>\n",
       "      <td>-0.045273</td>\n",
       "      <td>1.000000</td>\n",
       "      <td>-0.132939</td>\n",
       "      <td>-0.018130</td>\n",
       "      <td>-0.023296</td>\n",
       "      <td>-0.026243</td>\n",
       "      <td>0.005874</td>\n",
       "      <td>-0.014486</td>\n",
       "    </tr>\n",
       "    <tr>\n",
       "      <th>Latitude</th>\n",
       "      <td>0.017143</td>\n",
       "      <td>-0.132939</td>\n",
       "      <td>1.000000</td>\n",
       "      <td>0.085752</td>\n",
       "      <td>0.061266</td>\n",
       "      <td>0.024162</td>\n",
       "      <td>-0.003151</td>\n",
       "      <td>0.010231</td>\n",
       "    </tr>\n",
       "    <tr>\n",
       "      <th>Inspection Score</th>\n",
       "      <td>-0.001518</td>\n",
       "      <td>-0.018130</td>\n",
       "      <td>0.085752</td>\n",
       "      <td>1.000000</td>\n",
       "      <td>0.591312</td>\n",
       "      <td>0.291121</td>\n",
       "      <td>0.016856</td>\n",
       "      <td>0.194779</td>\n",
       "    </tr>\n",
       "    <tr>\n",
       "      <th>Violation Points</th>\n",
       "      <td>-0.003743</td>\n",
       "      <td>-0.023296</td>\n",
       "      <td>0.061266</td>\n",
       "      <td>0.591312</td>\n",
       "      <td>1.000000</td>\n",
       "      <td>0.161376</td>\n",
       "      <td>0.003888</td>\n",
       "      <td>0.140012</td>\n",
       "    </tr>\n",
       "    <tr>\n",
       "      <th>Grade</th>\n",
       "      <td>0.008426</td>\n",
       "      <td>-0.026243</td>\n",
       "      <td>0.024162</td>\n",
       "      <td>0.291121</td>\n",
       "      <td>0.161376</td>\n",
       "      <td>1.000000</td>\n",
       "      <td>0.090624</td>\n",
       "      <td>0.144882</td>\n",
       "    </tr>\n",
       "    <tr>\n",
       "      <th>year</th>\n",
       "      <td>-0.009308</td>\n",
       "      <td>0.005874</td>\n",
       "      <td>-0.003151</td>\n",
       "      <td>0.016856</td>\n",
       "      <td>0.003888</td>\n",
       "      <td>0.090624</td>\n",
       "      <td>1.000000</td>\n",
       "      <td>0.003011</td>\n",
       "    </tr>\n",
       "    <tr>\n",
       "      <th>Risk Category</th>\n",
       "      <td>-0.003760</td>\n",
       "      <td>-0.014486</td>\n",
       "      <td>0.010231</td>\n",
       "      <td>0.194779</td>\n",
       "      <td>0.140012</td>\n",
       "      <td>0.144882</td>\n",
       "      <td>0.003011</td>\n",
       "      <td>1.000000</td>\n",
       "    </tr>\n",
       "  </tbody>\n",
       "</table>\n",
       "</div>"
      ],
      "text/plain": [
       "                  Zip Code  Longitude  Latitude  Inspection Score  \\\n",
       "Zip Code          1.000000  -0.045273  0.017143         -0.001518   \n",
       "Longitude        -0.045273   1.000000 -0.132939         -0.018130   \n",
       "Latitude          0.017143  -0.132939  1.000000          0.085752   \n",
       "Inspection Score -0.001518  -0.018130  0.085752          1.000000   \n",
       "Violation Points -0.003743  -0.023296  0.061266          0.591312   \n",
       "Grade             0.008426  -0.026243  0.024162          0.291121   \n",
       "year             -0.009308   0.005874 -0.003151          0.016856   \n",
       "Risk Category    -0.003760  -0.014486  0.010231          0.194779   \n",
       "\n",
       "                  Violation Points     Grade      year  Risk Category  \n",
       "Zip Code                 -0.003743  0.008426 -0.009308      -0.003760  \n",
       "Longitude                -0.023296 -0.026243  0.005874      -0.014486  \n",
       "Latitude                  0.061266  0.024162 -0.003151       0.010231  \n",
       "Inspection Score          0.591312  0.291121  0.016856       0.194779  \n",
       "Violation Points          1.000000  0.161376  0.003888       0.140012  \n",
       "Grade                     0.161376  1.000000  0.090624       0.144882  \n",
       "year                      0.003888  0.090624  1.000000       0.003011  \n",
       "Risk Category             0.140012  0.144882  0.003011       1.000000  "
      ]
     },
     "execution_count": 152,
     "metadata": {},
     "output_type": "execute_result"
    }
   ],
   "source": [
    "df.corr(numeric_only = True)"
   ]
  },
  {
   "cell_type": "code",
   "execution_count": 153,
   "id": "0cfa0b37",
   "metadata": {},
   "outputs": [
    {
     "data": {
      "text/plain": [
       "Name                           0.0\n",
       "Business_ID                    0.0\n",
       "Violation Points               0.0\n",
       "Zip Code                       0.0\n",
       "Type Rest                      0.0\n",
       "Program Identifier             0.0\n",
       "City                           0.0\n",
       "Longitude                      0.0\n",
       "Latitude                       0.0\n",
       "year                           0.0\n",
       "month_name                     0.0\n",
       "day_of_week                    0.0\n",
       "Inspection_Serial_Num          0.0\n",
       "Inspection Date                0.0\n",
       "Inspection Result              0.0\n",
       "Inspection Type                0.0\n",
       "Inspection Business Name       0.0\n",
       "Inspection Closed Business     0.0\n",
       "Inspection Score               0.0\n",
       "Risk Category                 17.0\n",
       "Grade                         24.0\n",
       "Violation Type                44.0\n",
       "Violation_Record_ID           44.0\n",
       "Violation Description         44.0\n",
       "dtype: float64"
      ]
     },
     "execution_count": 153,
     "metadata": {},
     "output_type": "execute_result"
    }
   ],
   "source": [
    "(df.isnull().sum()*100/len(df)).sort_values().round(0)"
   ]
  },
  {
   "cell_type": "code",
   "execution_count": 154,
   "id": "ffd20dc1",
   "metadata": {},
   "outputs": [
    {
     "data": {
      "text/html": [
       "<div>\n",
       "<style scoped>\n",
       "    .dataframe tbody tr th:only-of-type {\n",
       "        vertical-align: middle;\n",
       "    }\n",
       "\n",
       "    .dataframe tbody tr th {\n",
       "        vertical-align: top;\n",
       "    }\n",
       "\n",
       "    .dataframe thead th {\n",
       "        text-align: right;\n",
       "    }\n",
       "</style>\n",
       "<table border=\"1\" class=\"dataframe\">\n",
       "  <thead>\n",
       "    <tr style=\"text-align: right;\">\n",
       "      <th></th>\n",
       "      <th>Zip Code</th>\n",
       "      <th>Longitude</th>\n",
       "      <th>Latitude</th>\n",
       "      <th>Inspection Score</th>\n",
       "      <th>Violation Points</th>\n",
       "      <th>Grade</th>\n",
       "      <th>year</th>\n",
       "      <th>Risk Category</th>\n",
       "    </tr>\n",
       "  </thead>\n",
       "  <tbody>\n",
       "    <tr>\n",
       "      <th>Zip Code</th>\n",
       "      <td>1.000000</td>\n",
       "      <td>-0.045273</td>\n",
       "      <td>0.017143</td>\n",
       "      <td>-0.001518</td>\n",
       "      <td>-0.003743</td>\n",
       "      <td>0.008426</td>\n",
       "      <td>-0.009308</td>\n",
       "      <td>-0.003760</td>\n",
       "    </tr>\n",
       "    <tr>\n",
       "      <th>Longitude</th>\n",
       "      <td>-0.045273</td>\n",
       "      <td>1.000000</td>\n",
       "      <td>-0.132939</td>\n",
       "      <td>-0.018130</td>\n",
       "      <td>-0.023296</td>\n",
       "      <td>-0.026243</td>\n",
       "      <td>0.005874</td>\n",
       "      <td>-0.014486</td>\n",
       "    </tr>\n",
       "    <tr>\n",
       "      <th>Latitude</th>\n",
       "      <td>0.017143</td>\n",
       "      <td>-0.132939</td>\n",
       "      <td>1.000000</td>\n",
       "      <td>0.085752</td>\n",
       "      <td>0.061266</td>\n",
       "      <td>0.024162</td>\n",
       "      <td>-0.003151</td>\n",
       "      <td>0.010231</td>\n",
       "    </tr>\n",
       "    <tr>\n",
       "      <th>Inspection Score</th>\n",
       "      <td>-0.001518</td>\n",
       "      <td>-0.018130</td>\n",
       "      <td>0.085752</td>\n",
       "      <td>1.000000</td>\n",
       "      <td>0.591312</td>\n",
       "      <td>0.291121</td>\n",
       "      <td>0.016856</td>\n",
       "      <td>0.194779</td>\n",
       "    </tr>\n",
       "    <tr>\n",
       "      <th>Violation Points</th>\n",
       "      <td>-0.003743</td>\n",
       "      <td>-0.023296</td>\n",
       "      <td>0.061266</td>\n",
       "      <td>0.591312</td>\n",
       "      <td>1.000000</td>\n",
       "      <td>0.161376</td>\n",
       "      <td>0.003888</td>\n",
       "      <td>0.140012</td>\n",
       "    </tr>\n",
       "    <tr>\n",
       "      <th>Grade</th>\n",
       "      <td>0.008426</td>\n",
       "      <td>-0.026243</td>\n",
       "      <td>0.024162</td>\n",
       "      <td>0.291121</td>\n",
       "      <td>0.161376</td>\n",
       "      <td>1.000000</td>\n",
       "      <td>0.090624</td>\n",
       "      <td>0.144882</td>\n",
       "    </tr>\n",
       "    <tr>\n",
       "      <th>year</th>\n",
       "      <td>-0.009308</td>\n",
       "      <td>0.005874</td>\n",
       "      <td>-0.003151</td>\n",
       "      <td>0.016856</td>\n",
       "      <td>0.003888</td>\n",
       "      <td>0.090624</td>\n",
       "      <td>1.000000</td>\n",
       "      <td>0.003011</td>\n",
       "    </tr>\n",
       "    <tr>\n",
       "      <th>Risk Category</th>\n",
       "      <td>-0.003760</td>\n",
       "      <td>-0.014486</td>\n",
       "      <td>0.010231</td>\n",
       "      <td>0.194779</td>\n",
       "      <td>0.140012</td>\n",
       "      <td>0.144882</td>\n",
       "      <td>0.003011</td>\n",
       "      <td>1.000000</td>\n",
       "    </tr>\n",
       "  </tbody>\n",
       "</table>\n",
       "</div>"
      ],
      "text/plain": [
       "                  Zip Code  Longitude  Latitude  Inspection Score  \\\n",
       "Zip Code          1.000000  -0.045273  0.017143         -0.001518   \n",
       "Longitude        -0.045273   1.000000 -0.132939         -0.018130   \n",
       "Latitude          0.017143  -0.132939  1.000000          0.085752   \n",
       "Inspection Score -0.001518  -0.018130  0.085752          1.000000   \n",
       "Violation Points -0.003743  -0.023296  0.061266          0.591312   \n",
       "Grade             0.008426  -0.026243  0.024162          0.291121   \n",
       "year             -0.009308   0.005874 -0.003151          0.016856   \n",
       "Risk Category    -0.003760  -0.014486  0.010231          0.194779   \n",
       "\n",
       "                  Violation Points     Grade      year  Risk Category  \n",
       "Zip Code                 -0.003743  0.008426 -0.009308      -0.003760  \n",
       "Longitude                -0.023296 -0.026243  0.005874      -0.014486  \n",
       "Latitude                  0.061266  0.024162 -0.003151       0.010231  \n",
       "Inspection Score          0.591312  0.291121  0.016856       0.194779  \n",
       "Violation Points          1.000000  0.161376  0.003888       0.140012  \n",
       "Grade                     0.161376  1.000000  0.090624       0.144882  \n",
       "year                      0.003888  0.090624  1.000000       0.003011  \n",
       "Risk Category             0.140012  0.144882  0.003011       1.000000  "
      ]
     },
     "execution_count": 154,
     "metadata": {},
     "output_type": "execute_result"
    }
   ],
   "source": [
    "df.corr(numeric_only=True)"
   ]
  },
  {
   "cell_type": "code",
   "execution_count": 155,
   "id": "50a14584",
   "metadata": {},
   "outputs": [
    {
     "name": "stdout",
     "output_type": "stream",
     "text": [
      "Name 9737\n",
      "Program Identifier 11188\n",
      "Inspection Date 4988\n",
      "City 56\n",
      "Zip Code 104\n",
      "Longitude 9638\n",
      "Latitude 9644\n",
      "Inspection Business Name 9166\n",
      "Inspection Type 3\n",
      "Inspection Score 139\n",
      "Inspection Result 18\n",
      "Inspection Closed Business 2\n",
      "Violation Type 2\n",
      "Violation Description 146\n",
      "Violation Points 8\n",
      "Business_ID 12400\n",
      "Inspection_Serial_Num 177014\n",
      "Violation_Record_ID 139150\n",
      "Grade 4\n",
      "day_of_week 7\n",
      "month_name 12\n",
      "year 17\n",
      "Risk Category 3\n",
      "Type Rest 20\n"
     ]
    }
   ],
   "source": [
    "for i in df.columns:\n",
    "    print(i,df[i].nunique())"
   ]
  },
  {
   "cell_type": "code",
   "execution_count": null,
   "id": "fdb1e468",
   "metadata": {},
   "outputs": [],
   "source": [
    "Name 9737 نام رستوران\n",
    "Program Identifier 11188 شناسه رستوران\n",
    "Inspection Date 4988 تاریخ بازرسی\n",
    "Description 33 توضیحات ریسک\n",
    "Address 9921 آدرس\n",
    "City 91 شهر\n",
    "Zip Code 105 کد پستی\n",
    "Phone 7282 تلفن\n",
    "Longitude 9638 طول جغرافیایی\n",
    "Latitude 9644 عرض جغرافیایی\n",
    "Inspection Business Name 9166 نام شرکتی رستوران\n",
    "Inspection Type 3 نوع بازرسی\n",
    "Inspection Score 139  امتیاز بازرسی ۰−۱۰۰\n",
    "Inspection Result 18 نتیجه بازرسی\n",
    "Inspection Closed Business 2 نتایج بولین بازرسی\n",
    "Violation Type 2 انواع تخلف red-blue\n",
    "Violation Description 146 شرح تخلف\n",
    "Violation Points 8 نقاط تخلف ۰−۳۰\n",
    "Business_ID 12400 کد رستوران\n",
    "Inspection_Serial_Num 177014 شماره سریال بازرسی\n",
    "Violation_Record_ID 139150 شناسه گزارش بازرسی\n",
    "Grade 4 درجه"
   ]
  },
  {
   "cell_type": "code",
   "execution_count": null,
   "id": "a4e479f3",
   "metadata": {},
   "outputs": [],
   "source": [
    "Categorical: \n",
    "Ordinal: "
   ]
  },
  {
   "cell_type": "code",
   "execution_count": null,
   "id": "892c80e0",
   "metadata": {},
   "outputs": [],
   "source": [
    "def bar_plot(column_name):\n",
    "    feature_data = df.dropna(axis=0)[column_name].unique()\n",
    "    feature_count= df.dropna(axis=0)[column_name].value_counts()  \n",
    "    plt.figure(figsize = (5,1))    \n",
    "    plt.bar(feature_data,feature_count)\n",
    "    plt.xticks(feature_count.index, feature_count.index.values)\n",
    "    plt.ylabel(\"Frequency\")\n",
    "    plt.title(column_name)\n",
    "    plt.show()\n",
    "    print(f\"{column_name}: \\n {feature_count}\")"
   ]
  },
  {
   "cell_type": "code",
   "execution_count": null,
   "id": "ac928f39",
   "metadata": {},
   "outputs": [],
   "source": [
    "categorical = [] \n",
    "for col in categorical:\n",
    "    bar_plot(col)"
   ]
  },
  {
   "cell_type": "code",
   "execution_count": null,
   "id": "216cdba6",
   "metadata": {},
   "outputs": [],
   "source": [
    "Continous: \n",
    "Discrete:"
   ]
  },
  {
   "cell_type": "code",
   "execution_count": null,
   "id": "c9f6dd6d",
   "metadata": {},
   "outputs": [],
   "source": [
    "def plot_hist(column_name):\n",
    "    plt.figure(figsize = (9,3))\n",
    "    plt.hist(df[column_name])\n",
    "    plt.xlabel(column_name)\n",
    "    plt.ylabel(\"Frequency\")\n",
    "    plt.title(f\"{column_name} distribution with hist\")\n",
    "    plt.show()"
   ]
  },
  {
   "cell_type": "code",
   "execution_count": null,
   "id": "14a05b69",
   "metadata": {},
   "outputs": [],
   "source": [
    "numerical = [] \n",
    "for col in numerical:\n",
    "    plot_hist(col)"
   ]
  },
  {
   "cell_type": "code",
   "execution_count": null,
   "id": "b50e5be0",
   "metadata": {},
   "outputs": [],
   "source": []
  },
  {
   "cell_type": "code",
   "execution_count": 156,
   "id": "285c793d",
   "metadata": {},
   "outputs": [
    {
     "data": {
      "text/plain": [
       "<AxesSubplot:>"
      ]
     },
     "execution_count": 156,
     "metadata": {},
     "output_type": "execute_result"
    },
    {
     "data": {
      "image/png": "[encoded data removed]",
      "text/plain": [
       "<Figure size 1500x1000 with 1 Axes>"
      ]
     },
     "metadata": {},
     "output_type": "display_data"
    }
   ],
   "source": [
    "df['Inspection Date'].value_counts().plot(kind='bar', figsize=(15,10), rot = 0)"
   ]
  },
  {
   "cell_type": "code",
   "execution_count": 126,
   "id": "58757d75",
   "metadata": {},
   "outputs": [
    {
     "data": {
      "text/plain": [
       "<AxesSubplot:>"
      ]
     },
     "execution_count": 126,
     "metadata": {},
     "output_type": "execute_result"
    },
    {
     "data": {
      "image/png": "[encoded data removed]",
      "text/plain": [
       "<Figure size 640x480 with 1 Axes>"
      ]
     },
     "metadata": {},
     "output_type": "display_data"
    }
   ],
   "source": [
    "def inspections(results):\n",
    "    if (results == \"Complete\"):\n",
    "        return \"Completed\"\n",
    "    elif (results == \"Satisfactory\"):\n",
    "        return \"Passed\"\n",
    "    elif (results == \"Incomplete\"):\n",
    "        return \"Incomplete\"\n",
    "    elif (results == \"Unsatisfactory\"):\n",
    "        return \"Unsatisfactory\"\n",
    "    else:\n",
    "        return \"Unknown\"\n",
    "\n",
    "df['Inspection Result'].apply(inspections).value_counts().plot(kind='bar',rot=0)"
   ]
  },
  {
   "cell_type": "code",
   "execution_count": null,
   "id": "56bc4424",
   "metadata": {},
   "outputs": [],
   "source": []
  },
  {
   "cell_type": "code",
   "execution_count": 158,
   "id": "c0160906",
   "metadata": {},
   "outputs": [
    {
     "data": {
      "application/vnd.plotly.v1+json": {
       "config": {
        "plotlyServerURL": "https://plot.ly"
       },
       "data": [
        {
         "name": "Total Violations",
         "type": "bar",
         "x": [
          "Wendys",
          "KFC",
          "McDonalds",
          "Subway",
          "Arbs",
          "TacoBell",
          "BurgerKing"
         ],
         "xaxis": "x",
         "y": [
          171,
          1006,
          1874,
          3497,
          230,
          362,
          66
         ],
         "yaxis": "y"
        },
        {
         "name": "Store Counts",
         "type": "bar",
         "x": [
          "Wendys",
          "KFC",
          "McDonalds",
          "Subway",
          "Arbs",
          "TacoBell",
          "BurgerKing"
         ],
         "xaxis": "x2",
         "y": [
          3,
          18,
          48,
          99,
          7,
          21,
          19
         ],
         "yaxis": "y2"
        },
        {
         "name": "Violations Per Store",
         "type": "bar",
         "x": [
          "Wendys",
          "KFC",
          "McDonalds",
          "Subway",
          "Arbs",
          "TacoBell",
          "BurgerKing"
         ],
         "xaxis": "x3",
         "y": [
          57,
          55.888888888888886,
          39.041666666666664,
          35.323232323232325,
          32.857142857142854,
          17.238095238095237,
          3.473684210526316
         ],
         "yaxis": "y3"
        }
       ],
       "layout": {
        "annotations": [
         {
          "font": {
           "size": 16
          },
          "showarrow": false,
          "text": "Total Violations",
          "x": 0.14444444444444446,
          "xanchor": "center",
          "xref": "paper",
          "y": 1,
          "yanchor": "bottom",
          "yref": "paper"
         },
         {
          "font": {
           "size": 16
          },
          "showarrow": false,
          "text": "Store Counts",
          "x": 0.5,
          "xanchor": "center",
          "xref": "paper",
          "y": 1,
          "yanchor": "bottom",
          "yref": "paper"
         },
         {
          "font": {
           "size": 16
          },
          "showarrow": false,
          "text": "Violations Per Store",
          "x": 0.8555555555555556,
          "xanchor": "center",
          "xref": "paper",
          "y": 1,
          "yanchor": "bottom",
          "yref": "paper"
         }
        ],
        "template": {
         "data": {
          "bar": [
           {
            "error_x": {
             "color": "#2a3f5f"
            },
            "error_y": {
             "color": "#2a3f5f"
            },
            "marker": {
             "line": {
              "color": "#E5ECF6",
              "width": 0.5
             },
             "pattern": {
              "fillmode": "overlay",
              "size": 10,
              "solidity": 0.2
             }
            },
            "type": "bar"
           }
          ],
          "barpolar": [
           {
            "marker": {
             "line": {
              "color": "#E5ECF6",
              "width": 0.5
             },
             "pattern": {
              "fillmode": "overlay",
              "size": 10,
              "solidity": 0.2
             }
            },
            "type": "barpolar"
           }
          ],
          "carpet": [
           {
            "aaxis": {
             "endlinecolor": "#2a3f5f",
             "gridcolor": "white",
             "linecolor": "white",
             "minorgridcolor": "white",
             "startlinecolor": "#2a3f5f"
            },
            "baxis": {
             "endlinecolor": "#2a3f5f",
             "gridcolor": "white",
             "linecolor": "white",
             "minorgridcolor": "white",
             "startlinecolor": "#2a3f5f"
            },
            "type": "carpet"
           }
          ],
          "choropleth": [
           {
            "colorbar": {
             "outlinewidth": 0,
             "ticks": ""
            },
            "type": "choropleth"
           }
          ],
          "contour": [
           {
            "colorbar": {
             "outlinewidth": 0,
             "ticks": ""
            },
            "colorscale": [
             [
              0,
              "#0d0887"
             ],
             [
              0.1111111111111111,
              "#46039f"
             ],
             [
              0.2222222222222222,
              "#7201a8"
             ],
             [
              0.3333333333333333,
              "#9c179e"
             ],
             [
              0.4444444444444444,
              "#bd3786"
             ],
             [
              0.5555555555555556,
              "#d8576b"
             ],
             [
              0.6666666666666666,
              "#ed7953"
             ],
             [
              0.7777777777777778,
              "#fb9f3a"
             ],
             [
              0.8888888888888888,
              "#fdca26"
             ],
             [
              1,
              "#f0f921"
             ]
            ],
            "type": "contour"
           }
          ],
          "contourcarpet": [
           {
            "colorbar": {
             "outlinewidth": 0,
             "ticks": ""
            },
            "type": "contourcarpet"
           }
          ],
          "heatmap": [
           {
            "colorbar": {
             "outlinewidth": 0,
             "ticks": ""
            },
            "colorscale": [
             [
              0,
              "#0d0887"
             ],
             [
              0.1111111111111111,
              "#46039f"
             ],
             [
              0.2222222222222222,
              "#7201a8"
             ],
             [
              0.3333333333333333,
              "#9c179e"
             ],
             [
              0.4444444444444444,
              "#bd3786"
             ],
             [
              0.5555555555555556,
              "#d8576b"
             ],
             [
              0.6666666666666666,
              "#ed7953"
             ],
             [
              0.7777777777777778,
              "#fb9f3a"
             ],
             [
              0.8888888888888888,
              "#fdca26"
             ],
             [
              1,
              "#f0f921"
             ]
            ],
            "type": "heatmap"
           }
          ],
          "heatmapgl": [
           {
            "colorbar": {
             "outlinewidth": 0,
             "ticks": ""
            },
            "colorscale": [
             [
              0,
              "#0d0887"
             ],
             [
              0.1111111111111111,
              "#46039f"
             ],
             [
              0.2222222222222222,
              "#7201a8"
             ],
             [
              0.3333333333333333,
              "#9c179e"
             ],
             [
              0.4444444444444444,
              "#bd3786"
             ],
             [
              0.5555555555555556,
              "#d8576b"
             ],
             [
              0.6666666666666666,
              "#ed7953"
             ],
             [
              0.7777777777777778,
              "#fb9f3a"
             ],
             [
              0.8888888888888888,
              "#fdca26"
             ],
             [
              1,
              "#f0f921"
             ]
            ],
            "type": "heatmapgl"
           }
          ],
          "histogram": [
           {
            "marker": {
             "pattern": {
              "fillmode": "overlay",
              "size": 10,
              "solidity": 0.2
             }
            },
            "type": "histogram"
           }
          ],
          "histogram2d": [
           {
            "colorbar": {
             "outlinewidth": 0,
             "ticks": ""
            },
            "colorscale": [
             [
              0,
              "#0d0887"
             ],
             [
              0.1111111111111111,
              "#46039f"
             ],
             [
              0.2222222222222222,
              "#7201a8"
             ],
             [
              0.3333333333333333,
              "#9c179e"
             ],
             [
              0.4444444444444444,
              "#bd3786"
             ],
             [
              0.5555555555555556,
              "#d8576b"
             ],
             [
              0.6666666666666666,
              "#ed7953"
             ],
             [
              0.7777777777777778,
              "#fb9f3a"
             ],
             [
              0.8888888888888888,
              "#fdca26"
             ],
             [
              1,
              "#f0f921"
             ]
            ],
            "type": "histogram2d"
           }
          ],
          "histogram2dcontour": [
           {
            "colorbar": {
             "outlinewidth": 0,
             "ticks": ""
            },
            "colorscale": [
             [
              0,
              "#0d0887"
             ],
             [
              0.1111111111111111,
              "#46039f"
             ],
             [
              0.2222222222222222,
              "#7201a8"
             ],
             [
              0.3333333333333333,
              "#9c179e"
             ],
             [
              0.4444444444444444,
              "#bd3786"
             ],
             [
              0.5555555555555556,
              "#d8576b"
             ],
             [
              0.6666666666666666,
              "#ed7953"
             ],
             [
              0.7777777777777778,
              "#fb9f3a"
             ],
             [
              0.8888888888888888,
              "#fdca26"
             ],
             [
              1,
              "#f0f921"
             ]
            ],
            "type": "histogram2dcontour"
           }
          ],
          "mesh3d": [
           {
            "colorbar": {
             "outlinewidth": 0,
             "ticks": ""
            },
            "type": "mesh3d"
           }
          ],
          "parcoords": [
           {
            "line": {
             "colorbar": {
              "outlinewidth": 0,
              "ticks": ""
             }
            },
            "type": "parcoords"
           }
          ],
          "pie": [
           {
            "automargin": true,
            "type": "pie"
           }
          ],
          "scatter": [
           {
            "fillpattern": {
             "fillmode": "overlay",
             "size": 10,
             "solidity": 0.2
            },
            "type": "scatter"
           }
          ],
          "scatter3d": [
           {
            "line": {
             "colorbar": {
              "outlinewidth": 0,
              "ticks": ""
             }
            },
            "marker": {
             "colorbar": {
              "outlinewidth": 0,
              "ticks": ""
             }
            },
            "type": "scatter3d"
           }
          ],
          "scattercarpet": [
           {
            "marker": {
             "colorbar": {
              "outlinewidth": 0,
              "ticks": ""
             }
            },
            "type": "scattercarpet"
           }
          ],
          "scattergeo": [
           {
            "marker": {
             "colorbar": {
              "outlinewidth": 0,
              "ticks": ""
             }
            },
            "type": "scattergeo"
           }
          ],
          "scattergl": [
           {
            "marker": {
             "colorbar": {
              "outlinewidth": 0,
              "ticks": ""
             }
            },
            "type": "scattergl"
           }
          ],
          "scattermapbox": [
           {
            "marker": {
             "colorbar": {
              "outlinewidth": 0,
              "ticks": ""
             }
            },
            "type": "scattermapbox"
           }
          ],
          "scatterpolar": [
           {
            "marker": {
             "colorbar": {
              "outlinewidth": 0,
              "ticks": ""
             }
            },
            "type": "scatterpolar"
           }
          ],
          "scatterpolargl": [
           {
            "marker": {
             "colorbar": {
              "outlinewidth": 0,
              "ticks": ""
             }
            },
            "type": "scatterpolargl"
           }
          ],
          "scatterternary": [
           {
            "marker": {
             "colorbar": {
              "outlinewidth": 0,
              "ticks": ""
             }
            },
            "type": "scatterternary"
           }
          ],
          "surface": [
           {
            "colorbar": {
             "outlinewidth": 0,
             "ticks": ""
            },
            "colorscale": [
             [
              0,
              "#0d0887"
             ],
             [
              0.1111111111111111,
              "#46039f"
             ],
             [
              0.2222222222222222,
              "#7201a8"
             ],
             [
              0.3333333333333333,
              "#9c179e"
             ],
             [
              0.4444444444444444,
              "#bd3786"
             ],
             [
              0.5555555555555556,
              "#d8576b"
             ],
             [
              0.6666666666666666,
              "#ed7953"
             ],
             [
              0.7777777777777778,
              "#fb9f3a"
             ],
             [
              0.8888888888888888,
              "#fdca26"
             ],
             [
              1,
              "#f0f921"
             ]
            ],
            "type": "surface"
           }
          ],
          "table": [
           {
            "cells": {
             "fill": {
              "color": "#EBF0F8"
             },
             "line": {
              "color": "white"
             }
            },
            "header": {
             "fill": {
              "color": "#C8D4E3"
             },
             "line": {
              "color": "white"
             }
            },
            "type": "table"
           }
          ]
         },
         "layout": {
          "annotationdefaults": {
           "arrowcolor": "#2a3f5f",
           "arrowhead": 0,
           "arrowwidth": 1
          },
          "autotypenumbers": "strict",
          "coloraxis": {
           "colorbar": {
            "outlinewidth": 0,
            "ticks": ""
           }
          },
          "colorscale": {
           "diverging": [
            [
             0,
             "#8e0152"
            ],
            [
             0.1,
             "#c51b7d"
            ],
            [
             0.2,
             "#de77ae"
            ],
            [
             0.3,
             "#f1b6da"
            ],
            [
             0.4,
             "#fde0ef"
            ],
            [
             0.5,
             "#f7f7f7"
            ],
            [
             0.6,
             "#e6f5d0"
            ],
            [
             0.7,
             "#b8e186"
            ],
            [
             0.8,
             "#7fbc41"
            ],
            [
             0.9,
             "#4d9221"
            ],
            [
             1,
             "#276419"
            ]
           ],
           "sequential": [
            [
             0,
             "#0d0887"
            ],
            [
             0.1111111111111111,
             "#46039f"
            ],
            [
             0.2222222222222222,
             "#7201a8"
            ],
            [
             0.3333333333333333,
             "#9c179e"
            ],
            [
             0.4444444444444444,
             "#bd3786"
            ],
            [
             0.5555555555555556,
             "#d8576b"
            ],
            [
             0.6666666666666666,
             "#ed7953"
            ],
            [
             0.7777777777777778,
             "#fb9f3a"
            ],
            [
             0.8888888888888888,
             "#fdca26"
            ],
            [
             1,
             "#f0f921"
            ]
           ],
           "sequentialminus": [
            [
             0,
             "#0d0887"
            ],
            [
             0.1111111111111111,
             "#46039f"
            ],
            [
             0.2222222222222222,
             "#7201a8"
            ],
            [
             0.3333333333333333,
             "#9c179e"
            ],
            [
             0.4444444444444444,
             "#bd3786"
            ],
            [
             0.5555555555555556,
             "#d8576b"
            ],
            [
             0.6666666666666666,
             "#ed7953"
            ],
            [
             0.7777777777777778,
             "#fb9f3a"
            ],
            [
             0.8888888888888888,
             "#fdca26"
            ],
            [
             1,
             "#f0f921"
            ]
           ]
          },
          "colorway": [
           "#636efa",
           "#EF553B",
           "#00cc96",
           "#ab63fa",
           "#FFA15A",
           "#19d3f3",
           "#FF6692",
           "#B6E880",
           "#FF97FF",
           "#FECB52"
          ],
          "font": {
           "color": "#2a3f5f"
          },
          "geo": {
           "bgcolor": "white",
           "lakecolor": "white",
           "landcolor": "#E5ECF6",
           "showlakes": true,
           "showland": true,
           "subunitcolor": "white"
          },
          "hoverlabel": {
           "align": "left"
          },
          "hovermode": "closest",
          "mapbox": {
           "style": "light"
          },
          "paper_bgcolor": "white",
          "plot_bgcolor": "#E5ECF6",
          "polar": {
           "angularaxis": {
            "gridcolor": "white",
            "linecolor": "white",
            "ticks": ""
           },
           "bgcolor": "#E5ECF6",
           "radialaxis": {
            "gridcolor": "white",
            "linecolor": "white",
            "ticks": ""
           }
          },
          "scene": {
           "xaxis": {
            "backgroundcolor": "#E5ECF6",
            "gridcolor": "white",
            "gridwidth": 2,
            "linecolor": "white",
            "showbackground": true,
            "ticks": "",
            "zerolinecolor": "white"
           },
           "yaxis": {
            "backgroundcolor": "#E5ECF6",
            "gridcolor": "white",
            "gridwidth": 2,
            "linecolor": "white",
            "showbackground": true,
            "ticks": "",
            "zerolinecolor": "white"
           },
           "zaxis": {
            "backgroundcolor": "#E5ECF6",
            "gridcolor": "white",
            "gridwidth": 2,
            "linecolor": "white",
            "showbackground": true,
            "ticks": "",
            "zerolinecolor": "white"
           }
          },
          "shapedefaults": {
           "line": {
            "color": "#2a3f5f"
           }
          },
          "ternary": {
           "aaxis": {
            "gridcolor": "white",
            "linecolor": "white",
            "ticks": ""
           },
           "baxis": {
            "gridcolor": "white",
            "linecolor": "white",
            "ticks": ""
           },
           "bgcolor": "#E5ECF6",
           "caxis": {
            "gridcolor": "white",
            "linecolor": "white",
            "ticks": ""
           }
          },
          "title": {
           "x": 0.05
          },
          "xaxis": {
           "automargin": true,
           "gridcolor": "white",
           "linecolor": "white",
           "ticks": "",
           "title": {
            "standoff": 15
           },
           "zerolinecolor": "white",
           "zerolinewidth": 2
          },
          "yaxis": {
           "automargin": true,
           "gridcolor": "white",
           "linecolor": "white",
           "ticks": "",
           "title": {
            "standoff": 15
           },
           "zerolinecolor": "white",
           "zerolinewidth": 2
          }
         }
        },
        "title": {
         "text": "Health Inspection Results by Brands- King County"
        },
        "xaxis": {
         "anchor": "y",
         "domain": [
          0,
          0.2888888888888889
         ]
        },
        "xaxis2": {
         "anchor": "y2",
         "domain": [
          0.35555555555555557,
          0.6444444444444445
         ]
        },
        "xaxis3": {
         "anchor": "y3",
         "domain": [
          0.7111111111111111,
          1
         ]
        },
        "yaxis": {
         "anchor": "x",
         "domain": [
          0,
          1
         ]
        },
        "yaxis2": {
         "anchor": "x2",
         "domain": [
          0,
          1
         ]
        },
        "yaxis3": {
         "anchor": "x3",
         "domain": [
          0,
          1
         ]
        }
       }
      },
      "text/html": [
       "<div>                            <div id=\"1e7d0906-650b-47fe-8d85-1a5b4d02fcc7\" class=\"plotly-graph-div\" style=\"height:525px; width:100%;\"></div>            <script type=\"text/javascript\">                require([\"plotly\"], function(Plotly) {                    window.PLOTLYENV=window.PLOTLYENV || {};                                    if (document.getElementById(\"1e7d0906-650b-47fe-8d85-1a5b4d02fcc7\")) {                    Plotly.newPlot(                        \"1e7d0906-650b-47fe-8d85-1a5b4d02fcc7\",                        [{\"name\":\"Total Violations\",\"x\":[\"Wendys\",\"KFC\",\"McDonalds\",\"Subway\",\"Arbs\",\"TacoBell\",\"BurgerKing\"],\"y\":[171,1006,1874,3497,230,362,66],\"type\":\"bar\",\"xaxis\":\"x\",\"yaxis\":\"y\"},{\"name\":\"Store Counts\",\"x\":[\"Wendys\",\"KFC\",\"McDonalds\",\"Subway\",\"Arbs\",\"TacoBell\",\"BurgerKing\"],\"y\":[3,18,48,99,7,21,19],\"type\":\"bar\",\"xaxis\":\"x2\",\"yaxis\":\"y2\"},{\"name\":\"Violations Per Store\",\"x\":[\"Wendys\",\"KFC\",\"McDonalds\",\"Subway\",\"Arbs\",\"TacoBell\",\"BurgerKing\"],\"y\":[57.0,55.888888888888886,39.041666666666664,35.323232323232325,32.857142857142854,17.238095238095237,3.473684210526316],\"type\":\"bar\",\"xaxis\":\"x3\",\"yaxis\":\"y3\"}],                        {\"template\":{\"data\":{\"histogram2dcontour\":[{\"type\":\"histogram2dcontour\",\"colorbar\":{\"outlinewidth\":0,\"ticks\":\"\"},\"colorscale\":[[0.0,\"#0d0887\"],[0.1111111111111111,\"#46039f\"],[0.2222222222222222,\"#7201a8\"],[0.3333333333333333,\"#9c179e\"],[0.4444444444444444,\"#bd3786\"],[0.5555555555555556,\"#d8576b\"],[0.6666666666666666,\"#ed7953\"],[0.7777777777777778,\"#fb9f3a\"],[0.8888888888888888,\"#fdca26\"],[1.0,\"#f0f921\"]]}],\"choropleth\":[{\"type\":\"choropleth\",\"colorbar\":{\"outlinewidth\":0,\"ticks\":\"\"}}],\"histogram2d\":[{\"type\":\"histogram2d\",\"colorbar\":{\"outlinewidth\":0,\"ticks\":\"\"},\"colorscale\":[[0.0,\"#0d0887\"],[0.1111111111111111,\"#46039f\"],[0.2222222222222222,\"#7201a8\"],[0.3333333333333333,\"#9c179e\"],[0.4444444444444444,\"#bd3786\"],[0.5555555555555556,\"#d8576b\"],[0.6666666666666666,\"#ed7953\"],[0.7777777777777778,\"#fb9f3a\"],[0.8888888888888888,\"#fdca26\"],[1.0,\"#f0f921\"]]}],\"heatmap\":[{\"type\":\"heatmap\",\"colorbar\":{\"outlinewidth\":0,\"ticks\":\"\"},\"colorscale\":[[0.0,\"#0d0887\"],[0.1111111111111111,\"#46039f\"],[0.2222222222222222,\"#7201a8\"],[0.3333333333333333,\"#9c179e\"],[0.4444444444444444,\"#bd3786\"],[0.5555555555555556,\"#d8576b\"],[0.6666666666666666,\"#ed7953\"],[0.7777777777777778,\"#fb9f3a\"],[0.8888888888888888,\"#fdca26\"],[1.0,\"#f0f921\"]]}],\"heatmapgl\":[{\"type\":\"heatmapgl\",\"colorbar\":{\"outlinewidth\":0,\"ticks\":\"\"},\"colorscale\":[[0.0,\"#0d0887\"],[0.1111111111111111,\"#46039f\"],[0.2222222222222222,\"#7201a8\"],[0.3333333333333333,\"#9c179e\"],[0.4444444444444444,\"#bd3786\"],[0.5555555555555556,\"#d8576b\"],[0.6666666666666666,\"#ed7953\"],[0.7777777777777778,\"#fb9f3a\"],[0.8888888888888888,\"#fdca26\"],[1.0,\"#f0f921\"]]}],\"contourcarpet\":[{\"type\":\"contourcarpet\",\"colorbar\":{\"outlinewidth\":0,\"ticks\":\"\"}}],\"contour\":[{\"type\":\"contour\",\"colorbar\":{\"outlinewidth\":0,\"ticks\":\"\"},\"colorscale\":[[0.0,\"#0d0887\"],[0.1111111111111111,\"#46039f\"],[0.2222222222222222,\"#7201a8\"],[0.3333333333333333,\"#9c179e\"],[0.4444444444444444,\"#bd3786\"],[0.5555555555555556,\"#d8576b\"],[0.6666666666666666,\"#ed7953\"],[0.7777777777777778,\"#fb9f3a\"],[0.8888888888888888,\"#fdca26\"],[1.0,\"#f0f921\"]]}],\"surface\":[{\"type\":\"surface\",\"colorbar\":{\"outlinewidth\":0,\"ticks\":\"\"},\"colorscale\":[[0.0,\"#0d0887\"],[0.1111111111111111,\"#46039f\"],[0.2222222222222222,\"#7201a8\"],[0.3333333333333333,\"#9c179e\"],[0.4444444444444444,\"#bd3786\"],[0.5555555555555556,\"#d8576b\"],[0.6666666666666666,\"#ed7953\"],[0.7777777777777778,\"#fb9f3a\"],[0.8888888888888888,\"#fdca26\"],[1.0,\"#f0f921\"]]}],\"mesh3d\":[{\"type\":\"mesh3d\",\"colorbar\":{\"outlinewidth\":0,\"ticks\":\"\"}}],\"scatter\":[{\"fillpattern\":{\"fillmode\":\"overlay\",\"size\":10,\"solidity\":0.2},\"type\":\"scatter\"}],\"parcoords\":[{\"type\":\"parcoords\",\"line\":{\"colorbar\":{\"outlinewidth\":0,\"ticks\":\"\"}}}],\"scatterpolargl\":[{\"type\":\"scatterpolargl\",\"marker\":{\"colorbar\":{\"outlinewidth\":0,\"ticks\":\"\"}}}],\"bar\":[{\"error_x\":{\"color\":\"#2a3f5f\"},\"error_y\":{\"color\":\"#2a3f5f\"},\"marker\":{\"line\":{\"color\":\"#E5ECF6\",\"width\":0.5},\"pattern\":{\"fillmode\":\"overlay\",\"size\":10,\"solidity\":0.2}},\"type\":\"bar\"}],\"scattergeo\":[{\"type\":\"scattergeo\",\"marker\":{\"colorbar\":{\"outlinewidth\":0,\"ticks\":\"\"}}}],\"scatterpolar\":[{\"type\":\"scatterpolar\",\"marker\":{\"colorbar\":{\"outlinewidth\":0,\"ticks\":\"\"}}}],\"histogram\":[{\"marker\":{\"pattern\":{\"fillmode\":\"overlay\",\"size\":10,\"solidity\":0.2}},\"type\":\"histogram\"}],\"scattergl\":[{\"type\":\"scattergl\",\"marker\":{\"colorbar\":{\"outlinewidth\":0,\"ticks\":\"\"}}}],\"scatter3d\":[{\"type\":\"scatter3d\",\"line\":{\"colorbar\":{\"outlinewidth\":0,\"ticks\":\"\"}},\"marker\":{\"colorbar\":{\"outlinewidth\":0,\"ticks\":\"\"}}}],\"scattermapbox\":[{\"type\":\"scattermapbox\",\"marker\":{\"colorbar\":{\"outlinewidth\":0,\"ticks\":\"\"}}}],\"scatterternary\":[{\"type\":\"scatterternary\",\"marker\":{\"colorbar\":{\"outlinewidth\":0,\"ticks\":\"\"}}}],\"scattercarpet\":[{\"type\":\"scattercarpet\",\"marker\":{\"colorbar\":{\"outlinewidth\":0,\"ticks\":\"\"}}}],\"carpet\":[{\"aaxis\":{\"endlinecolor\":\"#2a3f5f\",\"gridcolor\":\"white\",\"linecolor\":\"white\",\"minorgridcolor\":\"white\",\"startlinecolor\":\"#2a3f5f\"},\"baxis\":{\"endlinecolor\":\"#2a3f5f\",\"gridcolor\":\"white\",\"linecolor\":\"white\",\"minorgridcolor\":\"white\",\"startlinecolor\":\"#2a3f5f\"},\"type\":\"carpet\"}],\"table\":[{\"cells\":{\"fill\":{\"color\":\"#EBF0F8\"},\"line\":{\"color\":\"white\"}},\"header\":{\"fill\":{\"color\":\"#C8D4E3\"},\"line\":{\"color\":\"white\"}},\"type\":\"table\"}],\"barpolar\":[{\"marker\":{\"line\":{\"color\":\"#E5ECF6\",\"width\":0.5},\"pattern\":{\"fillmode\":\"overlay\",\"size\":10,\"solidity\":0.2}},\"type\":\"barpolar\"}],\"pie\":[{\"automargin\":true,\"type\":\"pie\"}]},\"layout\":{\"autotypenumbers\":\"strict\",\"colorway\":[\"#636efa\",\"#EF553B\",\"#00cc96\",\"#ab63fa\",\"#FFA15A\",\"#19d3f3\",\"#FF6692\",\"#B6E880\",\"#FF97FF\",\"#FECB52\"],\"font\":{\"color\":\"#2a3f5f\"},\"hovermode\":\"closest\",\"hoverlabel\":{\"align\":\"left\"},\"paper_bgcolor\":\"white\",\"plot_bgcolor\":\"#E5ECF6\",\"polar\":{\"bgcolor\":\"#E5ECF6\",\"angularaxis\":{\"gridcolor\":\"white\",\"linecolor\":\"white\",\"ticks\":\"\"},\"radialaxis\":{\"gridcolor\":\"white\",\"linecolor\":\"white\",\"ticks\":\"\"}},\"ternary\":{\"bgcolor\":\"#E5ECF6\",\"aaxis\":{\"gridcolor\":\"white\",\"linecolor\":\"white\",\"ticks\":\"\"},\"baxis\":{\"gridcolor\":\"white\",\"linecolor\":\"white\",\"ticks\":\"\"},\"caxis\":{\"gridcolor\":\"white\",\"linecolor\":\"white\",\"ticks\":\"\"}},\"coloraxis\":{\"colorbar\":{\"outlinewidth\":0,\"ticks\":\"\"}},\"colorscale\":{\"sequential\":[[0.0,\"#0d0887\"],[0.1111111111111111,\"#46039f\"],[0.2222222222222222,\"#7201a8\"],[0.3333333333333333,\"#9c179e\"],[0.4444444444444444,\"#bd3786\"],[0.5555555555555556,\"#d8576b\"],[0.6666666666666666,\"#ed7953\"],[0.7777777777777778,\"#fb9f3a\"],[0.8888888888888888,\"#fdca26\"],[1.0,\"#f0f921\"]],\"sequentialminus\":[[0.0,\"#0d0887\"],[0.1111111111111111,\"#46039f\"],[0.2222222222222222,\"#7201a8\"],[0.3333333333333333,\"#9c179e\"],[0.4444444444444444,\"#bd3786\"],[0.5555555555555556,\"#d8576b\"],[0.6666666666666666,\"#ed7953\"],[0.7777777777777778,\"#fb9f3a\"],[0.8888888888888888,\"#fdca26\"],[1.0,\"#f0f921\"]],\"diverging\":[[0,\"#8e0152\"],[0.1,\"#c51b7d\"],[0.2,\"#de77ae\"],[0.3,\"#f1b6da\"],[0.4,\"#fde0ef\"],[0.5,\"#f7f7f7\"],[0.6,\"#e6f5d0\"],[0.7,\"#b8e186\"],[0.8,\"#7fbc41\"],[0.9,\"#4d9221\"],[1,\"#276419\"]]},\"xaxis\":{\"gridcolor\":\"white\",\"linecolor\":\"white\",\"ticks\":\"\",\"title\":{\"standoff\":15},\"zerolinecolor\":\"white\",\"automargin\":true,\"zerolinewidth\":2},\"yaxis\":{\"gridcolor\":\"white\",\"linecolor\":\"white\",\"ticks\":\"\",\"title\":{\"standoff\":15},\"zerolinecolor\":\"white\",\"automargin\":true,\"zerolinewidth\":2},\"scene\":{\"xaxis\":{\"backgroundcolor\":\"#E5ECF6\",\"gridcolor\":\"white\",\"linecolor\":\"white\",\"showbackground\":true,\"ticks\":\"\",\"zerolinecolor\":\"white\",\"gridwidth\":2},\"yaxis\":{\"backgroundcolor\":\"#E5ECF6\",\"gridcolor\":\"white\",\"linecolor\":\"white\",\"showbackground\":true,\"ticks\":\"\",\"zerolinecolor\":\"white\",\"gridwidth\":2},\"zaxis\":{\"backgroundcolor\":\"#E5ECF6\",\"gridcolor\":\"white\",\"linecolor\":\"white\",\"showbackground\":true,\"ticks\":\"\",\"zerolinecolor\":\"white\",\"gridwidth\":2}},\"shapedefaults\":{\"line\":{\"color\":\"#2a3f5f\"}},\"annotationdefaults\":{\"arrowcolor\":\"#2a3f5f\",\"arrowhead\":0,\"arrowwidth\":1},\"geo\":{\"bgcolor\":\"white\",\"landcolor\":\"#E5ECF6\",\"subunitcolor\":\"white\",\"showland\":true,\"showlakes\":true,\"lakecolor\":\"white\"},\"title\":{\"x\":0.05},\"mapbox\":{\"style\":\"light\"}}},\"xaxis\":{\"anchor\":\"y\",\"domain\":[0.0,0.2888888888888889]},\"yaxis\":{\"anchor\":\"x\",\"domain\":[0.0,1.0]},\"xaxis2\":{\"anchor\":\"y2\",\"domain\":[0.35555555555555557,0.6444444444444445]},\"yaxis2\":{\"anchor\":\"x2\",\"domain\":[0.0,1.0]},\"xaxis3\":{\"anchor\":\"y3\",\"domain\":[0.7111111111111111,1.0]},\"yaxis3\":{\"anchor\":\"x3\",\"domain\":[0.0,1.0]},\"annotations\":[{\"font\":{\"size\":16},\"showarrow\":false,\"text\":\"Total Violations\",\"x\":0.14444444444444446,\"xanchor\":\"center\",\"xref\":\"paper\",\"y\":1.0,\"yanchor\":\"bottom\",\"yref\":\"paper\"},{\"font\":{\"size\":16},\"showarrow\":false,\"text\":\"Store Counts\",\"x\":0.5,\"xanchor\":\"center\",\"xref\":\"paper\",\"y\":1.0,\"yanchor\":\"bottom\",\"yref\":\"paper\"},{\"font\":{\"size\":16},\"showarrow\":false,\"text\":\"Violations Per Store\",\"x\":0.8555555555555556,\"xanchor\":\"center\",\"xref\":\"paper\",\"y\":1.0,\"yanchor\":\"bottom\",\"yref\":\"paper\"}],\"title\":{\"text\":\"Health Inspection Results by Brands- King County\"}},                        {\"responsive\": true}                    ).then(function(){\n",
       "                            \n",
       "var gd = document.getElementById('1e7d0906-650b-47fe-8d85-1a5b4d02fcc7');\n",
       "var x = new MutationObserver(function (mutations, observer) {{\n",
       "        var display = window.getComputedStyle(gd).display;\n",
       "        if (!display || display === 'none') {{\n",
       "            console.log([gd, 'removed!']);\n",
       "            Plotly.purge(gd);\n",
       "            observer.disconnect();\n",
       "        }}\n",
       "}});\n",
       "\n",
       "// Listen for the removal of the full notebook cells\n",
       "var notebookContainer = gd.closest('#notebook-container');\n",
       "if (notebookContainer) {{\n",
       "    x.observe(notebookContainer, {childList: true});\n",
       "}}\n",
       "\n",
       "// Listen for the clearing of the current output cell\n",
       "var outputEl = gd.closest('.output');\n",
       "if (outputEl) {{\n",
       "    x.observe(outputEl, {childList: true});\n",
       "}}\n",
       "\n",
       "                        })                };                });            </script>        </div>"
      ]
     },
     "metadata": {},
     "output_type": "display_data"
    }
   ],
   "source": [
    "df2=df.copy()\n",
    "df2['Name']=df2['Name'].str.lower()\n",
    "df2['Name']=df2['Name'].apply(lambda x: re.sub(r'\\W+','',x))\n",
    "\n",
    "df2=df2['Name'].value_counts().sort_values(ascending=False).to_frame()\n",
    "df2.reset_index(inplace=True)\n",
    "df2.columns=['Name','Nbr of Violations']\n",
    "# print(f'There are a total of {len(dh2)} Unique Facilities in dataset')\n",
    "\n",
    "\n",
    "brands=['burgerki','donalds','subway','tacobell','kfc','arbys','wendys']\n",
    "df2=df2[df2['Name'].str.contains('|'.join(brands))]\n",
    "\n",
    "df2.loc[df2['Name'].str.contains(r'burgerk'),'Brand']='BurgerKing'\n",
    "df2.loc[df2['Name'].str.contains(r'donalds'),'Brand']='McDonalds'\n",
    "df2.loc[df2['Name'].str.contains(r'arby'),'Brand']='Arbs'\n",
    "df2.loc[df2['Name'].str.contains(r'subway'),'Brand']='Subway'\n",
    "df2.loc[df2['Name'].str.contains(r'tacobe'),'Brand']='TacoBell'\n",
    "df2.loc[df2['Name'].str.contains(r'wendy'),'Brand']='Wendys'\n",
    "df2.loc[df2['Name'].str.contains(r'kfc'),'Brand']='KFC'\n",
    "\n",
    "\n",
    "df3=df2[['Brand','Nbr of Violations','Name']].groupby(['Brand']).agg({'Nbr of Violations':'sum',\n",
    "                                'Name':'count'})\n",
    "df3.reset_index(inplace=True)\n",
    "df3.columns=['Brands','Nbr_of_Violations','Stores']\n",
    "\n",
    "\n",
    "df3['Violations_per_store']=df3['Nbr_of_Violations']/df3['Stores']\n",
    "df3.sort_values('Violations_per_store',ascending=False,inplace=True)\n",
    "\n",
    "\n",
    "fig7=make_subplots(rows=1,cols=3,subplot_titles=(\"Total Violations\",\"Store Counts\",\"Violations Per Store\"))\n",
    "\n",
    "trace_1=go.Bar(x=df3.Brands,y=df3.Nbr_of_Violations,name='Total Violations')\n",
    "trace_2=go.Bar(x=df3.Brands,y=df3.Stores,name='Store Counts')\n",
    "trace_3=go.Bar(x=df3.Brands,y=df3.Violations_per_store,name='Violations Per Store')\n",
    "\n",
    "fig7.append_trace(trace_1,1,1)\n",
    "fig7.append_trace(trace_2,1,2)\n",
    "fig7.append_trace(trace_3,1,3)\n",
    "\n",
    "fig7.update_layout(title='Health Inspection Results by Brands- King County')\n",
    "\n",
    "fig7.show()"
   ]
  },
  {
   "cell_type": "code",
   "execution_count": 126,
   "id": "bca85635",
   "metadata": {},
   "outputs": [
    {
     "data": {
      "text/plain": [
       "7206"
      ]
     },
     "execution_count": 126,
     "metadata": {},
     "output_type": "execute_result"
    }
   ],
   "source": [
    "df2[\"Nbr of Violations\"].sum()"
   ]
  },
  {
   "cell_type": "code",
   "execution_count": null,
   "id": "6bb4e671",
   "metadata": {},
   "outputs": [],
   "source": [
    " اونهایی که بسته شدن چند سال کار کرده بودن؟\n",
    "اونهایی که بسته شدن چقدرشون برندهای مهم بودن؟\n",
    "شکایت هایی که موجب بسته شدن؟\n",
    "احتمال تخلف سابقه قبلی\n",
    "بسته شدن چند بار تخلف کردن؟"
   ]
  }
 ],
 "metadata": {
  "kernelspec": {
   "display_name": "Python 3 (ipykernel)",
   "language": "python",
   "name": "python3"
  },
  "language_info": {
   "codemirror_mode": {
    "name": "ipython",
    "version": 3
   },
   "file_extension": ".py",
   "mimetype": "text/x-python",
   "name": "python",
   "nbconvert_exporter": "python",
   "pygments_lexer": "ipython3",
   "version": "3.10.6"
  }
 },
 "nbformat": 4,
 "nbformat_minor": 5
}
