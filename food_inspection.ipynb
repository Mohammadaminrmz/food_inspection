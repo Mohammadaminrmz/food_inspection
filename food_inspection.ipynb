{
 "cells": [
  {
   "cell_type": "code",
   "execution_count": 9,
   "id": "dfbfe636-7940-42eb-b456-ce9b0f8ebfc4",
   "metadata": {},
   "outputs": [],
   "source": [
    "import pandas as pd\n",
    "import seaborn as sns\n",
    "import matplotlib.pyplot as plt\n",
    "import numpy as np"
   ]
  },
  {
   "cell_type": "code",
   "execution_count": 2,
   "id": "8c007c3c-e99b-4267-9118-1a5cf96320be",
   "metadata": {},
   "outputs": [
    {
     "name": "stderr",
     "output_type": "stream",
     "text": [
      "C:\\Users\\aminr\\anaconda3\\lib\\site-packages\\IPython\\core\\interactiveshell.py:3134: DtypeWarning: Columns (6) have mixed types.Specify dtype option on import or set low_memory=False.\n",
      "  has_raised = await self.run_ast_nodes(code_ast.body, cell_name,\n"
     ]
    }
   ],
   "source": [
    "df = pd.read_csv(\"Food_Establishment_Inspection_Data.csv\")"
   ]
  },
  {
   "cell_type": "code",
   "execution_count": 3,
   "id": "b6288e0d-6a3b-4a81-8f3e-f937a3105781",
   "metadata": {},
   "outputs": [
    {
     "data": {
      "text/plain": [
       "Index(['Name', 'Program Identifier', 'Inspection Date', 'Description',\n",
       "       'Address', 'City', 'Zip Code', 'Phone', 'Longitude', 'Latitude',\n",
       "       'Inspection Business Name', 'Inspection Type', 'Inspection Score',\n",
       "       'Inspection Result', 'Inspection Closed Business', 'Violation Type',\n",
       "       'Violation Description', 'Violation Points', 'Business_ID',\n",
       "       'Inspection_Serial_Num', 'Violation_Record_ID', 'Grade'],\n",
       "      dtype='object')"
      ]
     },
     "execution_count": 3,
     "metadata": {},
     "output_type": "execute_result"
    }
   ],
   "source": [
    "df.columns"
   ]
  },
  {
   "cell_type": "code",
   "execution_count": 3,
   "id": "f11c7bda-7bb6-46e2-a92b-c479f3740578",
   "metadata": {},
   "outputs": [],
   "source": [
    "df_cleaned = df[['Inspection Score' ,'Inspection Result' ,  'Inspection Closed Business' , 'Violation Type','Violation Points',\"Grade\"]]"
   ]
  },
  {
   "cell_type": "code",
   "execution_count": 4,
   "id": "8717c165-318e-4eb4-b4ba-6f2d1f06c2ef",
   "metadata": {},
   "outputs": [
    {
     "data": {
      "text/html": [
       "<div>\n",
       "<style scoped>\n",
       "    .dataframe tbody tr th:only-of-type {\n",
       "        vertical-align: middle;\n",
       "    }\n",
       "\n",
       "    .dataframe tbody tr th {\n",
       "        vertical-align: top;\n",
       "    }\n",
       "\n",
       "    .dataframe thead th {\n",
       "        text-align: right;\n",
       "    }\n",
       "</style>\n",
       "<table border=\"1\" class=\"dataframe\">\n",
       "  <thead>\n",
       "    <tr style=\"text-align: right;\">\n",
       "      <th></th>\n",
       "      <th>Inspection Score</th>\n",
       "      <th>Inspection Result</th>\n",
       "      <th>Inspection Closed Business</th>\n",
       "      <th>Violation Type</th>\n",
       "      <th>Violation Points</th>\n",
       "      <th>Grade</th>\n",
       "    </tr>\n",
       "  </thead>\n",
       "  <tbody>\n",
       "    <tr>\n",
       "      <th>0</th>\n",
       "      <td>10.0</td>\n",
       "      <td>Unsatisfactory</td>\n",
       "      <td>False</td>\n",
       "      <td>BLUE</td>\n",
       "      <td>5</td>\n",
       "      <td>1.0</td>\n",
       "    </tr>\n",
       "    <tr>\n",
       "      <th>1</th>\n",
       "      <td>10.0</td>\n",
       "      <td>Unsatisfactory</td>\n",
       "      <td>False</td>\n",
       "      <td>RED</td>\n",
       "      <td>5</td>\n",
       "      <td>1.0</td>\n",
       "    </tr>\n",
       "    <tr>\n",
       "      <th>2</th>\n",
       "      <td>0.0</td>\n",
       "      <td>Satisfactory</td>\n",
       "      <td>False</td>\n",
       "      <td>NaN</td>\n",
       "      <td>0</td>\n",
       "      <td>1.0</td>\n",
       "    </tr>\n",
       "    <tr>\n",
       "      <th>3</th>\n",
       "      <td>0.0</td>\n",
       "      <td>Satisfactory</td>\n",
       "      <td>False</td>\n",
       "      <td>NaN</td>\n",
       "      <td>0</td>\n",
       "      <td>1.0</td>\n",
       "    </tr>\n",
       "    <tr>\n",
       "      <th>4</th>\n",
       "      <td>0.0</td>\n",
       "      <td>Satisfactory</td>\n",
       "      <td>False</td>\n",
       "      <td>NaN</td>\n",
       "      <td>0</td>\n",
       "      <td>2.0</td>\n",
       "    </tr>\n",
       "    <tr>\n",
       "      <th>...</th>\n",
       "      <td>...</td>\n",
       "      <td>...</td>\n",
       "      <td>...</td>\n",
       "      <td>...</td>\n",
       "      <td>...</td>\n",
       "      <td>...</td>\n",
       "    </tr>\n",
       "    <tr>\n",
       "      <th>250753</th>\n",
       "      <td>0.0</td>\n",
       "      <td>Complete</td>\n",
       "      <td>False</td>\n",
       "      <td>NaN</td>\n",
       "      <td>0</td>\n",
       "      <td>2.0</td>\n",
       "    </tr>\n",
       "    <tr>\n",
       "      <th>250754</th>\n",
       "      <td>0.0</td>\n",
       "      <td>Satisfactory</td>\n",
       "      <td>False</td>\n",
       "      <td>NaN</td>\n",
       "      <td>0</td>\n",
       "      <td>2.0</td>\n",
       "    </tr>\n",
       "    <tr>\n",
       "      <th>250755</th>\n",
       "      <td>0.0</td>\n",
       "      <td>Satisfactory</td>\n",
       "      <td>False</td>\n",
       "      <td>NaN</td>\n",
       "      <td>0</td>\n",
       "      <td>2.0</td>\n",
       "    </tr>\n",
       "    <tr>\n",
       "      <th>250756</th>\n",
       "      <td>0.0</td>\n",
       "      <td>Complete</td>\n",
       "      <td>False</td>\n",
       "      <td>NaN</td>\n",
       "      <td>0</td>\n",
       "      <td>2.0</td>\n",
       "    </tr>\n",
       "    <tr>\n",
       "      <th>250757</th>\n",
       "      <td>5.0</td>\n",
       "      <td>Unsatisfactory</td>\n",
       "      <td>False</td>\n",
       "      <td>RED</td>\n",
       "      <td>5</td>\n",
       "      <td>1.0</td>\n",
       "    </tr>\n",
       "  </tbody>\n",
       "</table>\n",
       "<p>250758 rows × 6 columns</p>\n",
       "</div>"
      ],
      "text/plain": [
       "        Inspection Score Inspection Result Inspection Closed Business  \\\n",
       "0                   10.0    Unsatisfactory                      False   \n",
       "1                   10.0    Unsatisfactory                      False   \n",
       "2                    0.0      Satisfactory                      False   \n",
       "3                    0.0      Satisfactory                      False   \n",
       "4                    0.0      Satisfactory                      False   \n",
       "...                  ...               ...                        ...   \n",
       "250753               0.0          Complete                      False   \n",
       "250754               0.0      Satisfactory                      False   \n",
       "250755               0.0      Satisfactory                      False   \n",
       "250756               0.0          Complete                      False   \n",
       "250757               5.0    Unsatisfactory                      False   \n",
       "\n",
       "       Violation Type  Violation Points  Grade  \n",
       "0                BLUE                 5    1.0  \n",
       "1                 RED                 5    1.0  \n",
       "2                 NaN                 0    1.0  \n",
       "3                 NaN                 0    1.0  \n",
       "4                 NaN                 0    2.0  \n",
       "...               ...               ...    ...  \n",
       "250753            NaN                 0    2.0  \n",
       "250754            NaN                 0    2.0  \n",
       "250755            NaN                 0    2.0  \n",
       "250756            NaN                 0    2.0  \n",
       "250757            RED                 5    1.0  \n",
       "\n",
       "[250758 rows x 6 columns]"
      ]
     },
     "execution_count": 4,
     "metadata": {},
     "output_type": "execute_result"
    }
   ],
   "source": [
    "df_cleaned"
   ]
  },
  {
   "cell_type": "code",
   "execution_count": 18,
   "id": "ddda5952-9232-43f6-b4e5-5f4c2632608b",
   "metadata": {},
   "outputs": [
    {
     "data": {
      "text/plain": [
       "<AxesSubplot:xlabel='Violation Type', ylabel='Violation Points'>"
      ]
     },
     "execution_count": 18,
     "metadata": {},
     "output_type": "execute_result"
    },
    {
     "data": {
      "image/png": "[encoded data removed]",
      "text/plain": [
       "<Figure size 432x288 with 1 Axes>"
      ]
     },
     "metadata": {
      "needs_background": "light"
     },
     "output_type": "display_data"
    }
   ],
   "source": [
    "sns.boxplot(data= df_cleaned , x = \"Violation Type\" , y = \"Violation Points\")"
   ]
  },
  {
   "cell_type": "code",
   "execution_count": 22,
   "id": "0cd34a7b-61e4-4974-aea2-2979efd2db10",
   "metadata": {},
   "outputs": [
    {
     "data": {
      "text/plain": [
       "<AxesSubplot:xlabel='Violation Points', ylabel='Inspection Result'>"
      ]
     },
     "execution_count": 22,
     "metadata": {},
     "output_type": "execute_result"
    },
    {
     "data": {
      "image/png": "[encoded data removed]",
      "text/plain": [
       "<Figure size 432x288 with 1 Axes>"
      ]
     },
     "metadata": {
      "needs_background": "light"
     },
     "output_type": "display_data"
    }
   ],
   "source": [
    "sns.scatterplot(data= df_cleaned , x = \"Violation Points\" , y = \"Inspection Result\", hue = \"Violation Type\")"
   ]
  },
  {
   "cell_type": "code",
   "execution_count": 5,
   "id": "aeb0ec8a-4a1f-4d5d-827b-6663db4c8f44",
   "metadata": {},
   "outputs": [
    {
     "data": {
      "text/html": [
       "<div>\n",
       "<style scoped>\n",
       "    .dataframe tbody tr th:only-of-type {\n",
       "        vertical-align: middle;\n",
       "    }\n",
       "\n",
       "    .dataframe tbody tr th {\n",
       "        vertical-align: top;\n",
       "    }\n",
       "\n",
       "    .dataframe thead th {\n",
       "        text-align: right;\n",
       "    }\n",
       "</style>\n",
       "<table border=\"1\" class=\"dataframe\">\n",
       "  <thead>\n",
       "    <tr style=\"text-align: right;\">\n",
       "      <th></th>\n",
       "      <th>Inspection Score</th>\n",
       "      <th>Violation Points</th>\n",
       "      <th>Grade</th>\n",
       "    </tr>\n",
       "  </thead>\n",
       "  <tbody>\n",
       "    <tr>\n",
       "      <th>Inspection Score</th>\n",
       "      <td>1.000000</td>\n",
       "      <td>0.591614</td>\n",
       "      <td>0.291949</td>\n",
       "    </tr>\n",
       "    <tr>\n",
       "      <th>Violation Points</th>\n",
       "      <td>0.591614</td>\n",
       "      <td>1.000000</td>\n",
       "      <td>0.161187</td>\n",
       "    </tr>\n",
       "    <tr>\n",
       "      <th>Grade</th>\n",
       "      <td>0.291949</td>\n",
       "      <td>0.161187</td>\n",
       "      <td>1.000000</td>\n",
       "    </tr>\n",
       "  </tbody>\n",
       "</table>\n",
       "</div>"
      ],
      "text/plain": [
       "                  Inspection Score  Violation Points     Grade\n",
       "Inspection Score          1.000000          0.591614  0.291949\n",
       "Violation Points          0.591614          1.000000  0.161187\n",
       "Grade                     0.291949          0.161187  1.000000"
      ]
     },
     "execution_count": 5,
     "metadata": {},
     "output_type": "execute_result"
    }
   ],
   "source": [
    "df_cleaned.corr()"
   ]
  },
  {
   "cell_type": "code",
   "execution_count": 6,
   "id": "e564e4f7-15d4-4a7a-b133-89a2aa682521",
   "metadata": {},
   "outputs": [
    {
     "data": {
      "text/html": [
       "<div>\n",
       "<style scoped>\n",
       "    .dataframe tbody tr th:only-of-type {\n",
       "        vertical-align: middle;\n",
       "    }\n",
       "\n",
       "    .dataframe tbody tr th {\n",
       "        vertical-align: top;\n",
       "    }\n",
       "\n",
       "    .dataframe thead th {\n",
       "        text-align: right;\n",
       "    }\n",
       "</style>\n",
       "<table border=\"1\" class=\"dataframe\">\n",
       "  <thead>\n",
       "    <tr style=\"text-align: right;\">\n",
       "      <th></th>\n",
       "      <th>Inspection Score</th>\n",
       "      <th>Violation Points</th>\n",
       "      <th>Grade</th>\n",
       "    </tr>\n",
       "  </thead>\n",
       "  <tbody>\n",
       "    <tr>\n",
       "      <th>count</th>\n",
       "      <td>249952.000000</td>\n",
       "      <td>250758.000000</td>\n",
       "      <td>191184.000000</td>\n",
       "    </tr>\n",
       "    <tr>\n",
       "      <th>mean</th>\n",
       "      <td>14.137182</td>\n",
       "      <td>4.408805</td>\n",
       "      <td>1.381611</td>\n",
       "    </tr>\n",
       "    <tr>\n",
       "      <th>std</th>\n",
       "      <td>20.281002</td>\n",
       "      <td>6.159414</td>\n",
       "      <td>0.579045</td>\n",
       "    </tr>\n",
       "    <tr>\n",
       "      <th>min</th>\n",
       "      <td>-30.000000</td>\n",
       "      <td>0.000000</td>\n",
       "      <td>1.000000</td>\n",
       "    </tr>\n",
       "    <tr>\n",
       "      <th>25%</th>\n",
       "      <td>0.000000</td>\n",
       "      <td>0.000000</td>\n",
       "      <td>1.000000</td>\n",
       "    </tr>\n",
       "    <tr>\n",
       "      <th>50%</th>\n",
       "      <td>5.000000</td>\n",
       "      <td>3.000000</td>\n",
       "      <td>1.000000</td>\n",
       "    </tr>\n",
       "    <tr>\n",
       "      <th>75%</th>\n",
       "      <td>20.000000</td>\n",
       "      <td>5.000000</td>\n",
       "      <td>2.000000</td>\n",
       "    </tr>\n",
       "    <tr>\n",
       "      <th>max</th>\n",
       "      <td>178.000000</td>\n",
       "      <td>30.000000</td>\n",
       "      <td>4.000000</td>\n",
       "    </tr>\n",
       "  </tbody>\n",
       "</table>\n",
       "</div>"
      ],
      "text/plain": [
       "       Inspection Score  Violation Points          Grade\n",
       "count     249952.000000     250758.000000  191184.000000\n",
       "mean          14.137182          4.408805       1.381611\n",
       "std           20.281002          6.159414       0.579045\n",
       "min          -30.000000          0.000000       1.000000\n",
       "25%            0.000000          0.000000       1.000000\n",
       "50%            5.000000          3.000000       1.000000\n",
       "75%           20.000000          5.000000       2.000000\n",
       "max          178.000000         30.000000       4.000000"
      ]
     },
     "execution_count": 6,
     "metadata": {},
     "output_type": "execute_result"
    }
   ],
   "source": [
    "df_cleaned.describe()"
   ]
  },
  {
   "cell_type": "code",
   "execution_count": 31,
   "id": "3bbbea91-89c9-470c-a53b-29839b1c548c",
   "metadata": {},
   "outputs": [
    {
     "data": {
      "text/plain": [
       "91"
      ]
     },
     "execution_count": 31,
     "metadata": {},
     "output_type": "execute_result"
    }
   ],
   "source": [
    "df_cleaned[\"City\"].nunique()"
   ]
  },
  {
   "cell_type": "code",
   "execution_count": 25,
   "id": "6c124988-3950-4cff-b8b9-5a54a67623f7",
   "metadata": {},
   "outputs": [
    {
     "data": {
      "text/plain": [
       "array(['SEATTLE', 'RENTON', 'REDMOND', 'KENT', 'BELLEVUE', 'KENMORE',\n",
       "       'Seattle', 'ISSAQUAH', 'Bellevue', 'WOODINVILLE', 'KIRKLAND',\n",
       "       'Kent', 'DES MOINES', 'BURIEN', 'Renton', 'Woodinville',\n",
       "       'MAPLE VALLEY', 'AUBURN', 'Kirkland', 'Bothell', 'FEDERAL WAY',\n",
       "       'TUKWILA', 'Auburn', 'ENUMCLAW', 'SHORELINE', 'Redmond',\n",
       "       'Federal Way', 'BLACK DIAMOND', 'SNOQUALMIE', 'LAKE FOREST PARK',\n",
       "       'COVINGTON', 'SAMMAMISH', 'MERCER ISLAND', 'NORTH BEND', 'DUVALL',\n",
       "       'Shoreline', 'NEWCASTLE', 'BOTHELL', 'SEA TAC', 'VASHON ISLAND',\n",
       "       'SEATAC', 'Pacific', 'PACIFIC', 'Mercer Island', 'Burien',\n",
       "       'North Bend', 'NORMANDY PARK', 'Issaquah', 'FALL CITY',\n",
       "       'SNOQUALMIE PASS', 'seattle', 'BUCKLEY', 'CLYDE HILL', 'SNOHOMISH',\n",
       "       'Black Diamond', 'Carnation', 'CARNATION', 'Des Moines',\n",
       "       'Enumclaw', 'Duvall', 'Vashon', 'ALGONA', 'BELLINGHAM',\n",
       "       'Skykomish', 'Maple Valley', 'Fall City', 'TACOMA', 'Tukwila',\n",
       "       'LYNNWOOD', 'PUYALLUP', 'Snoqualmie', 'Seatac', 'HOBART',\n",
       "       'MOUNT VERNON', 'EVERETT', 'RAVENSDALE', 'LAKEWOOD', 'MEDINA',\n",
       "       'WEST SEATTLE', 'Lake Forest Park', 'Medina', 'North BEnd',\n",
       "       'PRESTON', 'Ravensdale', 'Mukilteo', 'MUKILTEO', 'Normandy Park',\n",
       "       'SKYKOMISH', 'PARKLAND', 'BARING', 'Sammamish'], dtype=object)"
      ]
     },
     "execution_count": 25,
     "metadata": {},
     "output_type": "execute_result"
    }
   ],
   "source": [
    "df_cleaned[\"City\"].unique()"
   ]
  },
  {
   "cell_type": "code",
   "execution_count": 27,
   "id": "cad34cf8-2ed7-42d4-9d25-c8c14e921cd5",
   "metadata": {},
   "outputs": [
    {
     "data": {
      "text/plain": [
       "SEATTLE        74068\n",
       "Seattle        45308\n",
       "BELLEVUE       12276\n",
       "KENT            9750\n",
       "FEDERAL WAY     8314\n",
       "               ...  \n",
       "BUCKLEY            2\n",
       "Seatac             2\n",
       "PARKLAND           1\n",
       "BELLINGHAM         1\n",
       "North BEnd         1\n",
       "Name: City, Length: 91, dtype: int64"
      ]
     },
     "execution_count": 27,
     "metadata": {},
     "output_type": "execute_result"
    }
   ],
   "source": [
    "df_cleaned[\"City\"].value_counts()"
   ]
  },
  {
   "cell_type": "code",
   "execution_count": 30,
   "id": "7f2dd1ed-9f36-4f0f-b5af-8fa793198cc8",
   "metadata": {},
   "outputs": [
    {
     "data": {
      "text/plain": [
       "array([ 1.,  2., nan,  3.,  4.])"
      ]
     },
     "execution_count": 30,
     "metadata": {},
     "output_type": "execute_result"
    }
   ],
   "source": [
    "df_cleaned[\"Grade\"].unique()"
   ]
  },
  {
   "cell_type": "code",
   "execution_count": 32,
   "id": "6d8632b7-7934-4a17-9202-8ac74b6cc289",
   "metadata": {},
   "outputs": [
    {
     "data": {
      "text/plain": [
       "array(['Unsatisfactory', 'Satisfactory', nan, 'Complete', 'Incomplete',\n",
       "       'Not Confirmed', 'Not Accessible', 'Not Ready For Inspection',\n",
       "       'Baseline Data', 'Needs Assessment', 'Not Applicable',\n",
       "       'Not In Compliance', 'No Longer At Location', 'Confirmed',\n",
       "       'Increased Knowledge', 'Out of Business', 'Not Permitted',\n",
       "       'In Compliance', 'Not Tested'], dtype=object)"
      ]
     },
     "execution_count": 32,
     "metadata": {},
     "output_type": "execute_result"
    }
   ],
   "source": [
    "df_cleaned[\"Inspection Result\"].unique()"
   ]
  },
  {
   "cell_type": "code",
   "execution_count": 33,
   "id": "82778842-6ff5-49d3-80fb-20a227799a65",
   "metadata": {},
   "outputs": [
    {
     "data": {
      "text/plain": [
       "18"
      ]
     },
     "execution_count": 33,
     "metadata": {},
     "output_type": "execute_result"
    }
   ],
   "source": [
    "df_cleaned[\"Inspection Result\"].nunique()"
   ]
  },
  {
   "cell_type": "code",
   "execution_count": 34,
   "id": "4f93d9c3-d4de-4977-9aee-48aee0557e8a",
   "metadata": {},
   "outputs": [
    {
     "data": {
      "text/plain": [
       "array([ 5,  0,  2, 25, 10,  3, 15, 30], dtype=int64)"
      ]
     },
     "execution_count": 34,
     "metadata": {},
     "output_type": "execute_result"
    }
   ],
   "source": [
    "df_cleaned[\"Violation Points\"].unique()"
   ]
  },
  {
   "cell_type": "code",
   "execution_count": 35,
   "id": "f50299d1-462d-440d-a4d9-77fbe6422804",
   "metadata": {},
   "outputs": [
    {
     "data": {
      "text/plain": [
       "array([ 10.,   0.,  47.,  nan,  25.,  20.,   5.,  32.,  70.,  15.,  33.,\n",
       "        45.,  30.,  18.,  13.,  35.,  38.,  23.,  12.,  55.,  40.,  48.,\n",
       "       100.,  17.,  37.,  41.,   7.,   8.,  28.,   6.,  56.,  43.,   2.,\n",
       "        53.,   3.,  63.,  73.,  26.,  50.,  21.,  65.,  36.,  58.,  68.,\n",
       "        22.,  19.,  16.,  27.,  67.,  80.,  42.,  57.,  39.,  60.,   4.,\n",
       "        75.,  90.,  85.,  24.,  11.,  51.,  34.,   9.,  31.,  52.,  88.,\n",
       "        92.,  64.,  46.,  77.,  95.,  83.,  78., 125., 110., 105.,  66.,\n",
       "        71., 121.,  93.,  86.,  96., 113.,  44., 115.,  91., 135., 152.,\n",
       "        62.,  81.,  29.,  49., 133.,  99.,  79., 128.,  54.,  89., 104.,\n",
       "        76.,  61.,  87., 101., 106., 103.,  98.,  82., 108.,  -1.,  72.,\n",
       "       129.,  59., 119., 123.,  14.,  84., 114., 111., 107., 126., 132.,\n",
       "       118., 178., 146., 136., 130.,  -2., 112., 102.,  69.,  74., 140.,\n",
       "       143., 149., 109., 120., -30., 139., 131., 141.])"
      ]
     },
     "execution_count": 35,
     "metadata": {},
     "output_type": "execute_result"
    }
   ],
   "source": [
    "df_cleaned[\"Inspection Score\"].unique()"
   ]
  },
  {
   "cell_type": "code",
   "execution_count": 37,
   "id": "2976ac64-7e97-497e-94d2-86ce509f7ed6",
   "metadata": {},
   "outputs": [
    {
     "data": {
      "text/plain": [
       "array(['Routine Inspection/Field Review', 'Return Inspection',\n",
       "       'Consultation/Education - Field', nan], dtype=object)"
      ]
     },
     "execution_count": 37,
     "metadata": {},
     "output_type": "execute_result"
    }
   ],
   "source": [
    "df_cleaned[\"Inspection Type\"].unique()"
   ]
  },
  {
   "cell_type": "code",
   "execution_count": 38,
   "id": "d35f94b9-37d6-448b-9098-a907f7092adc",
   "metadata": {},
   "outputs": [
    {
     "data": {
      "text/plain": [
       "<AxesSubplot:xlabel='Grade', ylabel='Count'>"
      ]
     },
     "execution_count": 38,
     "metadata": {},
     "output_type": "execute_result"
    },
    {
     "data": {
      "image/png": "[encoded data removed]",
      "text/plain": [
       "<Figure size 432x288 with 1 Axes>"
      ]
     },
     "metadata": {
      "needs_background": "light"
     },
     "output_type": "display_data"
    }
   ],
   "source": [
    "sns.histplot(data= df_cleaned , x = \"Grade\")"
   ]
  },
  {
   "cell_type": "code",
   "execution_count": 40,
   "id": "3ebbe966-888b-43de-b8b0-cc9e2f61b600",
   "metadata": {},
   "outputs": [
    {
     "data": {
      "text/plain": [
       "<AxesSubplot:xlabel='Violation Points', ylabel='Count'>"
      ]
     },
     "execution_count": 40,
     "metadata": {},
     "output_type": "execute_result"
    },
    {
     "data": {
      "image/png": "[encoded data removed]",
      "text/plain": [
       "<Figure size 432x288 with 1 Axes>"
      ]
     },
     "metadata": {
      "needs_background": "light"
     },
     "output_type": "display_data"
    }
   ],
   "source": [
    "sns.histplot(data= df_cleaned , x = \"Violation Points\")"
   ]
  },
  {
   "cell_type": "code",
   "execution_count": 9,
   "id": "b86b739b-f297-459d-b028-74f7854f81dc",
   "metadata": {},
   "outputs": [
    {
     "data": {
      "image/png": "[encoded data removed]",
      "text/plain": [
       "<Figure size 432x288 with 1 Axes>"
      ]
     },
     "metadata": {
      "needs_background": "light"
     },
     "output_type": "display_data"
    }
   ],
   "source": [
    "ax = sns.barplot(data=df_cleaned , x = \"Inspection Result\" , y= \"Inspection Score\")\n",
    "ax.tick_params(axis='x', rotation=90)"
   ]
  },
  {
   "cell_type": "code",
   "execution_count": null,
   "id": "23190ceb-cb55-4185-a2d8-12f46eccc88e",
   "metadata": {},
   "outputs": [],
   "source": []
  }
 ],
 "metadata": {
  "kernelspec": {
   "display_name": "Python 3",
   "language": "python",
   "name": "python3"
  },
  "language_info": {
   "codemirror_mode": {
    "name": "ipython",
    "version": 3
   },
   "file_extension": ".py",
   "mimetype": "text/x-python",
   "name": "python",
   "nbconvert_exporter": "python",
   "pygments_lexer": "ipython3",
   "version": "3.9.7"
  }
 },
 "nbformat": 4,
 "nbformat_minor": 5
}
