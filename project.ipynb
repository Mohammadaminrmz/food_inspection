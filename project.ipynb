{
 "cells": [
  {
   "cell_type": "code",
   "execution_count": 1,
   "id": "5cf2ade2-2fce-476e-9eca-f1bb8442e362",
   "metadata": {},
   "outputs": [],
   "source": [
    "import numpy as np\n",
    "import pandas as pd\n",
    "import plotly.express as px\n",
    "from scipy import stats\n",
    "from pandas.api.types import CategoricalDtype\n",
    "import seaborn as sns\n",
    "import matplotlib.pyplot as plt\n",
    "\n",
    "\n",
    "\n"
   ]
  },
  {
   "cell_type": "code",
   "execution_count": null,
   "id": "5f3211d0",
   "metadata": {},
   "outputs": [],
   "source": [
    "df2 = pd.read_csv('cleaned_dataset_V1.csv',low_memory=False)\n",
    "df2.Description.unique()"
   ]
  },
  {
   "cell_type": "markdown",
   "id": "1808bfcc",
   "metadata": {},
   "source": [
    "# Prepare DF"
   ]
  },
  {
   "cell_type": "markdown",
   "id": "ee66692d",
   "metadata": {},
   "source": [
    "<h3>حذف ستون هایی که در این بخش از تحلیل مورد استفاده قرار نخواهند گرفت<h3>"
   ]
  },
  {
   "cell_type": "code",
   "execution_count": 12,
   "id": "7bbca062",
   "metadata": {},
   "outputs": [
    {
     "data": {
      "text/html": [
       "<div>\n",
       "<style scoped>\n",
       "    .dataframe tbody tr th:only-of-type {\n",
       "        vertical-align: middle;\n",
       "    }\n",
       "\n",
       "    .dataframe tbody tr th {\n",
       "        vertical-align: top;\n",
       "    }\n",
       "\n",
       "    .dataframe thead th {\n",
       "        text-align: right;\n",
       "    }\n",
       "</style>\n",
       "<table border=\"1\" class=\"dataframe\">\n",
       "  <thead>\n",
       "    <tr style=\"text-align: right;\">\n",
       "      <th></th>\n",
       "      <th>Name</th>\n",
       "      <th>Longitude</th>\n",
       "      <th>Latitude</th>\n",
       "      <th>Inspection Type</th>\n",
       "      <th>Inspection Score</th>\n",
       "      <th>Inspection Result</th>\n",
       "      <th>Inspection Closed Business</th>\n",
       "      <th>Violation Type</th>\n",
       "      <th>Violation Points</th>\n",
       "      <th>Grade</th>\n",
       "      <th>Category</th>\n",
       "      <th>capacity</th>\n",
       "    </tr>\n",
       "  </thead>\n",
       "  <tbody>\n",
       "    <tr>\n",
       "      <th>0</th>\n",
       "      <td>#807 TUTTA BELLA</td>\n",
       "      <td>-122.296415</td>\n",
       "      <td>47.662311</td>\n",
       "      <td>Routine Inspection/Field Review</td>\n",
       "      <td>10.0</td>\n",
       "      <td>Unsatisfactory</td>\n",
       "      <td>False</td>\n",
       "      <td>BLUE</td>\n",
       "      <td>5</td>\n",
       "      <td>1.0</td>\n",
       "      <td>3</td>\n",
       "      <td>Seating 0-12</td>\n",
       "    </tr>\n",
       "    <tr>\n",
       "      <th>1</th>\n",
       "      <td>#807 TUTTA BELLA</td>\n",
       "      <td>-122.296415</td>\n",
       "      <td>47.662311</td>\n",
       "      <td>Routine Inspection/Field Review</td>\n",
       "      <td>10.0</td>\n",
       "      <td>Unsatisfactory</td>\n",
       "      <td>False</td>\n",
       "      <td>RED</td>\n",
       "      <td>5</td>\n",
       "      <td>1.0</td>\n",
       "      <td>3</td>\n",
       "      <td>Seating 0-12</td>\n",
       "    </tr>\n",
       "    <tr>\n",
       "      <th>2</th>\n",
       "      <td>#807 TUTTA BELLA</td>\n",
       "      <td>-122.296415</td>\n",
       "      <td>47.662311</td>\n",
       "      <td>Routine Inspection/Field Review</td>\n",
       "      <td>0.0</td>\n",
       "      <td>Satisfactory</td>\n",
       "      <td>False</td>\n",
       "      <td>BLUE</td>\n",
       "      <td>0</td>\n",
       "      <td>1.0</td>\n",
       "      <td>3</td>\n",
       "      <td>Seating 0-12</td>\n",
       "    </tr>\n",
       "    <tr>\n",
       "      <th>3</th>\n",
       "      <td>#807 TUTTA BELLA</td>\n",
       "      <td>-122.296415</td>\n",
       "      <td>47.662311</td>\n",
       "      <td>Routine Inspection/Field Review</td>\n",
       "      <td>0.0</td>\n",
       "      <td>Satisfactory</td>\n",
       "      <td>False</td>\n",
       "      <td>BLUE</td>\n",
       "      <td>0</td>\n",
       "      <td>1.0</td>\n",
       "      <td>3</td>\n",
       "      <td>Seating 0-12</td>\n",
       "    </tr>\n",
       "    <tr>\n",
       "      <th>4</th>\n",
       "      <td>+MAS CAFE</td>\n",
       "      <td>-122.334587</td>\n",
       "      <td>47.648180</td>\n",
       "      <td>Return Inspection</td>\n",
       "      <td>0.0</td>\n",
       "      <td>Satisfactory</td>\n",
       "      <td>False</td>\n",
       "      <td>BLUE</td>\n",
       "      <td>0</td>\n",
       "      <td>2.0</td>\n",
       "      <td>3</td>\n",
       "      <td>Seating 0-12</td>\n",
       "    </tr>\n",
       "  </tbody>\n",
       "</table>\n",
       "</div>"
      ],
      "text/plain": [
       "               Name   Longitude   Latitude                  Inspection Type  \\\n",
       "0  #807 TUTTA BELLA -122.296415  47.662311  Routine Inspection/Field Review   \n",
       "1  #807 TUTTA BELLA -122.296415  47.662311  Routine Inspection/Field Review   \n",
       "2  #807 TUTTA BELLA -122.296415  47.662311  Routine Inspection/Field Review   \n",
       "3  #807 TUTTA BELLA -122.296415  47.662311  Routine Inspection/Field Review   \n",
       "4         +MAS CAFE -122.334587  47.648180                Return Inspection   \n",
       "\n",
       "   Inspection Score Inspection Result  Inspection Closed Business  \\\n",
       "0              10.0    Unsatisfactory                       False   \n",
       "1              10.0    Unsatisfactory                       False   \n",
       "2               0.0      Satisfactory                       False   \n",
       "3               0.0      Satisfactory                       False   \n",
       "4               0.0      Satisfactory                       False   \n",
       "\n",
       "  Violation Type  Violation Points  Grade  Category      capacity  \n",
       "0           BLUE                 5    1.0         3  Seating 0-12  \n",
       "1            RED                 5    1.0         3  Seating 0-12  \n",
       "2           BLUE                 0    1.0         3  Seating 0-12  \n",
       "3           BLUE                 0    1.0         3  Seating 0-12  \n",
       "4           BLUE                 0    2.0         3  Seating 0-12  "
      ]
     },
     "execution_count": 12,
     "metadata": {},
     "output_type": "execute_result"
    }
   ],
   "source": [
    "df = pd.read_csv('cleaned_dataset_V1.csv',low_memory=False)\n",
    "df[['capacity','Risk_category']]= df.Description.str.split(\" - \",expand=True)\n",
    "df.drop(['Description','Inspection Date','City','Risk_category'],axis=1,inplace=True)\n",
    "df.head()"
   ]
  },
  {
   "cell_type": "markdown",
   "id": "580c56aa",
   "metadata": {},
   "source": [
    "## \n",
    " بررسی ارتباط بین ستون های باقی ماند\n",
    " "
   ]
  },
  {
   "cell_type": "code",
   "execution_count": 3,
   "id": "0a53c96b",
   "metadata": {},
   "outputs": [
    {
     "data": {
      "text/html": [
       "<div>\n",
       "<style scoped>\n",
       "    .dataframe tbody tr th:only-of-type {\n",
       "        vertical-align: middle;\n",
       "    }\n",
       "\n",
       "    .dataframe tbody tr th {\n",
       "        vertical-align: top;\n",
       "    }\n",
       "\n",
       "    .dataframe thead th {\n",
       "        text-align: right;\n",
       "    }\n",
       "</style>\n",
       "<table border=\"1\" class=\"dataframe\">\n",
       "  <thead>\n",
       "    <tr style=\"text-align: right;\">\n",
       "      <th></th>\n",
       "      <th>Inspection Score</th>\n",
       "      <th>Inspection Closed Business</th>\n",
       "      <th>Violation Type</th>\n",
       "      <th>Violation Points</th>\n",
       "    </tr>\n",
       "  </thead>\n",
       "  <tbody>\n",
       "    <tr>\n",
       "      <th>Inspection Score</th>\n",
       "      <td>1.000000</td>\n",
       "      <td>0.218054</td>\n",
       "      <td>0.460634</td>\n",
       "      <td>0.591615</td>\n",
       "    </tr>\n",
       "    <tr>\n",
       "      <th>Inspection Closed Business</th>\n",
       "      <td>0.218054</td>\n",
       "      <td>1.000000</td>\n",
       "      <td>0.041770</td>\n",
       "      <td>0.051581</td>\n",
       "    </tr>\n",
       "    <tr>\n",
       "      <th>Violation Type</th>\n",
       "      <td>0.460634</td>\n",
       "      <td>0.041770</td>\n",
       "      <td>1.000000</td>\n",
       "      <td>0.705074</td>\n",
       "    </tr>\n",
       "    <tr>\n",
       "      <th>Violation Points</th>\n",
       "      <td>0.591615</td>\n",
       "      <td>0.051581</td>\n",
       "      <td>0.705074</td>\n",
       "      <td>1.000000</td>\n",
       "    </tr>\n",
       "  </tbody>\n",
       "</table>\n",
       "</div>"
      ],
      "text/plain": [
       "                            Inspection Score  Inspection Closed Business  \\\n",
       "Inspection Score                    1.000000                    0.218054   \n",
       "Inspection Closed Business          0.218054                    1.000000   \n",
       "Violation Type                      0.460634                    0.041770   \n",
       "Violation Points                    0.591615                    0.051581   \n",
       "\n",
       "                            Violation Type  Violation Points  \n",
       "Inspection Score                  0.460634          0.591615  \n",
       "Inspection Closed Business        0.041770          0.051581  \n",
       "Violation Type                    1.000000          0.705074  \n",
       "Violation Points                  0.705074          1.000000  "
      ]
     },
     "execution_count": 3,
     "metadata": {},
     "output_type": "execute_result"
    }
   ],
   "source": [
    "correlation_data=df.replace({'Violation Type':{'BLUE':0,'RED':1}})\n",
    "\n",
    "correlation_data['Violation Type']=correlation_data[['Violation Type']].astype(int)\n",
    "correlation_data=correlation_data.iloc[:,[4,6,7,8]]\n",
    "correlation_data.corr()\n"
   ]
  },
  {
   "cell_type": "markdown",
   "id": "1ad85fd2",
   "metadata": {},
   "source": [
    "<h3 style='color:green'>نکته:<br> Inspection Closed Business<h3>"
   ]
  },
  {
   "cell_type": "markdown",
   "id": "547428ab",
   "metadata": {},
   "source": [
    "<h4> ارتباط بسیار کم با دیگر پارامترها <br> بالاترین ارتباط با Inspection Score<h4>"
   ]
  },
  {
   "cell_type": "markdown",
   "id": "4c709012",
   "metadata": {},
   "source": [
    "<h4> <h4>"
   ]
  },
  {
   "cell_type": "markdown",
   "id": "2cee72dd",
   "metadata": {},
   "source": [
    "## بررسی بین ۲ پارامتر که بیشترین میزان ارتباط را داشته اند\n",
    "- Violation Points\n",
    "- Violation Type"
   ]
  },
  {
   "cell_type": "code",
   "execution_count": 4,
   "id": "3419f662",
   "metadata": {},
   "outputs": [
    {
     "data": {
      "text/plain": [
       "<AxesSubplot:xlabel='Inspection Score', ylabel='Violation Points'>"
      ]
     },
     "execution_count": 4,
     "metadata": {},
     "output_type": "execute_result"
    },
    {
     "name": "stderr",
     "output_type": "stream",
     "text": [
      "/Users/arianzarifian/opt/anaconda3/lib/python3.9/site-packages/IPython/core/pylabtools.py:151: UserWarning: Creating legend with loc=\"best\" can be slow with large amounts of data.\n",
      "  fig.canvas.print_figure(bytes_io, **kw)\n"
     ]
    },
    {
     "data": {
      "image/png": "[encoded data removed]",
      "text/plain": [
       "<Figure size 432x288 with 1 Axes>"
      ]
     },
     "metadata": {
      "needs_background": "light"
     },
     "output_type": "display_data"
    }
   ],
   "source": [
    "sns.scatterplot(data=correlation_data, x=\"Inspection Score\", y=\"Violation Points\", hue=\"Violation Type\")"
   ]
  },
  {
   "cell_type": "markdown",
   "id": "b72471dd",
   "metadata": {},
   "source": [
    "<h3 style='color:red'> violation type and violation points<h3>\n",
    "<h4>با توجه به جدول همبستگی ارتباط ۲ پارامتر <br>\n",
    "violation typeو violation point<br>\n",
    "بسیار قوی می باشد و همچنین با کمک از نمودار زیر این موضوع تایید می گردد\n",
    "در نتیجه :\n",
    "<br>۱- با دانستن نوع دسته بندی violation type \n",
    "<br>۲- کاهش پیچیدگی تحلیل <br>\n",
    "ستون violation points را حذف می نماییم<h4>"
   ]
  },
  {
   "cell_type": "code",
   "execution_count": 22,
   "id": "3a967f10",
   "metadata": {},
   "outputs": [],
   "source": [
    "df.drop(['Violation Points'],axis=1,inplace=True)"
   ]
  },
  {
   "cell_type": "markdown",
   "id": "c287d799",
   "metadata": {},
   "source": [
    "# Risk Category 1"
   ]
  },
  {
   "cell_type": "markdown",
   "id": "b3640d9a",
   "metadata": {},
   "source": [
    "## بررسی اولیه دیتا"
   ]
  },
  {
   "cell_type": "code",
   "execution_count": 23,
   "id": "ee6d047a",
   "metadata": {},
   "outputs": [
    {
     "name": "stderr",
     "output_type": "stream",
     "text": [
      "/var/folders/hn/cjgf8lqs607cny8_gr2rmcpc0000gn/T/ipykernel_835/3650485257.py:3: SettingWithCopyWarning: \n",
      "A value is trying to be set on a copy of a slice from a DataFrame\n",
      "\n",
      "See the caveats in the documentation: https://pandas.pydata.org/pandas-docs/stable/user_guide/indexing.html#returning-a-view-versus-a-copy\n",
      "  R1.drop(['Category'],axis=1,inplace=True)\n"
     ]
    },
    {
     "data": {
      "text/html": [
       "<div>\n",
       "<style scoped>\n",
       "    .dataframe tbody tr th:only-of-type {\n",
       "        vertical-align: middle;\n",
       "    }\n",
       "\n",
       "    .dataframe tbody tr th {\n",
       "        vertical-align: top;\n",
       "    }\n",
       "\n",
       "    .dataframe thead th {\n",
       "        text-align: right;\n",
       "    }\n",
       "</style>\n",
       "<table border=\"1\" class=\"dataframe\">\n",
       "  <thead>\n",
       "    <tr style=\"text-align: right;\">\n",
       "      <th></th>\n",
       "      <th>Name</th>\n",
       "      <th>Longitude</th>\n",
       "      <th>Latitude</th>\n",
       "      <th>Inspection Type</th>\n",
       "      <th>Inspection Score</th>\n",
       "      <th>Inspection Result</th>\n",
       "      <th>Inspection Closed Business</th>\n",
       "      <th>Violation Type</th>\n",
       "      <th>Grade</th>\n",
       "      <th>capacity</th>\n",
       "    </tr>\n",
       "  </thead>\n",
       "  <tbody>\n",
       "    <tr>\n",
       "      <th>20</th>\n",
       "      <td>100 PERCENT NUTRICION</td>\n",
       "      <td>-122.169114</td>\n",
       "      <td>47.488797</td>\n",
       "      <td>Routine Inspection/Field Review</td>\n",
       "      <td>20.0</td>\n",
       "      <td>Unsatisfactory</td>\n",
       "      <td>False</td>\n",
       "      <td>RED</td>\n",
       "      <td>3.0</td>\n",
       "      <td>Seating 0-12</td>\n",
       "    </tr>\n",
       "  </tbody>\n",
       "</table>\n",
       "</div>"
      ],
      "text/plain": [
       "                     Name   Longitude   Latitude  \\\n",
       "20  100 PERCENT NUTRICION -122.169114  47.488797   \n",
       "\n",
       "                    Inspection Type  Inspection Score Inspection Result  \\\n",
       "20  Routine Inspection/Field Review              20.0    Unsatisfactory   \n",
       "\n",
       "    Inspection Closed Business Violation Type  Grade      capacity  \n",
       "20                       False            RED    3.0  Seating 0-12  "
      ]
     },
     "execution_count": 23,
     "metadata": {},
     "output_type": "execute_result"
    }
   ],
   "source": [
    "# انتخاب رستوران های سطح ۱\n",
    "R1=df.loc[df['Category']==1]\n",
    "R1.drop(['Category'],axis=1,inplace=True)\n",
    "R1.head(1)"
   ]
  },
  {
   "cell_type": "markdown",
   "id": "a60d8d92",
   "metadata": {},
   "source": [
    "<h2>همانطور که مشاهده می گردد رستوران های این دسته همگی به طور میانگین دارای \n",
    "<br>Grade =1 \n",
    "<br>همچنین دارای واریانس بسیار کم (کمتر از ۰.۵)\n",
    "<br>پس برای ساده شدن کار این ستون را حذف می کنیم<h2>"
   ]
  },
  {
   "cell_type": "code",
   "execution_count": 7,
   "id": "e3bba423-82c2-4ce2-8e0a-52e9348d8aad",
   "metadata": {},
   "outputs": [
    {
     "data": {
      "image/png": "[encoded data removed]",
      "text/plain": [
       "<Figure size 2160x504 with 1 Axes>"
      ]
     },
     "metadata": {
      "needs_background": "light"
     },
     "output_type": "display_data"
    }
   ],
   "source": [
    "Grade_capacity=R1.groupby(by='capacity',as_index=False).mean()\n",
    "\n",
    "plt.figure(figsize=(30,7))\n",
    "plt.bar(Grade_capacity['capacity'],Grade_capacity['Grade'])\n",
    "plt.show()\n",
    "\n"
   ]
  },
  {
   "cell_type": "code",
   "execution_count": 18,
   "id": "f7403ad2",
   "metadata": {},
   "outputs": [
    {
     "data": {
      "text/plain": [
       "0     0.000000\n",
       "1     0.000000\n",
       "2     0.000000\n",
       "3     0.000000\n",
       "4     0.000000\n",
       "5     0.000000\n",
       "6     0.427677\n",
       "7     0.317897\n",
       "8     0.000000\n",
       "9     0.259012\n",
       "10    0.000000\n",
       "Name: Grade, dtype: float64"
      ]
     },
     "execution_count": 18,
     "metadata": {},
     "output_type": "execute_result"
    }
   ],
   "source": [
    "Grade_capacity=R1.groupby(by='capacity',as_index=False).std()\n",
    "Grade_capacity['Grade']\n",
    "\n"
   ]
  },
  {
   "cell_type": "code",
   "execution_count": 19,
   "id": "ae073e08",
   "metadata": {},
   "outputs": [
    {
     "name": "stderr",
     "output_type": "stream",
     "text": [
      "/var/folders/hn/cjgf8lqs607cny8_gr2rmcpc0000gn/T/ipykernel_835/3318864286.py:1: SettingWithCopyWarning: \n",
      "A value is trying to be set on a copy of a slice from a DataFrame\n",
      "\n",
      "See the caveats in the documentation: https://pandas.pydata.org/pandas-docs/stable/user_guide/indexing.html#returning-a-view-versus-a-copy\n",
      "  R1.drop(['Grade'],axis=1,inplace=True)\n"
     ]
    },
    {
     "data": {
      "text/html": [
       "<div>\n",
       "<style scoped>\n",
       "    .dataframe tbody tr th:only-of-type {\n",
       "        vertical-align: middle;\n",
       "    }\n",
       "\n",
       "    .dataframe tbody tr th {\n",
       "        vertical-align: top;\n",
       "    }\n",
       "\n",
       "    .dataframe thead th {\n",
       "        text-align: right;\n",
       "    }\n",
       "</style>\n",
       "<table border=\"1\" class=\"dataframe\">\n",
       "  <thead>\n",
       "    <tr style=\"text-align: right;\">\n",
       "      <th></th>\n",
       "      <th>Name</th>\n",
       "      <th>Longitude</th>\n",
       "      <th>Latitude</th>\n",
       "      <th>Inspection Type</th>\n",
       "      <th>Inspection Score</th>\n",
       "      <th>Inspection Result</th>\n",
       "      <th>Inspection Closed Business</th>\n",
       "      <th>Violation Type</th>\n",
       "      <th>Violation Points</th>\n",
       "      <th>Category</th>\n",
       "      <th>capacity</th>\n",
       "    </tr>\n",
       "  </thead>\n",
       "  <tbody>\n",
       "    <tr>\n",
       "      <th>20</th>\n",
       "      <td>100 PERCENT NUTRICION</td>\n",
       "      <td>-122.169114</td>\n",
       "      <td>47.488797</td>\n",
       "      <td>Routine Inspection/Field Review</td>\n",
       "      <td>20.0</td>\n",
       "      <td>Unsatisfactory</td>\n",
       "      <td>False</td>\n",
       "      <td>RED</td>\n",
       "      <td>5</td>\n",
       "      <td>1</td>\n",
       "      <td>Seating 0-12</td>\n",
       "    </tr>\n",
       "    <tr>\n",
       "      <th>21</th>\n",
       "      <td>100 PERCENT NUTRICION</td>\n",
       "      <td>-122.169114</td>\n",
       "      <td>47.488797</td>\n",
       "      <td>Routine Inspection/Field Review</td>\n",
       "      <td>20.0</td>\n",
       "      <td>Unsatisfactory</td>\n",
       "      <td>False</td>\n",
       "      <td>RED</td>\n",
       "      <td>10</td>\n",
       "      <td>1</td>\n",
       "      <td>Seating 0-12</td>\n",
       "    </tr>\n",
       "    <tr>\n",
       "      <th>22</th>\n",
       "      <td>100 PERCENT NUTRICION</td>\n",
       "      <td>-122.169114</td>\n",
       "      <td>47.488797</td>\n",
       "      <td>Routine Inspection/Field Review</td>\n",
       "      <td>20.0</td>\n",
       "      <td>Unsatisfactory</td>\n",
       "      <td>False</td>\n",
       "      <td>RED</td>\n",
       "      <td>5</td>\n",
       "      <td>1</td>\n",
       "      <td>Seating 0-12</td>\n",
       "    </tr>\n",
       "    <tr>\n",
       "      <th>23</th>\n",
       "      <td>100 PERCENT NUTRICION</td>\n",
       "      <td>-122.169114</td>\n",
       "      <td>47.488797</td>\n",
       "      <td>Routine Inspection/Field Review</td>\n",
       "      <td>25.0</td>\n",
       "      <td>Unsatisfactory</td>\n",
       "      <td>False</td>\n",
       "      <td>BLUE</td>\n",
       "      <td>5</td>\n",
       "      <td>1</td>\n",
       "      <td>Seating 0-12</td>\n",
       "    </tr>\n",
       "    <tr>\n",
       "      <th>24</th>\n",
       "      <td>100 PERCENT NUTRICION</td>\n",
       "      <td>-122.169114</td>\n",
       "      <td>47.488797</td>\n",
       "      <td>Routine Inspection/Field Review</td>\n",
       "      <td>25.0</td>\n",
       "      <td>Unsatisfactory</td>\n",
       "      <td>False</td>\n",
       "      <td>BLUE</td>\n",
       "      <td>5</td>\n",
       "      <td>1</td>\n",
       "      <td>Seating 0-12</td>\n",
       "    </tr>\n",
       "  </tbody>\n",
       "</table>\n",
       "</div>"
      ],
      "text/plain": [
       "                     Name   Longitude   Latitude  \\\n",
       "20  100 PERCENT NUTRICION -122.169114  47.488797   \n",
       "21  100 PERCENT NUTRICION -122.169114  47.488797   \n",
       "22  100 PERCENT NUTRICION -122.169114  47.488797   \n",
       "23  100 PERCENT NUTRICION -122.169114  47.488797   \n",
       "24  100 PERCENT NUTRICION -122.169114  47.488797   \n",
       "\n",
       "                    Inspection Type  Inspection Score Inspection Result  \\\n",
       "20  Routine Inspection/Field Review              20.0    Unsatisfactory   \n",
       "21  Routine Inspection/Field Review              20.0    Unsatisfactory   \n",
       "22  Routine Inspection/Field Review              20.0    Unsatisfactory   \n",
       "23  Routine Inspection/Field Review              25.0    Unsatisfactory   \n",
       "24  Routine Inspection/Field Review              25.0    Unsatisfactory   \n",
       "\n",
       "    Inspection Closed Business Violation Type  Violation Points  Category  \\\n",
       "20                       False            RED                 5         1   \n",
       "21                       False            RED                10         1   \n",
       "22                       False            RED                 5         1   \n",
       "23                       False           BLUE                 5         1   \n",
       "24                       False           BLUE                 5         1   \n",
       "\n",
       "        capacity  \n",
       "20  Seating 0-12  \n",
       "21  Seating 0-12  \n",
       "22  Seating 0-12  \n",
       "23  Seating 0-12  \n",
       "24  Seating 0-12  "
      ]
     },
     "execution_count": 19,
     "metadata": {},
     "output_type": "execute_result"
    }
   ],
   "source": [
    "R1.drop(['Grade'],axis=1,inplace=True)\n",
    "R1.head()\n"
   ]
  },
  {
   "cell_type": "markdown",
   "id": "1ab4cf37",
   "metadata": {},
   "source": [
    "## Inspection Score"
   ]
  },
  {
   "cell_type": "markdown",
   "id": "1c98def7",
   "metadata": {},
   "source": [
    "<h2>در این مرحله برای بررسی میانگین امتیاز کسب شده توسط گروه های مختلف باید داده های پرت را خارج کنیم<h2>"
   ]
  },
  {
   "cell_type": "code",
   "execution_count": 9,
   "id": "c41dee82",
   "metadata": {},
   "outputs": [
    {
     "data": {
      "image/png": "[encoded data removed]",
      "text/plain": [
       "<Figure size 2160x504 with 1 Axes>"
      ]
     },
     "metadata": {
      "needs_background": "light"
     },
     "output_type": "display_data"
    }
   ],
   "source": [
    "plt.figure(figsize=(30,7))\n",
    "sns.boxplot(x=R1[\"Inspection Score\"],y=R1[\"capacity\"])\n",
    "plt.show()"
   ]
  },
  {
   "cell_type": "markdown",
   "id": "c732df80",
   "metadata": {},
   "source": [
    "<h4>محاسبه واریانس<h4>"
   ]
  },
  {
   "cell_type": "markdown",
   "id": "1786e73c",
   "metadata": {},
   "source": [
    "<h4> با بدست اوردن واریانس از این کار صرفه نظر کردیم<h4>"
   ]
  },
  {
   "cell_type": "code",
   "execution_count": 10,
   "id": "be2bc780",
   "metadata": {},
   "outputs": [
    {
     "data": {
      "text/html": [
       "<div>\n",
       "<style scoped>\n",
       "    .dataframe tbody tr th:only-of-type {\n",
       "        vertical-align: middle;\n",
       "    }\n",
       "\n",
       "    .dataframe tbody tr th {\n",
       "        vertical-align: top;\n",
       "    }\n",
       "\n",
       "    .dataframe thead th {\n",
       "        text-align: right;\n",
       "    }\n",
       "</style>\n",
       "<table border=\"1\" class=\"dataframe\">\n",
       "  <thead>\n",
       "    <tr style=\"text-align: right;\">\n",
       "      <th></th>\n",
       "      <th>capacity</th>\n",
       "      <th>Inspection Score</th>\n",
       "      <th>Category</th>\n",
       "    </tr>\n",
       "  </thead>\n",
       "  <tbody>\n",
       "    <tr>\n",
       "      <th>0</th>\n",
       "      <td>Bakery-no seating</td>\n",
       "      <td>5.633007</td>\n",
       "      <td>0.0</td>\n",
       "    </tr>\n",
       "    <tr>\n",
       "      <th>1</th>\n",
       "      <td>Bed and Breakfast</td>\n",
       "      <td>3.167940</td>\n",
       "      <td>0.0</td>\n",
       "    </tr>\n",
       "    <tr>\n",
       "      <th>2</th>\n",
       "      <td>Caterer</td>\n",
       "      <td>1.853443</td>\n",
       "      <td>0.0</td>\n",
       "    </tr>\n",
       "    <tr>\n",
       "      <th>3</th>\n",
       "      <td>Grocery Store-no seating</td>\n",
       "      <td>11.246940</td>\n",
       "      <td>0.0</td>\n",
       "    </tr>\n",
       "    <tr>\n",
       "      <th>4</th>\n",
       "      <td>Mobile Food Unit</td>\n",
       "      <td>17.088310</td>\n",
       "      <td>0.0</td>\n",
       "    </tr>\n",
       "    <tr>\n",
       "      <th>5</th>\n",
       "      <td>Non-Profit Institution</td>\n",
       "      <td>7.924571</td>\n",
       "      <td>0.0</td>\n",
       "    </tr>\n",
       "    <tr>\n",
       "      <th>6</th>\n",
       "      <td>Seating 0-12</td>\n",
       "      <td>9.908041</td>\n",
       "      <td>0.0</td>\n",
       "    </tr>\n",
       "    <tr>\n",
       "      <th>7</th>\n",
       "      <td>Seating 13-50</td>\n",
       "      <td>11.944057</td>\n",
       "      <td>0.0</td>\n",
       "    </tr>\n",
       "    <tr>\n",
       "      <th>8</th>\n",
       "      <td>Seating 151-250</td>\n",
       "      <td>6.342567</td>\n",
       "      <td>0.0</td>\n",
       "    </tr>\n",
       "    <tr>\n",
       "      <th>9</th>\n",
       "      <td>Seating 51-150</td>\n",
       "      <td>11.059287</td>\n",
       "      <td>0.0</td>\n",
       "    </tr>\n",
       "    <tr>\n",
       "      <th>10</th>\n",
       "      <td>Seating &gt; 250</td>\n",
       "      <td>7.476590</td>\n",
       "      <td>0.0</td>\n",
       "    </tr>\n",
       "  </tbody>\n",
       "</table>\n",
       "</div>"
      ],
      "text/plain": [
       "                    capacity  Inspection Score  Category\n",
       "0          Bakery-no seating          5.633007       0.0\n",
       "1          Bed and Breakfast          3.167940       0.0\n",
       "2                    Caterer          1.853443       0.0\n",
       "3   Grocery Store-no seating         11.246940       0.0\n",
       "4           Mobile Food Unit         17.088310       0.0\n",
       "5     Non-Profit Institution          7.924571       0.0\n",
       "6               Seating 0-12          9.908041       0.0\n",
       "7              Seating 13-50         11.944057       0.0\n",
       "8            Seating 151-250          6.342567       0.0\n",
       "9             Seating 51-150         11.059287       0.0\n",
       "10             Seating > 250          7.476590       0.0"
      ]
     },
     "execution_count": 10,
     "metadata": {},
     "output_type": "execute_result"
    }
   ],
   "source": [
    "inspection_std=R1.drop(['Longitude','Latitude','Inspection Closed Business'],axis=1).groupby(by='capacity',as_index=False).std()\n",
    "inspection_std"
   ]
  },
  {
   "cell_type": "code",
   "execution_count": 36,
   "id": "a133f928",
   "metadata": {},
   "outputs": [
    {
     "data": {
      "text/html": [
       "<div>\n",
       "<style scoped>\n",
       "    .dataframe tbody tr th:only-of-type {\n",
       "        vertical-align: middle;\n",
       "    }\n",
       "\n",
       "    .dataframe tbody tr th {\n",
       "        vertical-align: top;\n",
       "    }\n",
       "\n",
       "    .dataframe thead th {\n",
       "        text-align: right;\n",
       "    }\n",
       "</style>\n",
       "<table border=\"1\" class=\"dataframe\">\n",
       "  <thead>\n",
       "    <tr style=\"text-align: right;\">\n",
       "      <th></th>\n",
       "      <th>capacity</th>\n",
       "      <th>Longitude</th>\n",
       "      <th>Latitude</th>\n",
       "      <th>Inspection Score</th>\n",
       "      <th>Inspection Closed Business</th>\n",
       "      <th>Grade</th>\n",
       "    </tr>\n",
       "  </thead>\n",
       "  <tbody>\n",
       "    <tr>\n",
       "      <th>0</th>\n",
       "      <td>Bakery-no seating</td>\n",
       "      <td>-122.377768</td>\n",
       "      <td>47.584677</td>\n",
       "      <td>2.307692</td>\n",
       "      <td>0.000000</td>\n",
       "      <td>1.000000</td>\n",
       "    </tr>\n",
       "    <tr>\n",
       "      <th>1</th>\n",
       "      <td>Bed and Breakfast</td>\n",
       "      <td>-122.091137</td>\n",
       "      <td>47.584903</td>\n",
       "      <td>1.111111</td>\n",
       "      <td>0.000000</td>\n",
       "      <td>1.000000</td>\n",
       "    </tr>\n",
       "    <tr>\n",
       "      <th>2</th>\n",
       "      <td>Caterer</td>\n",
       "      <td>-122.240099</td>\n",
       "      <td>47.630962</td>\n",
       "      <td>0.556026</td>\n",
       "      <td>0.000000</td>\n",
       "      <td>1.000000</td>\n",
       "    </tr>\n",
       "    <tr>\n",
       "      <th>3</th>\n",
       "      <td>Grocery Store-no seating</td>\n",
       "      <td>-122.252986</td>\n",
       "      <td>47.551772</td>\n",
       "      <td>6.800329</td>\n",
       "      <td>0.000438</td>\n",
       "      <td>1.000000</td>\n",
       "    </tr>\n",
       "    <tr>\n",
       "      <th>4</th>\n",
       "      <td>Mobile Food Unit</td>\n",
       "      <td>-122.311987</td>\n",
       "      <td>47.560619</td>\n",
       "      <td>10.634532</td>\n",
       "      <td>0.005755</td>\n",
       "      <td>1.000000</td>\n",
       "    </tr>\n",
       "    <tr>\n",
       "      <th>5</th>\n",
       "      <td>Non-Profit Institution</td>\n",
       "      <td>-122.179596</td>\n",
       "      <td>47.517427</td>\n",
       "      <td>4.040573</td>\n",
       "      <td>0.000000</td>\n",
       "      <td>1.000000</td>\n",
       "    </tr>\n",
       "    <tr>\n",
       "      <th>6</th>\n",
       "      <td>Seating 0-12</td>\n",
       "      <td>-122.268970</td>\n",
       "      <td>47.559200</td>\n",
       "      <td>6.240926</td>\n",
       "      <td>0.000244</td>\n",
       "      <td>1.169793</td>\n",
       "    </tr>\n",
       "    <tr>\n",
       "      <th>7</th>\n",
       "      <td>Seating 13-50</td>\n",
       "      <td>-122.305214</td>\n",
       "      <td>47.615649</td>\n",
       "      <td>7.875086</td>\n",
       "      <td>0.000000</td>\n",
       "      <td>1.110421</td>\n",
       "    </tr>\n",
       "    <tr>\n",
       "      <th>8</th>\n",
       "      <td>Seating 151-250</td>\n",
       "      <td>-122.270021</td>\n",
       "      <td>47.573752</td>\n",
       "      <td>4.129630</td>\n",
       "      <td>0.000000</td>\n",
       "      <td>1.000000</td>\n",
       "    </tr>\n",
       "    <tr>\n",
       "      <th>9</th>\n",
       "      <td>Seating 51-150</td>\n",
       "      <td>-122.303384</td>\n",
       "      <td>47.622930</td>\n",
       "      <td>6.904762</td>\n",
       "      <td>0.000000</td>\n",
       "      <td>1.072197</td>\n",
       "    </tr>\n",
       "    <tr>\n",
       "      <th>10</th>\n",
       "      <td>Seating &gt; 250</td>\n",
       "      <td>-122.317784</td>\n",
       "      <td>47.566904</td>\n",
       "      <td>4.536232</td>\n",
       "      <td>0.000000</td>\n",
       "      <td>1.000000</td>\n",
       "    </tr>\n",
       "  </tbody>\n",
       "</table>\n",
       "</div>"
      ],
      "text/plain": [
       "                    capacity   Longitude   Latitude  Inspection Score  \\\n",
       "0          Bakery-no seating -122.377768  47.584677          2.307692   \n",
       "1          Bed and Breakfast -122.091137  47.584903          1.111111   \n",
       "2                    Caterer -122.240099  47.630962          0.556026   \n",
       "3   Grocery Store-no seating -122.252986  47.551772          6.800329   \n",
       "4           Mobile Food Unit -122.311987  47.560619         10.634532   \n",
       "5     Non-Profit Institution -122.179596  47.517427          4.040573   \n",
       "6               Seating 0-12 -122.268970  47.559200          6.240926   \n",
       "7              Seating 13-50 -122.305214  47.615649          7.875086   \n",
       "8            Seating 151-250 -122.270021  47.573752          4.129630   \n",
       "9             Seating 51-150 -122.303384  47.622930          6.904762   \n",
       "10             Seating > 250 -122.317784  47.566904          4.536232   \n",
       "\n",
       "    Inspection Closed Business     Grade  \n",
       "0                     0.000000  1.000000  \n",
       "1                     0.000000  1.000000  \n",
       "2                     0.000000  1.000000  \n",
       "3                     0.000438  1.000000  \n",
       "4                     0.005755  1.000000  \n",
       "5                     0.000000  1.000000  \n",
       "6                     0.000244  1.169793  \n",
       "7                     0.000000  1.110421  \n",
       "8                     0.000000  1.000000  \n",
       "9                     0.000000  1.072197  \n",
       "10                    0.000000  1.000000  "
      ]
     },
     "execution_count": 36,
     "metadata": {},
     "output_type": "execute_result"
    }
   ],
   "source": [
    "inspection_mean=R1.groupby(by='capacity',as_index=False).mean()\n",
    "inspection_mean"
   ]
  },
  {
   "cell_type": "code",
   "execution_count": 29,
   "id": "afd31808",
   "metadata": {},
   "outputs": [
    {
     "data": {
      "image/png": "[encoded data removed]",
      "text/plain": [
       "<Figure size 432x288 with 1 Axes>"
      ]
     },
     "metadata": {
      "needs_background": "light"
     },
     "output_type": "display_data"
    },
    {
     "data": {
      "image/png": "[encoded data removed]",
      "text/plain": [
       "<Figure size 432x288 with 1 Axes>"
      ]
     },
     "metadata": {
      "needs_background": "light"
     },
     "output_type": "display_data"
    },
    {
     "data": {
      "image/png": "[encoded data removed]",
      "text/plain": [
       "<Figure size 432x288 with 1 Axes>"
      ]
     },
     "metadata": {
      "needs_background": "light"
     },
     "output_type": "display_data"
    },
    {
     "data": {
      "image/png": "[encoded data removed]",
      "text/plain": [
       "<Figure size 432x288 with 1 Axes>"
      ]
     },
     "metadata": {
      "needs_background": "light"
     },
     "output_type": "display_data"
    },
    {
     "data": {
      "image/png": "[encoded data removed]",
      "text/plain": [
       "<Figure size 432x288 with 1 Axes>"
      ]
     },
     "metadata": {
      "needs_background": "light"
     },
     "output_type": "display_data"
    },
    {
     "data": {
      "image/png": "[encoded data removed]",
      "text/plain": [
       "<Figure size 432x288 with 1 Axes>"
      ]
     },
     "metadata": {
      "needs_background": "light"
     },
     "output_type": "display_data"
    },
    {
     "data": {
      "image/png": "[encoded data removed]",
      "text/plain": [
       "<Figure size 432x288 with 1 Axes>"
      ]
     },
     "metadata": {
      "needs_background": "light"
     },
     "output_type": "display_data"
    },
    {
     "data": {
      "image/png": "[encoded data removed]",
      "text/plain": [
       "<Figure size 432x288 with 1 Axes>"
      ]
     },
     "metadata": {
      "needs_background": "light"
     },
     "output_type": "display_data"
    },
    {
     "data": {
      "image/png": "[encoded data removed]",
      "text/plain": [
       "<Figure size 432x288 with 1 Axes>"
      ]
     },
     "metadata": {
      "needs_background": "light"
     },
     "output_type": "display_data"
    },
    {
     "data": {
      "image/png": "[encoded data removed]",
      "text/plain": [
       "<Figure size 432x288 with 1 Axes>"
      ]
     },
     "metadata": {
      "needs_background": "light"
     },
     "output_type": "display_data"
    },
    {
     "data": {
      "image/png": "[encoded data removed]",
      "text/plain": [
       "<Figure size 432x288 with 1 Axes>"
      ]
     },
     "metadata": {
      "needs_background": "light"
     },
     "output_type": "display_data"
    }
   ],
   "source": [
    "\n",
    "capacity_score=R1.pivot_table(index=['capacity','Name'])\n",
    "inspection_mean=R1.drop(['Longitude','Latitude','Inspection Closed Business'],axis=1).groupby(by='capacity',as_index=False).mean()\n",
    "capacities=['Bakery-no seating','Bed and Breakfast',  'Caterer',\n",
    "       'Grocery Store-no seating', 'Mobile Food Unit', \n",
    "       'Non-Profit Institution','Seating 0-12','Seating 13-50','Seating 151-250','Seating 51-150','Seating > 250']\n",
    "\n",
    "for index,score in enumerate (capacities):\n",
    "   plt.title(f\"{score}'s mean is {inspection_mean['Inspection Score'][index]}\" )\n",
    "   sns.histplot(data=capacity_score.loc[[score]], x=\"Inspection Score\",bins=20)\n",
    "   plt.show()"
   ]
  },
  {
   "cell_type": "markdown",
   "id": "b2e350a5",
   "metadata": {},
   "source": [
    "<h2>باتوجه به هیستوگرام های رسم شده و همچنین باکس پلات مربوط به این دسته می توان گفت که بخش عمده این دسته نمره های پایینی دریافت کرده اند<h2>"
   ]
  },
  {
   "cell_type": "code",
   "execution_count": null,
   "id": "e2d98e5e",
   "metadata": {},
   "outputs": [
    {
     "data": {
      "image/png": "[encoded data removed]",
      "text/plain": [
       "<Figure size 2160x504 with 1 Axes>"
      ]
     },
     "metadata": {
      "needs_background": "light"
     },
     "output_type": "display_data"
    }
   ],
   "source": [
    "inspection_mean=R1.drop(['Longitude','Latitude','Inspection Closed Business'],axis=1).groupby(by='capacity',as_index=False).mean()\n",
    "\n",
    "plt.figure(figsize=(30,7))\n",
    "plt.bar(x=inspection_mean['capacity'],height=inspection_mean['Inspection Score'])\n",
    "plt.show()"
   ]
  },
  {
   "cell_type": "markdown",
   "id": "4402f1fb",
   "metadata": {},
   "source": [
    "## Inspection Closed Business"
   ]
  },
  {
   "cell_type": "code",
   "execution_count": null,
   "id": "2b75ca10",
   "metadata": {},
   "outputs": [
    {
     "data": {
      "image/png": "[encoded data removed]",
      "text/plain": [
       "<Figure size 1656x1080 with 1 Axes>"
      ]
     },
     "metadata": {
      "needs_background": "light"
     },
     "output_type": "display_data"
    }
   ],
   "source": [
    "capacity_colsed=R1.groupby(by=['capacity','Inspection Closed Business'],as_index=False).size()\n",
    "plt.figure(figsize=(23,15))\n",
    "bars=sns.barplot(data=capacity_colsed, x=\"capacity\", y=\"size\", hue=\"Inspection Closed Business\")\n",
    "plt.yticks(capacity_colsed['size'])\n",
    "for i in bars.containers:\n",
    "    bars.bar_label(i,)\n",
    "plt.show()"
   ]
  },
  {
   "cell_type": "code",
   "execution_count": null,
   "id": "ed3d6887",
   "metadata": {},
   "outputs": [
    {
     "data": {
      "text/html": [
       "<div>\n",
       "<style scoped>\n",
       "    .dataframe tbody tr th:only-of-type {\n",
       "        vertical-align: middle;\n",
       "    }\n",
       "\n",
       "    .dataframe tbody tr th {\n",
       "        vertical-align: top;\n",
       "    }\n",
       "\n",
       "    .dataframe thead th {\n",
       "        text-align: right;\n",
       "    }\n",
       "</style>\n",
       "<table border=\"1\" class=\"dataframe\">\n",
       "  <thead>\n",
       "    <tr style=\"text-align: right;\">\n",
       "      <th></th>\n",
       "      <th>capacity</th>\n",
       "      <th>Inspection Closed Business</th>\n",
       "      <th>size</th>\n",
       "    </tr>\n",
       "  </thead>\n",
       "  <tbody>\n",
       "    <tr>\n",
       "      <th>0</th>\n",
       "      <td>Bakery-no seating</td>\n",
       "      <td>False</td>\n",
       "      <td>13</td>\n",
       "    </tr>\n",
       "    <tr>\n",
       "      <th>1</th>\n",
       "      <td>Bed and Breakfast</td>\n",
       "      <td>False</td>\n",
       "      <td>63</td>\n",
       "    </tr>\n",
       "    <tr>\n",
       "      <th>2</th>\n",
       "      <td>Caterer</td>\n",
       "      <td>False</td>\n",
       "      <td>49</td>\n",
       "    </tr>\n",
       "    <tr>\n",
       "      <th>3</th>\n",
       "      <td>Grocery Store-no seating</td>\n",
       "      <td>False</td>\n",
       "      <td>9121</td>\n",
       "    </tr>\n",
       "    <tr>\n",
       "      <th>4</th>\n",
       "      <td>Grocery Store-no seating</td>\n",
       "      <td>True</td>\n",
       "      <td>4</td>\n",
       "    </tr>\n",
       "    <tr>\n",
       "      <th>5</th>\n",
       "      <td>Mobile Food Unit</td>\n",
       "      <td>False</td>\n",
       "      <td>691</td>\n",
       "    </tr>\n",
       "    <tr>\n",
       "      <th>6</th>\n",
       "      <td>Mobile Food Unit</td>\n",
       "      <td>True</td>\n",
       "      <td>4</td>\n",
       "    </tr>\n",
       "    <tr>\n",
       "      <th>7</th>\n",
       "      <td>Non-Profit Institution</td>\n",
       "      <td>False</td>\n",
       "      <td>838</td>\n",
       "    </tr>\n",
       "    <tr>\n",
       "      <th>8</th>\n",
       "      <td>Seating 0-12</td>\n",
       "      <td>False</td>\n",
       "      <td>4104</td>\n",
       "    </tr>\n",
       "    <tr>\n",
       "      <th>9</th>\n",
       "      <td>Seating 0-12</td>\n",
       "      <td>True</td>\n",
       "      <td>1</td>\n",
       "    </tr>\n",
       "    <tr>\n",
       "      <th>10</th>\n",
       "      <td>Seating 13-50</td>\n",
       "      <td>False</td>\n",
       "      <td>1449</td>\n",
       "    </tr>\n",
       "    <tr>\n",
       "      <th>11</th>\n",
       "      <td>Seating 151-250</td>\n",
       "      <td>False</td>\n",
       "      <td>54</td>\n",
       "    </tr>\n",
       "    <tr>\n",
       "      <th>12</th>\n",
       "      <td>Seating 51-150</td>\n",
       "      <td>False</td>\n",
       "      <td>651</td>\n",
       "    </tr>\n",
       "    <tr>\n",
       "      <th>13</th>\n",
       "      <td>Seating &gt; 250</td>\n",
       "      <td>False</td>\n",
       "      <td>69</td>\n",
       "    </tr>\n",
       "  </tbody>\n",
       "</table>\n",
       "</div>"
      ],
      "text/plain": [
       "                    capacity  Inspection Closed Business  size\n",
       "0          Bakery-no seating                       False    13\n",
       "1          Bed and Breakfast                       False    63\n",
       "2                    Caterer                       False    49\n",
       "3   Grocery Store-no seating                       False  9121\n",
       "4   Grocery Store-no seating                        True     4\n",
       "5           Mobile Food Unit                       False   691\n",
       "6           Mobile Food Unit                        True     4\n",
       "7     Non-Profit Institution                       False   838\n",
       "8               Seating 0-12                       False  4104\n",
       "9               Seating 0-12                        True     1\n",
       "10             Seating 13-50                       False  1449\n",
       "11           Seating 151-250                       False    54\n",
       "12            Seating 51-150                       False   651\n",
       "13             Seating > 250                       False    69"
      ]
     },
     "execution_count": 147,
     "metadata": {},
     "output_type": "execute_result"
    }
   ],
   "source": [
    "capacity_colsed"
   ]
  },
  {
   "cell_type": "markdown",
   "id": "de62ed0c",
   "metadata": {},
   "source": [
    "<h2>در این دسته تعداد اندکی (۹) بیزینس تعطیل شده اند<h2>"
   ]
  },
  {
   "cell_type": "markdown",
   "id": "a38034b0",
   "metadata": {},
   "source": [
    "<h3> ۸ بیزیننس دارای نتیجه غیر قابل قبول بوده اند<h3>"
   ]
  },
  {
   "cell_type": "markdown",
   "id": "d2337a8d",
   "metadata": {},
   "source": [
    "<h3 style='color:yellow'>فرض : <br>\n",
    "<br>می توان گفت شرط لازم برای تعطیلی مرکز: نتیجه بررسی (غیر راضی کننده می باشد)<h3>\n",
    "<h3>\n",
    "<h3>"
   ]
  },
  {
   "cell_type": "code",
   "execution_count": 86,
   "id": "8b1aaf65",
   "metadata": {},
   "outputs": [
    {
     "data": {
      "text/html": [
       "<div>\n",
       "<style scoped>\n",
       "    .dataframe tbody tr th:only-of-type {\n",
       "        vertical-align: middle;\n",
       "    }\n",
       "\n",
       "    .dataframe tbody tr th {\n",
       "        vertical-align: top;\n",
       "    }\n",
       "\n",
       "    .dataframe thead th {\n",
       "        text-align: right;\n",
       "    }\n",
       "</style>\n",
       "<table border=\"1\" class=\"dataframe\">\n",
       "  <thead>\n",
       "    <tr style=\"text-align: right;\">\n",
       "      <th></th>\n",
       "      <th>Inspection Result</th>\n",
       "      <th>size</th>\n",
       "    </tr>\n",
       "  </thead>\n",
       "  <tbody>\n",
       "    <tr>\n",
       "      <th>0</th>\n",
       "      <td>Satisfactory</td>\n",
       "      <td>1</td>\n",
       "    </tr>\n",
       "    <tr>\n",
       "      <th>1</th>\n",
       "      <td>Unsatisfactory</td>\n",
       "      <td>8</td>\n",
       "    </tr>\n",
       "  </tbody>\n",
       "</table>\n",
       "</div>"
      ],
      "text/plain": [
       "  Inspection Result  size\n",
       "0      Satisfactory     1\n",
       "1    Unsatisfactory     8"
      ]
     },
     "execution_count": 86,
     "metadata": {},
     "output_type": "execute_result"
    }
   ],
   "source": [
    "mask=R1['Inspection Closed Business']==True\n",
    "inspection_result=R1[mask]\n",
    "\n",
    "inspection_result_size=inspection_result.groupby('Inspection Result',as_index=False).size()\n",
    "inspection_result_size\n",
    "\n"
   ]
  },
  {
   "cell_type": "code",
   "execution_count": 52,
   "id": "c7d1d56d",
   "metadata": {},
   "outputs": [
    {
     "data": {
      "text/html": [
       "<div>\n",
       "<style scoped>\n",
       "    .dataframe tbody tr th:only-of-type {\n",
       "        vertical-align: middle;\n",
       "    }\n",
       "\n",
       "    .dataframe tbody tr th {\n",
       "        vertical-align: top;\n",
       "    }\n",
       "\n",
       "    .dataframe thead th {\n",
       "        text-align: right;\n",
       "    }\n",
       "</style>\n",
       "<table border=\"1\" class=\"dataframe\">\n",
       "  <thead>\n",
       "    <tr style=\"text-align: right;\">\n",
       "      <th></th>\n",
       "      <th>Name</th>\n",
       "      <th>Longitude</th>\n",
       "      <th>Latitude</th>\n",
       "      <th>Inspection Type</th>\n",
       "      <th>Inspection Score</th>\n",
       "      <th>Inspection Result</th>\n",
       "      <th>Inspection Closed Business</th>\n",
       "      <th>Violation Type</th>\n",
       "      <th>Grade</th>\n",
       "      <th>capacity</th>\n",
       "    </tr>\n",
       "  </thead>\n",
       "  <tbody>\n",
       "    <tr>\n",
       "      <th>22375</th>\n",
       "      <td>BEST CORN #1</td>\n",
       "      <td>-122.354232</td>\n",
       "      <td>47.515381</td>\n",
       "      <td>Routine Inspection/Field Review</td>\n",
       "      <td>25.0</td>\n",
       "      <td>Unsatisfactory</td>\n",
       "      <td>True</td>\n",
       "      <td>RED</td>\n",
       "      <td>1.0</td>\n",
       "      <td>Mobile Food Unit</td>\n",
       "    </tr>\n",
       "    <tr>\n",
       "      <th>22376</th>\n",
       "      <td>BEST CORN #1</td>\n",
       "      <td>-122.354232</td>\n",
       "      <td>47.515381</td>\n",
       "      <td>Routine Inspection/Field Review</td>\n",
       "      <td>25.0</td>\n",
       "      <td>Unsatisfactory</td>\n",
       "      <td>True</td>\n",
       "      <td>RED</td>\n",
       "      <td>1.0</td>\n",
       "      <td>Mobile Food Unit</td>\n",
       "    </tr>\n",
       "    <tr>\n",
       "      <th>49910</th>\n",
       "      <td>DANTE'S INFERNO DOGS (1)</td>\n",
       "      <td>-122.382581</td>\n",
       "      <td>47.666475</td>\n",
       "      <td>Routine Inspection/Field Review</td>\n",
       "      <td>35.0</td>\n",
       "      <td>Unsatisfactory</td>\n",
       "      <td>True</td>\n",
       "      <td>RED</td>\n",
       "      <td>1.0</td>\n",
       "      <td>Mobile Food Unit</td>\n",
       "    </tr>\n",
       "    <tr>\n",
       "      <th>49911</th>\n",
       "      <td>DANTE'S INFERNO DOGS (1)</td>\n",
       "      <td>-122.382581</td>\n",
       "      <td>47.666475</td>\n",
       "      <td>Routine Inspection/Field Review</td>\n",
       "      <td>35.0</td>\n",
       "      <td>Unsatisfactory</td>\n",
       "      <td>True</td>\n",
       "      <td>RED</td>\n",
       "      <td>1.0</td>\n",
       "      <td>Mobile Food Unit</td>\n",
       "    </tr>\n",
       "    <tr>\n",
       "      <th>174875</th>\n",
       "      <td>ROTIE CELLARS</td>\n",
       "      <td>-122.334709</td>\n",
       "      <td>47.567158</td>\n",
       "      <td>Routine Inspection/Field Review</td>\n",
       "      <td>2.0</td>\n",
       "      <td>Satisfactory</td>\n",
       "      <td>True</td>\n",
       "      <td>BLUE</td>\n",
       "      <td>4.0</td>\n",
       "      <td>Seating 0-12</td>\n",
       "    </tr>\n",
       "    <tr>\n",
       "      <th>212218</th>\n",
       "      <td>SWAGATH HOME FOODS LLS</td>\n",
       "      <td>-122.099447</td>\n",
       "      <td>47.671469</td>\n",
       "      <td>Return Inspection</td>\n",
       "      <td>35.0</td>\n",
       "      <td>Unsatisfactory</td>\n",
       "      <td>True</td>\n",
       "      <td>BLUE</td>\n",
       "      <td>1.0</td>\n",
       "      <td>Grocery Store-no seating</td>\n",
       "    </tr>\n",
       "    <tr>\n",
       "      <th>212219</th>\n",
       "      <td>SWAGATH HOME FOODS LLS</td>\n",
       "      <td>-122.099447</td>\n",
       "      <td>47.671469</td>\n",
       "      <td>Return Inspection</td>\n",
       "      <td>35.0</td>\n",
       "      <td>Unsatisfactory</td>\n",
       "      <td>True</td>\n",
       "      <td>RED</td>\n",
       "      <td>1.0</td>\n",
       "      <td>Grocery Store-no seating</td>\n",
       "    </tr>\n",
       "    <tr>\n",
       "      <th>212220</th>\n",
       "      <td>SWAGATH HOME FOODS LLS</td>\n",
       "      <td>-122.099447</td>\n",
       "      <td>47.671469</td>\n",
       "      <td>Return Inspection</td>\n",
       "      <td>35.0</td>\n",
       "      <td>Unsatisfactory</td>\n",
       "      <td>True</td>\n",
       "      <td>RED</td>\n",
       "      <td>1.0</td>\n",
       "      <td>Grocery Store-no seating</td>\n",
       "    </tr>\n",
       "    <tr>\n",
       "      <th>212221</th>\n",
       "      <td>SWAGATH HOME FOODS LLS</td>\n",
       "      <td>-122.099447</td>\n",
       "      <td>47.671469</td>\n",
       "      <td>Return Inspection</td>\n",
       "      <td>35.0</td>\n",
       "      <td>Unsatisfactory</td>\n",
       "      <td>True</td>\n",
       "      <td>RED</td>\n",
       "      <td>1.0</td>\n",
       "      <td>Grocery Store-no seating</td>\n",
       "    </tr>\n",
       "  </tbody>\n",
       "</table>\n",
       "</div>"
      ],
      "text/plain": [
       "                            Name   Longitude   Latitude  \\\n",
       "22375               BEST CORN #1 -122.354232  47.515381   \n",
       "22376               BEST CORN #1 -122.354232  47.515381   \n",
       "49910   DANTE'S INFERNO DOGS (1) -122.382581  47.666475   \n",
       "49911   DANTE'S INFERNO DOGS (1) -122.382581  47.666475   \n",
       "174875             ROTIE CELLARS -122.334709  47.567158   \n",
       "212218    SWAGATH HOME FOODS LLS -122.099447  47.671469   \n",
       "212219    SWAGATH HOME FOODS LLS -122.099447  47.671469   \n",
       "212220    SWAGATH HOME FOODS LLS -122.099447  47.671469   \n",
       "212221    SWAGATH HOME FOODS LLS -122.099447  47.671469   \n",
       "\n",
       "                        Inspection Type  Inspection Score Inspection Result  \\\n",
       "22375   Routine Inspection/Field Review              25.0    Unsatisfactory   \n",
       "22376   Routine Inspection/Field Review              25.0    Unsatisfactory   \n",
       "49910   Routine Inspection/Field Review              35.0    Unsatisfactory   \n",
       "49911   Routine Inspection/Field Review              35.0    Unsatisfactory   \n",
       "174875  Routine Inspection/Field Review               2.0      Satisfactory   \n",
       "212218                Return Inspection              35.0    Unsatisfactory   \n",
       "212219                Return Inspection              35.0    Unsatisfactory   \n",
       "212220                Return Inspection              35.0    Unsatisfactory   \n",
       "212221                Return Inspection              35.0    Unsatisfactory   \n",
       "\n",
       "        Inspection Closed Business Violation Type  Grade  \\\n",
       "22375                         True            RED    1.0   \n",
       "22376                         True            RED    1.0   \n",
       "49910                         True            RED    1.0   \n",
       "49911                         True            RED    1.0   \n",
       "174875                        True           BLUE    4.0   \n",
       "212218                        True           BLUE    1.0   \n",
       "212219                        True            RED    1.0   \n",
       "212220                        True            RED    1.0   \n",
       "212221                        True            RED    1.0   \n",
       "\n",
       "                        capacity  \n",
       "22375           Mobile Food Unit  \n",
       "22376           Mobile Food Unit  \n",
       "49910           Mobile Food Unit  \n",
       "49911           Mobile Food Unit  \n",
       "174875              Seating 0-12  \n",
       "212218  Grocery Store-no seating  \n",
       "212219  Grocery Store-no seating  \n",
       "212220  Grocery Store-no seating  \n",
       "212221  Grocery Store-no seating  "
      ]
     },
     "execution_count": 52,
     "metadata": {},
     "output_type": "execute_result"
    }
   ],
   "source": [
    "inspection_result"
   ]
  },
  {
   "cell_type": "markdown",
   "id": "a489ee48",
   "metadata": {},
   "source": [
    "<h3>نکات بدست امده از جدول <br>\n",
    "- تمام موارد غیر قابل قبول برای بیزینس هایی می باشد که به صورت بیرون بر می باشند<br>\n",
    "- نوع خطا RED<br>\n",
    "- دارای نمرات بالا inspection score\n",
    "- همگی در یک محدوده جغرافیایی می باشند<h3>"
   ]
  },
  {
   "cell_type": "markdown",
   "id": "c1a8cad4",
   "metadata": {},
   "source": [
    "<h5>تعداد زیاد RED در قیاس با تعطیلی ها<h5>"
   ]
  },
  {
   "cell_type": "code",
   "execution_count": 94,
   "id": "4b187259",
   "metadata": {},
   "outputs": [
    {
     "data": {
      "text/html": [
       "<div>\n",
       "<style scoped>\n",
       "    .dataframe tbody tr th:only-of-type {\n",
       "        vertical-align: middle;\n",
       "    }\n",
       "\n",
       "    .dataframe tbody tr th {\n",
       "        vertical-align: top;\n",
       "    }\n",
       "\n",
       "    .dataframe thead th {\n",
       "        text-align: right;\n",
       "    }\n",
       "</style>\n",
       "<table border=\"1\" class=\"dataframe\">\n",
       "  <thead>\n",
       "    <tr style=\"text-align: right;\">\n",
       "      <th></th>\n",
       "      <th>Violation Type</th>\n",
       "      <th>size</th>\n",
       "    </tr>\n",
       "  </thead>\n",
       "  <tbody>\n",
       "    <tr>\n",
       "      <th>0</th>\n",
       "      <td>BLUE</td>\n",
       "      <td>2</td>\n",
       "    </tr>\n",
       "    <tr>\n",
       "      <th>1</th>\n",
       "      <td>RED</td>\n",
       "      <td>7</td>\n",
       "    </tr>\n",
       "  </tbody>\n",
       "</table>\n",
       "</div>"
      ],
      "text/plain": [
       "  Violation Type  size\n",
       "0           BLUE     2\n",
       "1            RED     7"
      ]
     },
     "execution_count": 94,
     "metadata": {},
     "output_type": "execute_result"
    }
   ],
   "source": [
    "mask=R1['Violation Type']=='RED'\n",
    "inspection_result2=R1[mask]\n",
    "\n",
    "inspection_result_size=inspection_result.groupby('Violation Type',as_index=False).size()\n",
    "inspection_result_size"
   ]
  },
  {
   "cell_type": "code",
   "execution_count": 96,
   "id": "3faeeec2",
   "metadata": {},
   "outputs": [
    {
     "data": {
      "text/plain": [
       "array(['BEST CORN #1', \"DANTE'S INFERNO DOGS (1)\", 'ROTIE CELLARS',\n",
       "       'SWAGATH HOME FOODS LLS'], dtype=object)"
      ]
     },
     "execution_count": 96,
     "metadata": {},
     "output_type": "execute_result"
    }
   ],
   "source": [
    "inspection_result.Name.unique()"
   ]
  },
  {
   "cell_type": "markdown",
   "id": "5d6b6592",
   "metadata": {},
   "source": [
    "## Inspection Result"
   ]
  },
  {
   "cell_type": "markdown",
   "id": "c191c8b1",
   "metadata": {},
   "source": [
    "# موضاعات قابل طرح    \n",
    "۱- آیا این دسته از بیزنس ها دارای اهمیت کمی هستند برای تعطیلی؟<br>\n",
    "۲- ایا نمره پایین علت تعطیل نشدن بوده است؟<br>\n",
    "## فرضیات\n",
    "۱- ارنباط مستقیم inspection score و inspection result=Unsatisfactory<br>\n",
    "۲- شرط لازم برای تعطیلی -Unsatisfactory و - RED<br>\n",
    "۳- عملکرد ضغیف بیزینس های بیروت بر<br>\n",
    "\n"
   ]
  },
  {
   "cell_type": "markdown",
   "id": "2fc921ad",
   "metadata": {},
   "source": [
    "# Risk Category 2"
   ]
  },
  {
   "cell_type": "markdown",
   "id": "cbacbf84",
   "metadata": {},
   "source": [
    "## بررسی اولیه دیتا"
   ]
  },
  {
   "cell_type": "code",
   "execution_count": 56,
   "id": "1ee8acc9-7c45-4e76-9d3a-51c8ab5d1640",
   "metadata": {},
   "outputs": [
    {
     "name": "stderr",
     "output_type": "stream",
     "text": [
      "/var/folders/hn/cjgf8lqs607cny8_gr2rmcpc0000gn/T/ipykernel_835/252493249.py:2: SettingWithCopyWarning: \n",
      "A value is trying to be set on a copy of a slice from a DataFrame\n",
      "\n",
      "See the caveats in the documentation: https://pandas.pydata.org/pandas-docs/stable/user_guide/indexing.html#returning-a-view-versus-a-copy\n",
      "  R2.drop(['Category'],axis=1,inplace=True)\n"
     ]
    },
    {
     "data": {
      "text/html": [
       "<div>\n",
       "<style scoped>\n",
       "    .dataframe tbody tr th:only-of-type {\n",
       "        vertical-align: middle;\n",
       "    }\n",
       "\n",
       "    .dataframe tbody tr th {\n",
       "        vertical-align: top;\n",
       "    }\n",
       "\n",
       "    .dataframe thead th {\n",
       "        text-align: right;\n",
       "    }\n",
       "</style>\n",
       "<table border=\"1\" class=\"dataframe\">\n",
       "  <thead>\n",
       "    <tr style=\"text-align: right;\">\n",
       "      <th></th>\n",
       "      <th>Name</th>\n",
       "      <th>Longitude</th>\n",
       "      <th>Latitude</th>\n",
       "      <th>Inspection Type</th>\n",
       "      <th>Inspection Score</th>\n",
       "      <th>Inspection Result</th>\n",
       "      <th>Inspection Closed Business</th>\n",
       "      <th>Violation Type</th>\n",
       "      <th>Grade</th>\n",
       "      <th>capacity</th>\n",
       "    </tr>\n",
       "  </thead>\n",
       "  <tbody>\n",
       "    <tr>\n",
       "      <th>47</th>\n",
       "      <td>100TH AVE CAKES</td>\n",
       "      <td>-122.133729</td>\n",
       "      <td>47.68723</td>\n",
       "      <td>Consultation/Education - Field</td>\n",
       "      <td>0.0</td>\n",
       "      <td>Complete</td>\n",
       "      <td>False</td>\n",
       "      <td>BLUE</td>\n",
       "      <td>1.0</td>\n",
       "      <td>Bakery-no seating</td>\n",
       "    </tr>\n",
       "  </tbody>\n",
       "</table>\n",
       "</div>"
      ],
      "text/plain": [
       "               Name   Longitude  Latitude                 Inspection Type  \\\n",
       "47  100TH AVE CAKES -122.133729  47.68723  Consultation/Education - Field   \n",
       "\n",
       "    Inspection Score Inspection Result  Inspection Closed Business  \\\n",
       "47               0.0          Complete                       False   \n",
       "\n",
       "   Violation Type  Grade           capacity  \n",
       "47           BLUE    1.0  Bakery-no seating  "
      ]
     },
     "execution_count": 56,
     "metadata": {},
     "output_type": "execute_result"
    }
   ],
   "source": [
    "\n",
    "R2=df.loc[df['Category']==2]\n",
    "R2.drop(['Category'],axis=1,inplace=True)\n",
    "R2.head(1)\n"
   ]
  },
  {
   "cell_type": "markdown",
   "id": "7e0f8ccd",
   "metadata": {},
   "source": [
    "<h2>همانطور که مشاهده می گردد رستوران های این دسته همگی به طور میانگین دارای \n",
    "<br>Grade =1 \n",
    "<br>همچنین دارای واریانس بسیار کم (کمتر از ۰.۴)\n",
    "<br>پس برای ساده شدن کار این ستون را حذف می کنیم<h2>\n",
    "<h3 style='color:blue'> ماننددسته اول<h3>"
   ]
  },
  {
   "cell_type": "code",
   "execution_count": 58,
   "id": "2ebcfa70",
   "metadata": {},
   "outputs": [
    {
     "data": {
      "text/plain": [
       "0     0.000000\n",
       "1     0.000000\n",
       "2     0.000000\n",
       "3     0.000000\n",
       "4     0.000000\n",
       "5     0.000000\n",
       "6     0.374064\n",
       "7     0.357450\n",
       "8     0.000000\n",
       "9     0.194359\n",
       "10    0.000000\n",
       "Name: Grade, dtype: float64"
      ]
     },
     "execution_count": 58,
     "metadata": {},
     "output_type": "execute_result"
    }
   ],
   "source": [
    "Grade_capacity2=R2.groupby(by='capacity',as_index=False).std()\n",
    "Grade_capacity2['Grade']"
   ]
  },
  {
   "cell_type": "code",
   "execution_count": 59,
   "id": "1bff4077",
   "metadata": {},
   "outputs": [
    {
     "data": {
      "image/png": "[encoded data removed]",
      "text/plain": [
       "<Figure size 2160x504 with 1 Axes>"
      ]
     },
     "metadata": {
      "needs_background": "light"
     },
     "output_type": "display_data"
    }
   ],
   "source": [
    "Grade_capacity2=R2.groupby(by='capacity',as_index=False).mean()\n",
    "\n",
    "plt.figure(figsize=(30,7))\n",
    "plt.bar(Grade_capacity2['capacity'],Grade_capacity2['Grade'])\n",
    "plt.show()"
   ]
  },
  {
   "cell_type": "code",
   "execution_count": 60,
   "id": "e4d9387a",
   "metadata": {},
   "outputs": [
    {
     "name": "stderr",
     "output_type": "stream",
     "text": [
      "/var/folders/hn/cjgf8lqs607cny8_gr2rmcpc0000gn/T/ipykernel_835/773933874.py:1: SettingWithCopyWarning: \n",
      "A value is trying to be set on a copy of a slice from a DataFrame\n",
      "\n",
      "See the caveats in the documentation: https://pandas.pydata.org/pandas-docs/stable/user_guide/indexing.html#returning-a-view-versus-a-copy\n",
      "  R2.drop(['Grade'],axis=1,inplace=True)\n"
     ]
    },
    {
     "data": {
      "text/html": [
       "<div>\n",
       "<style scoped>\n",
       "    .dataframe tbody tr th:only-of-type {\n",
       "        vertical-align: middle;\n",
       "    }\n",
       "\n",
       "    .dataframe tbody tr th {\n",
       "        vertical-align: top;\n",
       "    }\n",
       "\n",
       "    .dataframe thead th {\n",
       "        text-align: right;\n",
       "    }\n",
       "</style>\n",
       "<table border=\"1\" class=\"dataframe\">\n",
       "  <thead>\n",
       "    <tr style=\"text-align: right;\">\n",
       "      <th></th>\n",
       "      <th>Name</th>\n",
       "      <th>Longitude</th>\n",
       "      <th>Latitude</th>\n",
       "      <th>Inspection Type</th>\n",
       "      <th>Inspection Score</th>\n",
       "      <th>Inspection Result</th>\n",
       "      <th>Inspection Closed Business</th>\n",
       "      <th>Violation Type</th>\n",
       "      <th>capacity</th>\n",
       "    </tr>\n",
       "  </thead>\n",
       "  <tbody>\n",
       "    <tr>\n",
       "      <th>47</th>\n",
       "      <td>100TH AVE CAKES</td>\n",
       "      <td>-122.133729</td>\n",
       "      <td>47.68723</td>\n",
       "      <td>Consultation/Education - Field</td>\n",
       "      <td>0.0</td>\n",
       "      <td>Complete</td>\n",
       "      <td>False</td>\n",
       "      <td>BLUE</td>\n",
       "      <td>Bakery-no seating</td>\n",
       "    </tr>\n",
       "    <tr>\n",
       "      <th>48</th>\n",
       "      <td>100TH AVE CAKES</td>\n",
       "      <td>-122.133729</td>\n",
       "      <td>47.68723</td>\n",
       "      <td>Routine Inspection/Field Review</td>\n",
       "      <td>0.0</td>\n",
       "      <td>Complete</td>\n",
       "      <td>False</td>\n",
       "      <td>BLUE</td>\n",
       "      <td>Bakery-no seating</td>\n",
       "    </tr>\n",
       "    <tr>\n",
       "      <th>49</th>\n",
       "      <td>100TH AVE CAKES</td>\n",
       "      <td>-122.133729</td>\n",
       "      <td>47.68723</td>\n",
       "      <td>Routine Inspection/Field Review</td>\n",
       "      <td>0.0</td>\n",
       "      <td>Satisfactory</td>\n",
       "      <td>False</td>\n",
       "      <td>BLUE</td>\n",
       "      <td>Bakery-no seating</td>\n",
       "    </tr>\n",
       "    <tr>\n",
       "      <th>401</th>\n",
       "      <td>203 DEGREES FAHRENHEIT COFFEE</td>\n",
       "      <td>-122.180170</td>\n",
       "      <td>47.71251</td>\n",
       "      <td>Routine Inspection/Field Review</td>\n",
       "      <td>0.0</td>\n",
       "      <td>Satisfactory</td>\n",
       "      <td>False</td>\n",
       "      <td>BLUE</td>\n",
       "      <td>Seating 13-50</td>\n",
       "    </tr>\n",
       "    <tr>\n",
       "      <th>402</th>\n",
       "      <td>203 DEGREES FAHRENHEIT COFFEE</td>\n",
       "      <td>-122.180170</td>\n",
       "      <td>47.71251</td>\n",
       "      <td>Routine Inspection/Field Review</td>\n",
       "      <td>0.0</td>\n",
       "      <td>Satisfactory</td>\n",
       "      <td>False</td>\n",
       "      <td>BLUE</td>\n",
       "      <td>Seating 13-50</td>\n",
       "    </tr>\n",
       "  </tbody>\n",
       "</table>\n",
       "</div>"
      ],
      "text/plain": [
       "                              Name   Longitude  Latitude  \\\n",
       "47                 100TH AVE CAKES -122.133729  47.68723   \n",
       "48                 100TH AVE CAKES -122.133729  47.68723   \n",
       "49                 100TH AVE CAKES -122.133729  47.68723   \n",
       "401  203 DEGREES FAHRENHEIT COFFEE -122.180170  47.71251   \n",
       "402  203 DEGREES FAHRENHEIT COFFEE -122.180170  47.71251   \n",
       "\n",
       "                     Inspection Type  Inspection Score Inspection Result  \\\n",
       "47    Consultation/Education - Field               0.0          Complete   \n",
       "48   Routine Inspection/Field Review               0.0          Complete   \n",
       "49   Routine Inspection/Field Review               0.0      Satisfactory   \n",
       "401  Routine Inspection/Field Review               0.0      Satisfactory   \n",
       "402  Routine Inspection/Field Review               0.0      Satisfactory   \n",
       "\n",
       "     Inspection Closed Business Violation Type           capacity  \n",
       "47                        False           BLUE  Bakery-no seating  \n",
       "48                        False           BLUE  Bakery-no seating  \n",
       "49                        False           BLUE  Bakery-no seating  \n",
       "401                       False           BLUE      Seating 13-50  \n",
       "402                       False           BLUE      Seating 13-50  "
      ]
     },
     "execution_count": 60,
     "metadata": {},
     "output_type": "execute_result"
    }
   ],
   "source": [
    "R2.drop(['Grade'],axis=1,inplace=True)\n",
    "R2.head()"
   ]
  },
  {
   "cell_type": "markdown",
   "id": "c332e4db",
   "metadata": {},
   "source": [
    "## Inspection Score"
   ]
  },
  {
   "cell_type": "markdown",
   "id": "4a65af0a",
   "metadata": {},
   "source": [
    "<h2>در این مرحله برای بررسی میانگین امتیاز کسب شده توسط گروه های مختلف باید داده های پرت را خارج کنیم<h2>"
   ]
  },
  {
   "cell_type": "code",
   "execution_count": 104,
   "id": "9420be9f",
   "metadata": {},
   "outputs": [
    {
     "data": {
      "image/png": "[encoded data removed]",
      "text/plain": [
       "<Figure size 2160x504 with 1 Axes>"
      ]
     },
     "metadata": {
      "needs_background": "light"
     },
     "output_type": "display_data"
    }
   ],
   "source": [
    "\n",
    "plt.figure(figsize=(30,7))\n",
    "sns.boxplot(x=R2[\"Inspection Score\"],y=R2[\"capacity\"])\n",
    "plt.show()"
   ]
  },
  {
   "cell_type": "code",
   "execution_count": 62,
   "id": "fa5502ba",
   "metadata": {},
   "outputs": [
    {
     "data": {
      "text/html": [
       "<div>\n",
       "<style scoped>\n",
       "    .dataframe tbody tr th:only-of-type {\n",
       "        vertical-align: middle;\n",
       "    }\n",
       "\n",
       "    .dataframe tbody tr th {\n",
       "        vertical-align: top;\n",
       "    }\n",
       "\n",
       "    .dataframe thead th {\n",
       "        text-align: right;\n",
       "    }\n",
       "</style>\n",
       "<table border=\"1\" class=\"dataframe\">\n",
       "  <thead>\n",
       "    <tr style=\"text-align: right;\">\n",
       "      <th></th>\n",
       "      <th>capacity</th>\n",
       "      <th>Inspection Score</th>\n",
       "    </tr>\n",
       "  </thead>\n",
       "  <tbody>\n",
       "    <tr>\n",
       "      <th>0</th>\n",
       "      <td>Bakery-no seating</td>\n",
       "      <td>9.647374</td>\n",
       "    </tr>\n",
       "    <tr>\n",
       "      <th>1</th>\n",
       "      <td>Caterer</td>\n",
       "      <td>4.836550</td>\n",
       "    </tr>\n",
       "    <tr>\n",
       "      <th>2</th>\n",
       "      <td>Grocery Store-no seating</td>\n",
       "      <td>10.340172</td>\n",
       "    </tr>\n",
       "    <tr>\n",
       "      <th>3</th>\n",
       "      <td>Mobile Food Unit</td>\n",
       "      <td>18.547526</td>\n",
       "    </tr>\n",
       "    <tr>\n",
       "      <th>4</th>\n",
       "      <td>Non-Profit Institution</td>\n",
       "      <td>8.529709</td>\n",
       "    </tr>\n",
       "    <tr>\n",
       "      <th>5</th>\n",
       "      <td>School Lunch Program</td>\n",
       "      <td>7.382584</td>\n",
       "    </tr>\n",
       "    <tr>\n",
       "      <th>6</th>\n",
       "      <td>Seating 0-12</td>\n",
       "      <td>9.690641</td>\n",
       "    </tr>\n",
       "    <tr>\n",
       "      <th>7</th>\n",
       "      <td>Seating 13-50</td>\n",
       "      <td>9.745300</td>\n",
       "    </tr>\n",
       "    <tr>\n",
       "      <th>8</th>\n",
       "      <td>Seating 151-250</td>\n",
       "      <td>13.881771</td>\n",
       "    </tr>\n",
       "    <tr>\n",
       "      <th>9</th>\n",
       "      <td>Seating 51-150</td>\n",
       "      <td>7.522471</td>\n",
       "    </tr>\n",
       "    <tr>\n",
       "      <th>10</th>\n",
       "      <td>Seating &gt; 250</td>\n",
       "      <td>2.886751</td>\n",
       "    </tr>\n",
       "  </tbody>\n",
       "</table>\n",
       "</div>"
      ],
      "text/plain": [
       "                    capacity  Inspection Score\n",
       "0          Bakery-no seating          9.647374\n",
       "1                    Caterer          4.836550\n",
       "2   Grocery Store-no seating         10.340172\n",
       "3           Mobile Food Unit         18.547526\n",
       "4     Non-Profit Institution          8.529709\n",
       "5       School Lunch Program          7.382584\n",
       "6               Seating 0-12          9.690641\n",
       "7              Seating 13-50          9.745300\n",
       "8            Seating 151-250         13.881771\n",
       "9             Seating 51-150          7.522471\n",
       "10             Seating > 250          2.886751"
      ]
     },
     "execution_count": 62,
     "metadata": {},
     "output_type": "execute_result"
    }
   ],
   "source": [
    "inspection_std2=R2.drop(['Longitude','Latitude','Inspection Closed Business'],axis=1).groupby(by='capacity',as_index=False).std()\n",
    "inspection_std2"
   ]
  },
  {
   "cell_type": "markdown",
   "id": "ce765316",
   "metadata": {},
   "source": [
    "<h4>باتوجه به واریانس و باکس پلات تنها ردیفی که دارای نمره منفی می باشد را از دیتا حذف می کنیم<h4>"
   ]
  },
  {
   "cell_type": "code",
   "execution_count": 72,
   "id": "7991061f",
   "metadata": {},
   "outputs": [
    {
     "data": {
      "image/png": "[encoded data removed]",
      "text/plain": [
       "<Figure size 2160x504 with 1 Axes>"
      ]
     },
     "metadata": {
      "needs_background": "light"
     },
     "output_type": "display_data"
    }
   ],
   "source": [
    "wrong_data=R2.loc[R2['Inspection Score']<0].index\n",
    "# delete the row and R2 modified\n",
    "R2_m=R2.drop(wrong_data)\n",
    "plt.figure(figsize=(30,7))\n",
    "sns.boxplot(x=R2_m[\"Inspection Score\"],y=R2_m[\"capacity\"])\n",
    "plt.show()\n"
   ]
  },
  {
   "cell_type": "code",
   "execution_count": 76,
   "id": "3ed77eca",
   "metadata": {},
   "outputs": [
    {
     "data": {
      "text/html": [
       "<div>\n",
       "<style scoped>\n",
       "    .dataframe tbody tr th:only-of-type {\n",
       "        vertical-align: middle;\n",
       "    }\n",
       "\n",
       "    .dataframe tbody tr th {\n",
       "        vertical-align: top;\n",
       "    }\n",
       "\n",
       "    .dataframe thead th {\n",
       "        text-align: right;\n",
       "    }\n",
       "</style>\n",
       "<table border=\"1\" class=\"dataframe\">\n",
       "  <thead>\n",
       "    <tr style=\"text-align: right;\">\n",
       "      <th></th>\n",
       "      <th>capacity</th>\n",
       "      <th>Inspection Score</th>\n",
       "    </tr>\n",
       "  </thead>\n",
       "  <tbody>\n",
       "    <tr>\n",
       "      <th>0</th>\n",
       "      <td>Bakery-no seating</td>\n",
       "      <td>4.977209</td>\n",
       "    </tr>\n",
       "    <tr>\n",
       "      <th>1</th>\n",
       "      <td>Caterer</td>\n",
       "      <td>1.650794</td>\n",
       "    </tr>\n",
       "    <tr>\n",
       "      <th>2</th>\n",
       "      <td>Grocery Store-no seating</td>\n",
       "      <td>7.177128</td>\n",
       "    </tr>\n",
       "    <tr>\n",
       "      <th>3</th>\n",
       "      <td>Mobile Food Unit</td>\n",
       "      <td>16.367556</td>\n",
       "    </tr>\n",
       "    <tr>\n",
       "      <th>4</th>\n",
       "      <td>Non-Profit Institution</td>\n",
       "      <td>4.097561</td>\n",
       "    </tr>\n",
       "    <tr>\n",
       "      <th>5</th>\n",
       "      <td>School Lunch Program</td>\n",
       "      <td>2.883900</td>\n",
       "    </tr>\n",
       "    <tr>\n",
       "      <th>6</th>\n",
       "      <td>Seating 0-12</td>\n",
       "      <td>5.211111</td>\n",
       "    </tr>\n",
       "    <tr>\n",
       "      <th>7</th>\n",
       "      <td>Seating 13-50</td>\n",
       "      <td>5.012806</td>\n",
       "    </tr>\n",
       "    <tr>\n",
       "      <th>8</th>\n",
       "      <td>Seating 151-250</td>\n",
       "      <td>14.391304</td>\n",
       "    </tr>\n",
       "    <tr>\n",
       "      <th>9</th>\n",
       "      <td>Seating 51-150</td>\n",
       "      <td>4.057325</td>\n",
       "    </tr>\n",
       "    <tr>\n",
       "      <th>10</th>\n",
       "      <td>Seating &gt; 250</td>\n",
       "      <td>1.666667</td>\n",
       "    </tr>\n",
       "  </tbody>\n",
       "</table>\n",
       "</div>"
      ],
      "text/plain": [
       "                    capacity  Inspection Score\n",
       "0          Bakery-no seating          4.977209\n",
       "1                    Caterer          1.650794\n",
       "2   Grocery Store-no seating          7.177128\n",
       "3           Mobile Food Unit         16.367556\n",
       "4     Non-Profit Institution          4.097561\n",
       "5       School Lunch Program          2.883900\n",
       "6               Seating 0-12          5.211111\n",
       "7              Seating 13-50          5.012806\n",
       "8            Seating 151-250         14.391304\n",
       "9             Seating 51-150          4.057325\n",
       "10             Seating > 250          1.666667"
      ]
     },
     "execution_count": 76,
     "metadata": {},
     "output_type": "execute_result"
    }
   ],
   "source": [
    "inspection_mean2=R2_m.drop(['Longitude','Latitude','Inspection Closed Business'],axis=1).groupby(by='capacity',as_index=False).mean()\n",
    "inspection_mean2"
   ]
  },
  {
   "cell_type": "code",
   "execution_count": 80,
   "id": "4d51d05d",
   "metadata": {},
   "outputs": [
    {
     "data": {
      "image/png": "[encoded data removed]",
      "text/plain": [
       "<Figure size 432x288 with 1 Axes>"
      ]
     },
     "metadata": {
      "needs_background": "light"
     },
     "output_type": "display_data"
    },
    {
     "data": {
      "image/png": "[encoded data removed]",
      "text/plain": [
       "<Figure size 432x288 with 1 Axes>"
      ]
     },
     "metadata": {
      "needs_background": "light"
     },
     "output_type": "display_data"
    },
    {
     "data": {
      "image/png": "[encoded data removed]",
      "text/plain": [
       "<Figure size 432x288 with 1 Axes>"
      ]
     },
     "metadata": {
      "needs_background": "light"
     },
     "output_type": "display_data"
    },
    {
     "data": {
      "image/png": "[encoded data removed]",
      "text/plain": [
       "<Figure size 432x288 with 1 Axes>"
      ]
     },
     "metadata": {
      "needs_background": "light"
     },
     "output_type": "display_data"
    },
    {
     "data": {
      "image/png": "[encoded data removed]",
      "text/plain": [
       "<Figure size 432x288 with 1 Axes>"
      ]
     },
     "metadata": {
      "needs_background": "light"
     },
     "output_type": "display_data"
    },
    {
     "data": {
      "image/png": "[encoded data removed]",
      "text/plain": [
       "<Figure size 432x288 with 1 Axes>"
      ]
     },
     "metadata": {
      "needs_background": "light"
     },
     "output_type": "display_data"
    },
    {
     "data": {
      "image/png": "[encoded data removed]",
      "text/plain": [
       "<Figure size 432x288 with 1 Axes>"
      ]
     },
     "metadata": {
      "needs_background": "light"
     },
     "output_type": "display_data"
    },
    {
     "data": {
      "image/png": "[encoded data removed]",
      "text/plain": [
       "<Figure size 432x288 with 1 Axes>"
      ]
     },
     "metadata": {
      "needs_background": "light"
     },
     "output_type": "display_data"
    },
    {
     "data": {
      "image/png": "[encoded data removed]",
      "text/plain": [
       "<Figure size 432x288 with 1 Axes>"
      ]
     },
     "metadata": {
      "needs_background": "light"
     },
     "output_type": "display_data"
    },
    {
     "data": {
      "image/png": "[encoded data removed]",
      "text/plain": [
       "<Figure size 432x288 with 1 Axes>"
      ]
     },
     "metadata": {
      "needs_background": "light"
     },
     "output_type": "display_data"
    },
    {
     "data": {
      "image/png": "[encoded data removed]",
      "text/plain": [
       "<Figure size 432x288 with 1 Axes>"
      ]
     },
     "metadata": {
      "needs_background": "light"
     },
     "output_type": "display_data"
    }
   ],
   "source": [
    "\n",
    "capacity_score2=R2_m.pivot_table(index=['capacity','Name'])\n",
    "\n",
    "capacities2=['Bakery-no seating','Caterer',\n",
    "       'Grocery Store-no seating', 'Mobile Food Unit', \n",
    "       'Non-Profit Institution','School Lunch Program','Seating 0-12','Seating 13-50','Seating 151-250','Seating 51-150','Seating > 250']\n",
    "\n",
    "for index,score in enumerate (capacities2):\n",
    "   plt.title(f\"{score}'s mean is {inspection_mean2['Inspection Score'][index]}\" )\n",
    "   sns.histplot(data=capacity_score2.loc[[score]], x=\"Inspection Score\",bins=20)\n",
    "   plt.show()"
   ]
  },
  {
   "cell_type": "markdown",
   "id": "a14265c4",
   "metadata": {},
   "source": [
    "<h3> به صورت کلی تغییر محسوسی در قیاس با دسته قبلی به جز چند گروه مشاهده نشد<br><h3>\n",
    "<h3 style='color:green'> نکته<br>\n",
    "روند مشاهده شده این فرض را ایجاد می کند تا درگروه های دیگر هیستوگرام به سمت نمرات بالاتر میل کند<h3>"
   ]
  },
  {
   "cell_type": "code",
   "execution_count": 79,
   "id": "d0e7c5fb",
   "metadata": {},
   "outputs": [
    {
     "data": {
      "image/png": "[encoded data removed]",
      "text/plain": [
       "<Figure size 2160x504 with 1 Axes>"
      ]
     },
     "metadata": {
      "needs_background": "light"
     },
     "output_type": "display_data"
    }
   ],
   "source": [
    "\n",
    "\n",
    "plt.figure(figsize=(30,7))\n",
    "plt.bar(x=inspection_mean2['capacity'],height=inspection_mean2['Inspection Score'])\n",
    "plt.show()"
   ]
  },
  {
   "cell_type": "markdown",
   "id": "95387d62",
   "metadata": {},
   "source": [
    "## Inspection Closed Business"
   ]
  },
  {
   "cell_type": "code",
   "execution_count": 81,
   "id": "172b8926",
   "metadata": {},
   "outputs": [
    {
     "data": {
      "image/png": "[encoded data removed]",
      "text/plain": [
       "<Figure size 1656x1080 with 1 Axes>"
      ]
     },
     "metadata": {
      "needs_background": "light"
     },
     "output_type": "display_data"
    }
   ],
   "source": [
    "capacity_colsed2=R2_m.groupby(by=['capacity','Inspection Closed Business'],as_index=False).size()\n",
    "plt.figure(figsize=(23,15))\n",
    "bars=sns.barplot(data=capacity_colsed2, x=\"capacity\", y=\"size\", hue=\"Inspection Closed Business\")\n",
    "plt.yticks(capacity_colsed2['size'])\n",
    "for i in bars.containers:\n",
    "    bars.bar_label(i,)\n",
    "plt.show()"
   ]
  },
  {
   "cell_type": "code",
   "execution_count": 82,
   "id": "f393c5b3",
   "metadata": {},
   "outputs": [
    {
     "data": {
      "text/html": [
       "<div>\n",
       "<style scoped>\n",
       "    .dataframe tbody tr th:only-of-type {\n",
       "        vertical-align: middle;\n",
       "    }\n",
       "\n",
       "    .dataframe tbody tr th {\n",
       "        vertical-align: top;\n",
       "    }\n",
       "\n",
       "    .dataframe thead th {\n",
       "        text-align: right;\n",
       "    }\n",
       "</style>\n",
       "<table border=\"1\" class=\"dataframe\">\n",
       "  <thead>\n",
       "    <tr style=\"text-align: right;\">\n",
       "      <th></th>\n",
       "      <th>capacity</th>\n",
       "      <th>Inspection Closed Business</th>\n",
       "      <th>size</th>\n",
       "    </tr>\n",
       "  </thead>\n",
       "  <tbody>\n",
       "    <tr>\n",
       "      <th>0</th>\n",
       "      <td>Bakery-no seating</td>\n",
       "      <td>False</td>\n",
       "      <td>4300</td>\n",
       "    </tr>\n",
       "    <tr>\n",
       "      <th>1</th>\n",
       "      <td>Caterer</td>\n",
       "      <td>False</td>\n",
       "      <td>63</td>\n",
       "    </tr>\n",
       "    <tr>\n",
       "      <th>2</th>\n",
       "      <td>Grocery Store-no seating</td>\n",
       "      <td>False</td>\n",
       "      <td>2326</td>\n",
       "    </tr>\n",
       "    <tr>\n",
       "      <th>3</th>\n",
       "      <td>Mobile Food Unit</td>\n",
       "      <td>False</td>\n",
       "      <td>455</td>\n",
       "    </tr>\n",
       "    <tr>\n",
       "      <th>4</th>\n",
       "      <td>Mobile Food Unit</td>\n",
       "      <td>True</td>\n",
       "      <td>32</td>\n",
       "    </tr>\n",
       "    <tr>\n",
       "      <th>5</th>\n",
       "      <td>Non-Profit Institution</td>\n",
       "      <td>False</td>\n",
       "      <td>615</td>\n",
       "    </tr>\n",
       "    <tr>\n",
       "      <th>6</th>\n",
       "      <td>School Lunch Program</td>\n",
       "      <td>False</td>\n",
       "      <td>13081</td>\n",
       "    </tr>\n",
       "    <tr>\n",
       "      <th>7</th>\n",
       "      <td>Seating 0-12</td>\n",
       "      <td>False</td>\n",
       "      <td>6930</td>\n",
       "    </tr>\n",
       "    <tr>\n",
       "      <th>8</th>\n",
       "      <td>Seating 13-50</td>\n",
       "      <td>False</td>\n",
       "      <td>7014</td>\n",
       "    </tr>\n",
       "    <tr>\n",
       "      <th>9</th>\n",
       "      <td>Seating 13-50</td>\n",
       "      <td>True</td>\n",
       "      <td>1</td>\n",
       "    </tr>\n",
       "    <tr>\n",
       "      <th>10</th>\n",
       "      <td>Seating 151-250</td>\n",
       "      <td>False</td>\n",
       "      <td>23</td>\n",
       "    </tr>\n",
       "    <tr>\n",
       "      <th>11</th>\n",
       "      <td>Seating 51-150</td>\n",
       "      <td>False</td>\n",
       "      <td>942</td>\n",
       "    </tr>\n",
       "    <tr>\n",
       "      <th>12</th>\n",
       "      <td>Seating &gt; 250</td>\n",
       "      <td>False</td>\n",
       "      <td>3</td>\n",
       "    </tr>\n",
       "  </tbody>\n",
       "</table>\n",
       "</div>"
      ],
      "text/plain": [
       "                    capacity  Inspection Closed Business   size\n",
       "0          Bakery-no seating                       False   4300\n",
       "1                    Caterer                       False     63\n",
       "2   Grocery Store-no seating                       False   2326\n",
       "3           Mobile Food Unit                       False    455\n",
       "4           Mobile Food Unit                        True     32\n",
       "5     Non-Profit Institution                       False    615\n",
       "6       School Lunch Program                       False  13081\n",
       "7               Seating 0-12                       False   6930\n",
       "8              Seating 13-50                       False   7014\n",
       "9              Seating 13-50                        True      1\n",
       "10           Seating 151-250                       False     23\n",
       "11            Seating 51-150                       False    942\n",
       "12             Seating > 250                       False      3"
      ]
     },
     "execution_count": 82,
     "metadata": {},
     "output_type": "execute_result"
    }
   ],
   "source": [
    "capacity_colsed2"
   ]
  },
  {
   "cell_type": "markdown",
   "id": "0caa6364",
   "metadata": {},
   "source": [
    "<h3>در ایت دسته تعداد بسیار بیشتری نسبت به دسته قبلی تعطیلی مرکز داشته ایم (۳۳ مورد) تقریبا بیش از ۳ برابر<br>\n",
    "Mobile Food Unit در جایگاه نخست قرار گرقته است .مانند دسته قبلی <h3>"
   ]
  },
  {
   "cell_type": "code",
   "execution_count": 95,
   "id": "a02c8f84",
   "metadata": {},
   "outputs": [
    {
     "data": {
      "text/html": [
       "<div>\n",
       "<style scoped>\n",
       "    .dataframe tbody tr th:only-of-type {\n",
       "        vertical-align: middle;\n",
       "    }\n",
       "\n",
       "    .dataframe tbody tr th {\n",
       "        vertical-align: top;\n",
       "    }\n",
       "\n",
       "    .dataframe thead th {\n",
       "        text-align: right;\n",
       "    }\n",
       "</style>\n",
       "<table border=\"1\" class=\"dataframe\">\n",
       "  <thead>\n",
       "    <tr style=\"text-align: right;\">\n",
       "      <th></th>\n",
       "      <th>Inspection Result</th>\n",
       "      <th>size</th>\n",
       "    </tr>\n",
       "  </thead>\n",
       "  <tbody>\n",
       "    <tr>\n",
       "      <th>0</th>\n",
       "      <td>Not Accessible</td>\n",
       "      <td>1</td>\n",
       "    </tr>\n",
       "    <tr>\n",
       "      <th>1</th>\n",
       "      <td>Unsatisfactory</td>\n",
       "      <td>32</td>\n",
       "    </tr>\n",
       "  </tbody>\n",
       "</table>\n",
       "</div>"
      ],
      "text/plain": [
       "  Inspection Result  size\n",
       "0    Not Accessible     1\n",
       "1    Unsatisfactory    32"
      ]
     },
     "execution_count": 95,
     "metadata": {},
     "output_type": "execute_result"
    }
   ],
   "source": [
    "mask2=R2_m['Inspection Closed Business']==True\n",
    "inspection_result2=R2_m[mask2]\n",
    "\n",
    "inspection_result_size2=inspection_result2.groupby('Inspection Result',as_index=False).size()\n",
    "inspection_result_size2"
   ]
  },
  {
   "cell_type": "markdown",
   "id": "45f26e20",
   "metadata": {},
   "source": [
    "<h3 style='color:yellow'>فرض : <br>\n",
    "<br>می توان گفت شرط لازم برای تعطیلی مرکز: نتیجه بررسی (غیر قابل می باشد)\n",
    " مانند دسته قبلی، مراکز تعطیل شده Unsatisfactory می باشند <h3>"
   ]
  },
  {
   "cell_type": "code",
   "execution_count": 89,
   "id": "0946747c",
   "metadata": {},
   "outputs": [
    {
     "data": {
      "text/plain": [
       "Inspection Score\n",
       "2.0     1\n",
       "25.0    2\n",
       "35.0    6\n",
       "dtype: int64"
      ]
     },
     "execution_count": 89,
     "metadata": {},
     "output_type": "execute_result"
    }
   ],
   "source": [
    "inspection_result.groupby('Inspection Score').size()"
   ]
  },
  {
   "cell_type": "code",
   "execution_count": 92,
   "id": "b5758b3f",
   "metadata": {},
   "outputs": [
    {
     "data": {
      "text/html": [
       "<div>\n",
       "<style scoped>\n",
       "    .dataframe tbody tr th:only-of-type {\n",
       "        vertical-align: middle;\n",
       "    }\n",
       "\n",
       "    .dataframe tbody tr th {\n",
       "        vertical-align: top;\n",
       "    }\n",
       "\n",
       "    .dataframe thead th {\n",
       "        text-align: right;\n",
       "    }\n",
       "</style>\n",
       "<table border=\"1\" class=\"dataframe\">\n",
       "  <thead>\n",
       "    <tr style=\"text-align: right;\">\n",
       "      <th></th>\n",
       "      <th>Name</th>\n",
       "      <th>Longitude</th>\n",
       "      <th>Latitude</th>\n",
       "      <th>Inspection Type</th>\n",
       "      <th>Inspection Score</th>\n",
       "      <th>Inspection Result</th>\n",
       "      <th>Inspection Closed Business</th>\n",
       "      <th>Violation Type</th>\n",
       "      <th>Grade</th>\n",
       "      <th>capacity</th>\n",
       "    </tr>\n",
       "  </thead>\n",
       "  <tbody>\n",
       "    <tr>\n",
       "      <th>22375</th>\n",
       "      <td>BEST CORN #1</td>\n",
       "      <td>-122.354232</td>\n",
       "      <td>47.515381</td>\n",
       "      <td>Routine Inspection/Field Review</td>\n",
       "      <td>25.0</td>\n",
       "      <td>Unsatisfactory</td>\n",
       "      <td>True</td>\n",
       "      <td>RED</td>\n",
       "      <td>1.0</td>\n",
       "      <td>Mobile Food Unit</td>\n",
       "    </tr>\n",
       "    <tr>\n",
       "      <th>22376</th>\n",
       "      <td>BEST CORN #1</td>\n",
       "      <td>-122.354232</td>\n",
       "      <td>47.515381</td>\n",
       "      <td>Routine Inspection/Field Review</td>\n",
       "      <td>25.0</td>\n",
       "      <td>Unsatisfactory</td>\n",
       "      <td>True</td>\n",
       "      <td>RED</td>\n",
       "      <td>1.0</td>\n",
       "      <td>Mobile Food Unit</td>\n",
       "    </tr>\n",
       "    <tr>\n",
       "      <th>49910</th>\n",
       "      <td>DANTE'S INFERNO DOGS (1)</td>\n",
       "      <td>-122.382581</td>\n",
       "      <td>47.666475</td>\n",
       "      <td>Routine Inspection/Field Review</td>\n",
       "      <td>35.0</td>\n",
       "      <td>Unsatisfactory</td>\n",
       "      <td>True</td>\n",
       "      <td>RED</td>\n",
       "      <td>1.0</td>\n",
       "      <td>Mobile Food Unit</td>\n",
       "    </tr>\n",
       "    <tr>\n",
       "      <th>49911</th>\n",
       "      <td>DANTE'S INFERNO DOGS (1)</td>\n",
       "      <td>-122.382581</td>\n",
       "      <td>47.666475</td>\n",
       "      <td>Routine Inspection/Field Review</td>\n",
       "      <td>35.0</td>\n",
       "      <td>Unsatisfactory</td>\n",
       "      <td>True</td>\n",
       "      <td>RED</td>\n",
       "      <td>1.0</td>\n",
       "      <td>Mobile Food Unit</td>\n",
       "    </tr>\n",
       "    <tr>\n",
       "      <th>174875</th>\n",
       "      <td>ROTIE CELLARS</td>\n",
       "      <td>-122.334709</td>\n",
       "      <td>47.567158</td>\n",
       "      <td>Routine Inspection/Field Review</td>\n",
       "      <td>2.0</td>\n",
       "      <td>Satisfactory</td>\n",
       "      <td>True</td>\n",
       "      <td>BLUE</td>\n",
       "      <td>4.0</td>\n",
       "      <td>Seating 0-12</td>\n",
       "    </tr>\n",
       "    <tr>\n",
       "      <th>212218</th>\n",
       "      <td>SWAGATH HOME FOODS LLS</td>\n",
       "      <td>-122.099447</td>\n",
       "      <td>47.671469</td>\n",
       "      <td>Return Inspection</td>\n",
       "      <td>35.0</td>\n",
       "      <td>Unsatisfactory</td>\n",
       "      <td>True</td>\n",
       "      <td>BLUE</td>\n",
       "      <td>1.0</td>\n",
       "      <td>Grocery Store-no seating</td>\n",
       "    </tr>\n",
       "    <tr>\n",
       "      <th>212219</th>\n",
       "      <td>SWAGATH HOME FOODS LLS</td>\n",
       "      <td>-122.099447</td>\n",
       "      <td>47.671469</td>\n",
       "      <td>Return Inspection</td>\n",
       "      <td>35.0</td>\n",
       "      <td>Unsatisfactory</td>\n",
       "      <td>True</td>\n",
       "      <td>RED</td>\n",
       "      <td>1.0</td>\n",
       "      <td>Grocery Store-no seating</td>\n",
       "    </tr>\n",
       "    <tr>\n",
       "      <th>212220</th>\n",
       "      <td>SWAGATH HOME FOODS LLS</td>\n",
       "      <td>-122.099447</td>\n",
       "      <td>47.671469</td>\n",
       "      <td>Return Inspection</td>\n",
       "      <td>35.0</td>\n",
       "      <td>Unsatisfactory</td>\n",
       "      <td>True</td>\n",
       "      <td>RED</td>\n",
       "      <td>1.0</td>\n",
       "      <td>Grocery Store-no seating</td>\n",
       "    </tr>\n",
       "    <tr>\n",
       "      <th>212221</th>\n",
       "      <td>SWAGATH HOME FOODS LLS</td>\n",
       "      <td>-122.099447</td>\n",
       "      <td>47.671469</td>\n",
       "      <td>Return Inspection</td>\n",
       "      <td>35.0</td>\n",
       "      <td>Unsatisfactory</td>\n",
       "      <td>True</td>\n",
       "      <td>RED</td>\n",
       "      <td>1.0</td>\n",
       "      <td>Grocery Store-no seating</td>\n",
       "    </tr>\n",
       "  </tbody>\n",
       "</table>\n",
       "</div>"
      ],
      "text/plain": [
       "                            Name   Longitude   Latitude  \\\n",
       "22375               BEST CORN #1 -122.354232  47.515381   \n",
       "22376               BEST CORN #1 -122.354232  47.515381   \n",
       "49910   DANTE'S INFERNO DOGS (1) -122.382581  47.666475   \n",
       "49911   DANTE'S INFERNO DOGS (1) -122.382581  47.666475   \n",
       "174875             ROTIE CELLARS -122.334709  47.567158   \n",
       "212218    SWAGATH HOME FOODS LLS -122.099447  47.671469   \n",
       "212219    SWAGATH HOME FOODS LLS -122.099447  47.671469   \n",
       "212220    SWAGATH HOME FOODS LLS -122.099447  47.671469   \n",
       "212221    SWAGATH HOME FOODS LLS -122.099447  47.671469   \n",
       "\n",
       "                        Inspection Type  Inspection Score Inspection Result  \\\n",
       "22375   Routine Inspection/Field Review              25.0    Unsatisfactory   \n",
       "22376   Routine Inspection/Field Review              25.0    Unsatisfactory   \n",
       "49910   Routine Inspection/Field Review              35.0    Unsatisfactory   \n",
       "49911   Routine Inspection/Field Review              35.0    Unsatisfactory   \n",
       "174875  Routine Inspection/Field Review               2.0      Satisfactory   \n",
       "212218                Return Inspection              35.0    Unsatisfactory   \n",
       "212219                Return Inspection              35.0    Unsatisfactory   \n",
       "212220                Return Inspection              35.0    Unsatisfactory   \n",
       "212221                Return Inspection              35.0    Unsatisfactory   \n",
       "\n",
       "        Inspection Closed Business Violation Type  Grade  \\\n",
       "22375                         True            RED    1.0   \n",
       "22376                         True            RED    1.0   \n",
       "49910                         True            RED    1.0   \n",
       "49911                         True            RED    1.0   \n",
       "174875                        True           BLUE    4.0   \n",
       "212218                        True           BLUE    1.0   \n",
       "212219                        True            RED    1.0   \n",
       "212220                        True            RED    1.0   \n",
       "212221                        True            RED    1.0   \n",
       "\n",
       "                        capacity  \n",
       "22375           Mobile Food Unit  \n",
       "22376           Mobile Food Unit  \n",
       "49910           Mobile Food Unit  \n",
       "49911           Mobile Food Unit  \n",
       "174875              Seating 0-12  \n",
       "212218  Grocery Store-no seating  \n",
       "212219  Grocery Store-no seating  \n",
       "212220  Grocery Store-no seating  \n",
       "212221  Grocery Store-no seating  "
      ]
     },
     "execution_count": 92,
     "metadata": {},
     "output_type": "execute_result"
    }
   ],
   "source": [
    "inspection_result"
   ]
  },
  {
   "cell_type": "code",
   "execution_count": 93,
   "id": "5aa341e9",
   "metadata": {},
   "outputs": [
    {
     "data": {
      "text/plain": [
       "array(['BEST CORN #1', \"DANTE'S INFERNO DOGS (1)\", 'ROTIE CELLARS',\n",
       "       'SWAGATH HOME FOODS LLS'], dtype=object)"
      ]
     },
     "execution_count": 93,
     "metadata": {},
     "output_type": "execute_result"
    }
   ],
   "source": [
    "inspection_result.Name.unique()"
   ]
  },
  {
   "cell_type": "code",
   "execution_count": 88,
   "id": "1d9d63ca",
   "metadata": {},
   "outputs": [
    {
     "data": {
      "text/plain": [
       "Violation Type\n",
       "BLUE    2\n",
       "RED     7\n",
       "dtype: int64"
      ]
     },
     "execution_count": 88,
     "metadata": {},
     "output_type": "execute_result"
    }
   ],
   "source": [
    "inspection_result.groupby('Violation Type').size()"
   ]
  },
  {
   "cell_type": "markdown",
   "id": "7a942ef5",
   "metadata": {},
   "source": [
    "<h3>نکات بدست امده از جدول <br>\n",
    "- تمام موارد غیر قابل قبول برای بیزینس هایی می باشد که به صورت بیرون بر می باشند<br>\n",
    "- نوع خطا RED<br>\n",
    "- دارای نمرات بالا inspection score<br>\n",
    "- همگی در یک محدوده جغرافیایی می باشند<br>\n",
    "- مانند دسته قبلی بیزینس های تعطیل شده همان قبلی ها می باشند<br>\n",
    "'BEST CORN #1', \"DANTE'S INFERNO DOGS (1)\", 'ROTIE CELLARS',\n",
    "       'SWAGATH HOME FOODS LLS'<h3>"
   ]
  },
  {
   "cell_type": "markdown",
   "id": "b08dd7cb",
   "metadata": {},
   "source": [
    "# موضاعات قابل طرح  \n",
    "  \n",
    "۱- آیا این دسته از بیزنس ها دارای اهمیت کمی هستند برای تعطیلی؟<br>\n",
    "<h5 style='color:orange'>با افزایش سطح ریسک میزان تعطیلی ها بیشتر شده است و این میتواند تاییدی باشد بر اینکه<br> \n",
    "risk category <br>\n",
    "برای تعطیلی ها نقش مهمی ایفا می کند\n",
    "<h5><br>\n",
    "۲- ایا نمره پایین علت تعطیل نشدن بوده است؟<br>\n",
    "<h5 style='color:orange'> نمی توان با قطعیت گفت . <h5>\n",
    "\n",
    "## فرضیات\n",
    "\n",
    "۱- ارنباط مستقیم inspection score و inspection result=Unsatisfactory<br>\n",
    "۲- شرط لازم برای تعطیلی -Unsatisfactory و - RED<br>\n",
    "همچنین نمرات بالا inspection score\n",
    "۳- عملکرد ضغیف بیزینس های بیروت بر<br>  \n",
    "\n",
    "۴- با افزایش سطح ریسک میزان نمرات نیز افزایش می یابد(inspection score)"
   ]
  },
  {
   "cell_type": "markdown",
   "id": "3b8f83be",
   "metadata": {},
   "source": [
    "# Risk Category 3"
   ]
  },
  {
   "cell_type": "markdown",
   "id": "890a0e90",
   "metadata": {},
   "source": [
    "## بررسی اولیه دیتا"
   ]
  },
  {
   "cell_type": "code",
   "execution_count": 122,
   "id": "34e025d0-f5e1-4d44-8f9f-ca5da59f30c8",
   "metadata": {},
   "outputs": [
    {
     "name": "stderr",
     "output_type": "stream",
     "text": [
      "/var/folders/hn/cjgf8lqs607cny8_gr2rmcpc0000gn/T/ipykernel_835/966942796.py:2: SettingWithCopyWarning: \n",
      "A value is trying to be set on a copy of a slice from a DataFrame\n",
      "\n",
      "See the caveats in the documentation: https://pandas.pydata.org/pandas-docs/stable/user_guide/indexing.html#returning-a-view-versus-a-copy\n",
      "  R3.drop(['Category'],axis=1,inplace=True)\n"
     ]
    },
    {
     "data": {
      "text/html": [
       "<div>\n",
       "<style scoped>\n",
       "    .dataframe tbody tr th:only-of-type {\n",
       "        vertical-align: middle;\n",
       "    }\n",
       "\n",
       "    .dataframe tbody tr th {\n",
       "        vertical-align: top;\n",
       "    }\n",
       "\n",
       "    .dataframe thead th {\n",
       "        text-align: right;\n",
       "    }\n",
       "</style>\n",
       "<table border=\"1\" class=\"dataframe\">\n",
       "  <thead>\n",
       "    <tr style=\"text-align: right;\">\n",
       "      <th></th>\n",
       "      <th>Name</th>\n",
       "      <th>Longitude</th>\n",
       "      <th>Latitude</th>\n",
       "      <th>Inspection Type</th>\n",
       "      <th>Inspection Score</th>\n",
       "      <th>Inspection Result</th>\n",
       "      <th>Inspection Closed Business</th>\n",
       "      <th>Violation Type</th>\n",
       "      <th>Grade</th>\n",
       "      <th>capacity</th>\n",
       "    </tr>\n",
       "  </thead>\n",
       "  <tbody>\n",
       "    <tr>\n",
       "      <th>0</th>\n",
       "      <td>#807 TUTTA BELLA</td>\n",
       "      <td>-122.296415</td>\n",
       "      <td>47.662311</td>\n",
       "      <td>Routine Inspection/Field Review</td>\n",
       "      <td>10.0</td>\n",
       "      <td>Unsatisfactory</td>\n",
       "      <td>False</td>\n",
       "      <td>BLUE</td>\n",
       "      <td>1.0</td>\n",
       "      <td>Seating 0-12</td>\n",
       "    </tr>\n",
       "  </tbody>\n",
       "</table>\n",
       "</div>"
      ],
      "text/plain": [
       "               Name   Longitude   Latitude                  Inspection Type  \\\n",
       "0  #807 TUTTA BELLA -122.296415  47.662311  Routine Inspection/Field Review   \n",
       "\n",
       "   Inspection Score Inspection Result  Inspection Closed Business  \\\n",
       "0              10.0    Unsatisfactory                       False   \n",
       "\n",
       "  Violation Type  Grade      capacity  \n",
       "0           BLUE    1.0  Seating 0-12  "
      ]
     },
     "execution_count": 122,
     "metadata": {},
     "output_type": "execute_result"
    }
   ],
   "source": [
    "R3=df.loc[df['Category']==3]\n",
    "R3.drop(['Category'],axis=1,inplace=True)\n",
    "R3.head(1)"
   ]
  },
  {
   "cell_type": "markdown",
   "id": "7b9e8429",
   "metadata": {},
   "source": [
    "<h2>همانطور که مشاهده می گردد رستوران های این دسته همگی به طور میانگین دارای \n",
    "<br>Grade =1 \n",
    "<br>همچنین دارای واریانس بسیار کم (کمتر از ۰.6)\n",
    "<br>پس برای ساده شدن کار این ستون را حذف می کنیم<h2>\n",
    "<h3 style='color:blue'> مانند دیگر دسته ها<h3>\n"
   ]
  },
  {
   "cell_type": "markdown",
   "id": "d8ab52b6",
   "metadata": {},
   "source": [
    "<h3 style='color:green'>شاهد افزایش در رستوران های دارای ظرفیت هستیم<h3>"
   ]
  },
  {
   "cell_type": "code",
   "execution_count": 99,
   "id": "a452780a",
   "metadata": {},
   "outputs": [
    {
     "data": {
      "image/png": "[encoded data removed]",
      "text/plain": [
       "<Figure size 2160x504 with 1 Axes>"
      ]
     },
     "metadata": {
      "needs_background": "light"
     },
     "output_type": "display_data"
    }
   ],
   "source": [
    "Grade_capacity3=R3.groupby(by='capacity',as_index=False).mean()\n",
    "\n",
    "plt.figure(figsize=(30,7))\n",
    "plt.bar(Grade_capacity3['capacity'],Grade_capacity3['Grade'])\n",
    "plt.show()"
   ]
  },
  {
   "cell_type": "code",
   "execution_count": 101,
   "id": "0847e6c7",
   "metadata": {},
   "outputs": [
    {
     "data": {
      "text/plain": [
       "0    0.000000\n",
       "1    0.000000\n",
       "2    0.000000\n",
       "3    0.000000\n",
       "4    0.000000\n",
       "5    0.563234\n",
       "6    0.573563\n",
       "7    0.595140\n",
       "8    0.634103\n",
       "9    0.528055\n",
       "Name: Grade, dtype: float64"
      ]
     },
     "execution_count": 101,
     "metadata": {},
     "output_type": "execute_result"
    }
   ],
   "source": [
    "Grade_capacity3=R3.groupby(by='capacity',as_index=False).std()\n",
    "Grade_capacity3['Grade']"
   ]
  },
  {
   "cell_type": "code",
   "execution_count": 102,
   "id": "a30a8dc9",
   "metadata": {},
   "outputs": [
    {
     "name": "stderr",
     "output_type": "stream",
     "text": [
      "/var/folders/hn/cjgf8lqs607cny8_gr2rmcpc0000gn/T/ipykernel_835/2317891953.py:1: SettingWithCopyWarning: \n",
      "A value is trying to be set on a copy of a slice from a DataFrame\n",
      "\n",
      "See the caveats in the documentation: https://pandas.pydata.org/pandas-docs/stable/user_guide/indexing.html#returning-a-view-versus-a-copy\n",
      "  R3.drop(['Grade'],axis=1,inplace=True)\n"
     ]
    },
    {
     "data": {
      "text/html": [
       "<div>\n",
       "<style scoped>\n",
       "    .dataframe tbody tr th:only-of-type {\n",
       "        vertical-align: middle;\n",
       "    }\n",
       "\n",
       "    .dataframe tbody tr th {\n",
       "        vertical-align: top;\n",
       "    }\n",
       "\n",
       "    .dataframe thead th {\n",
       "        text-align: right;\n",
       "    }\n",
       "</style>\n",
       "<table border=\"1\" class=\"dataframe\">\n",
       "  <thead>\n",
       "    <tr style=\"text-align: right;\">\n",
       "      <th></th>\n",
       "      <th>Name</th>\n",
       "      <th>Longitude</th>\n",
       "      <th>Latitude</th>\n",
       "      <th>Inspection Type</th>\n",
       "      <th>Inspection Score</th>\n",
       "      <th>Inspection Result</th>\n",
       "      <th>Inspection Closed Business</th>\n",
       "      <th>Violation Type</th>\n",
       "      <th>capacity</th>\n",
       "    </tr>\n",
       "  </thead>\n",
       "  <tbody>\n",
       "    <tr>\n",
       "      <th>0</th>\n",
       "      <td>#807 TUTTA BELLA</td>\n",
       "      <td>-122.296415</td>\n",
       "      <td>47.662311</td>\n",
       "      <td>Routine Inspection/Field Review</td>\n",
       "      <td>10.0</td>\n",
       "      <td>Unsatisfactory</td>\n",
       "      <td>False</td>\n",
       "      <td>BLUE</td>\n",
       "      <td>Seating 0-12</td>\n",
       "    </tr>\n",
       "    <tr>\n",
       "      <th>1</th>\n",
       "      <td>#807 TUTTA BELLA</td>\n",
       "      <td>-122.296415</td>\n",
       "      <td>47.662311</td>\n",
       "      <td>Routine Inspection/Field Review</td>\n",
       "      <td>10.0</td>\n",
       "      <td>Unsatisfactory</td>\n",
       "      <td>False</td>\n",
       "      <td>RED</td>\n",
       "      <td>Seating 0-12</td>\n",
       "    </tr>\n",
       "    <tr>\n",
       "      <th>2</th>\n",
       "      <td>#807 TUTTA BELLA</td>\n",
       "      <td>-122.296415</td>\n",
       "      <td>47.662311</td>\n",
       "      <td>Routine Inspection/Field Review</td>\n",
       "      <td>0.0</td>\n",
       "      <td>Satisfactory</td>\n",
       "      <td>False</td>\n",
       "      <td>BLUE</td>\n",
       "      <td>Seating 0-12</td>\n",
       "    </tr>\n",
       "    <tr>\n",
       "      <th>3</th>\n",
       "      <td>#807 TUTTA BELLA</td>\n",
       "      <td>-122.296415</td>\n",
       "      <td>47.662311</td>\n",
       "      <td>Routine Inspection/Field Review</td>\n",
       "      <td>0.0</td>\n",
       "      <td>Satisfactory</td>\n",
       "      <td>False</td>\n",
       "      <td>BLUE</td>\n",
       "      <td>Seating 0-12</td>\n",
       "    </tr>\n",
       "    <tr>\n",
       "      <th>4</th>\n",
       "      <td>+MAS CAFE</td>\n",
       "      <td>-122.334587</td>\n",
       "      <td>47.648180</td>\n",
       "      <td>Return Inspection</td>\n",
       "      <td>0.0</td>\n",
       "      <td>Satisfactory</td>\n",
       "      <td>False</td>\n",
       "      <td>BLUE</td>\n",
       "      <td>Seating 0-12</td>\n",
       "    </tr>\n",
       "  </tbody>\n",
       "</table>\n",
       "</div>"
      ],
      "text/plain": [
       "               Name   Longitude   Latitude                  Inspection Type  \\\n",
       "0  #807 TUTTA BELLA -122.296415  47.662311  Routine Inspection/Field Review   \n",
       "1  #807 TUTTA BELLA -122.296415  47.662311  Routine Inspection/Field Review   \n",
       "2  #807 TUTTA BELLA -122.296415  47.662311  Routine Inspection/Field Review   \n",
       "3  #807 TUTTA BELLA -122.296415  47.662311  Routine Inspection/Field Review   \n",
       "4         +MAS CAFE -122.334587  47.648180                Return Inspection   \n",
       "\n",
       "   Inspection Score Inspection Result  Inspection Closed Business  \\\n",
       "0              10.0    Unsatisfactory                       False   \n",
       "1              10.0    Unsatisfactory                       False   \n",
       "2               0.0      Satisfactory                       False   \n",
       "3               0.0      Satisfactory                       False   \n",
       "4               0.0      Satisfactory                       False   \n",
       "\n",
       "  Violation Type      capacity  \n",
       "0           BLUE  Seating 0-12  \n",
       "1            RED  Seating 0-12  \n",
       "2           BLUE  Seating 0-12  \n",
       "3           BLUE  Seating 0-12  \n",
       "4           BLUE  Seating 0-12  "
      ]
     },
     "execution_count": 102,
     "metadata": {},
     "output_type": "execute_result"
    }
   ],
   "source": [
    "R3.drop(['Grade'],axis=1,inplace=True)\n",
    "R3.head()"
   ]
  },
  {
   "cell_type": "markdown",
   "id": "b426bb02",
   "metadata": {},
   "source": [
    "## Inspection Score"
   ]
  },
  {
   "cell_type": "markdown",
   "id": "9e9a2206",
   "metadata": {},
   "source": [
    "<h2>در این مرحله برای بررسی میانگین امتیاز کسب شده توسط گروه های مختلف باید داده های پرت را خارج کنیم<h2>"
   ]
  },
  {
   "cell_type": "code",
   "execution_count": 105,
   "id": "3d4ed4bd",
   "metadata": {},
   "outputs": [
    {
     "data": {
      "image/png": "[encoded data removed]",
      "text/plain": [
       "<Figure size 2160x504 with 1 Axes>"
      ]
     },
     "metadata": {
      "needs_background": "light"
     },
     "output_type": "display_data"
    }
   ],
   "source": [
    "\n",
    "plt.figure(figsize=(30,7))\n",
    "sns.boxplot(x=R3[\"Inspection Score\"],y=R3[\"capacity\"])\n",
    "plt.show()"
   ]
  },
  {
   "cell_type": "code",
   "execution_count": 106,
   "id": "79ecc619",
   "metadata": {},
   "outputs": [
    {
     "data": {
      "text/html": [
       "<div>\n",
       "<style scoped>\n",
       "    .dataframe tbody tr th:only-of-type {\n",
       "        vertical-align: middle;\n",
       "    }\n",
       "\n",
       "    .dataframe tbody tr th {\n",
       "        vertical-align: top;\n",
       "    }\n",
       "\n",
       "    .dataframe thead th {\n",
       "        text-align: right;\n",
       "    }\n",
       "</style>\n",
       "<table border=\"1\" class=\"dataframe\">\n",
       "  <thead>\n",
       "    <tr style=\"text-align: right;\">\n",
       "      <th></th>\n",
       "      <th>capacity</th>\n",
       "      <th>Inspection Score</th>\n",
       "      <th>Grade</th>\n",
       "    </tr>\n",
       "  </thead>\n",
       "  <tbody>\n",
       "    <tr>\n",
       "      <th>0</th>\n",
       "      <td>Bakery-no seating</td>\n",
       "      <td>23.286493</td>\n",
       "      <td>0.000000</td>\n",
       "    </tr>\n",
       "    <tr>\n",
       "      <th>1</th>\n",
       "      <td>Caterer</td>\n",
       "      <td>12.655402</td>\n",
       "      <td>0.000000</td>\n",
       "    </tr>\n",
       "    <tr>\n",
       "      <th>2</th>\n",
       "      <td>Meat/Sea Food</td>\n",
       "      <td>12.914105</td>\n",
       "      <td>0.000000</td>\n",
       "    </tr>\n",
       "    <tr>\n",
       "      <th>3</th>\n",
       "      <td>Mobile Food Unit</td>\n",
       "      <td>23.672694</td>\n",
       "      <td>0.000000</td>\n",
       "    </tr>\n",
       "    <tr>\n",
       "      <th>4</th>\n",
       "      <td>Non-Profit Institution</td>\n",
       "      <td>12.435406</td>\n",
       "      <td>0.000000</td>\n",
       "    </tr>\n",
       "    <tr>\n",
       "      <th>5</th>\n",
       "      <td>Seating 0-12</td>\n",
       "      <td>19.814209</td>\n",
       "      <td>0.563234</td>\n",
       "    </tr>\n",
       "    <tr>\n",
       "      <th>6</th>\n",
       "      <td>Seating 13-50</td>\n",
       "      <td>22.075213</td>\n",
       "      <td>0.573563</td>\n",
       "    </tr>\n",
       "    <tr>\n",
       "      <th>7</th>\n",
       "      <td>Seating 151-250</td>\n",
       "      <td>21.596399</td>\n",
       "      <td>0.595140</td>\n",
       "    </tr>\n",
       "    <tr>\n",
       "      <th>8</th>\n",
       "      <td>Seating 51-150</td>\n",
       "      <td>23.536438</td>\n",
       "      <td>0.634103</td>\n",
       "    </tr>\n",
       "    <tr>\n",
       "      <th>9</th>\n",
       "      <td>Seating &gt; 250</td>\n",
       "      <td>23.738357</td>\n",
       "      <td>0.528055</td>\n",
       "    </tr>\n",
       "  </tbody>\n",
       "</table>\n",
       "</div>"
      ],
      "text/plain": [
       "                 capacity  Inspection Score     Grade\n",
       "0       Bakery-no seating         23.286493  0.000000\n",
       "1                 Caterer         12.655402  0.000000\n",
       "2           Meat/Sea Food         12.914105  0.000000\n",
       "3        Mobile Food Unit         23.672694  0.000000\n",
       "4  Non-Profit Institution         12.435406  0.000000\n",
       "5            Seating 0-12         19.814209  0.563234\n",
       "6           Seating 13-50         22.075213  0.573563\n",
       "7         Seating 151-250         21.596399  0.595140\n",
       "8          Seating 51-150         23.536438  0.634103\n",
       "9           Seating > 250         23.738357  0.528055"
      ]
     },
     "execution_count": 106,
     "metadata": {},
     "output_type": "execute_result"
    }
   ],
   "source": [
    "inspection_std3=R3.drop(['Longitude','Latitude','Inspection Closed Business'],axis=1).groupby(by='capacity',as_index=False).std()\n",
    "inspection_std3"
   ]
  },
  {
   "cell_type": "markdown",
   "id": "6452085a",
   "metadata": {},
   "source": [
    "<h4>داده هایی که دارای نمره منفی هستد را حذف می کنیم<h4>"
   ]
  },
  {
   "cell_type": "code",
   "execution_count": 126,
   "id": "93ad2670",
   "metadata": {},
   "outputs": [
    {
     "data": {
      "image/png": "[encoded data removed]",
      "text/plain": [
       "<Figure size 2160x504 with 1 Axes>"
      ]
     },
     "metadata": {
      "needs_background": "light"
     },
     "output_type": "display_data"
    }
   ],
   "source": [
    "wrong_data3=R3.loc[R3['Inspection Score']<0].index\n",
    "# delete the row and R3 modified\n",
    "R3_m=R3.drop(wrong_data3)\n",
    "plt.figure(figsize=(30,7))\n",
    "sns.boxplot(x=R3_m[\"Inspection Score\"],y=R3_m[\"capacity\"])\n",
    "plt.show()"
   ]
  },
  {
   "cell_type": "code",
   "execution_count": 128,
   "id": "abd81b58",
   "metadata": {},
   "outputs": [
    {
     "data": {
      "text/html": [
       "<div>\n",
       "<style scoped>\n",
       "    .dataframe tbody tr th:only-of-type {\n",
       "        vertical-align: middle;\n",
       "    }\n",
       "\n",
       "    .dataframe tbody tr th {\n",
       "        vertical-align: top;\n",
       "    }\n",
       "\n",
       "    .dataframe thead th {\n",
       "        text-align: right;\n",
       "    }\n",
       "</style>\n",
       "<table border=\"1\" class=\"dataframe\">\n",
       "  <thead>\n",
       "    <tr style=\"text-align: right;\">\n",
       "      <th></th>\n",
       "      <th>capacity</th>\n",
       "      <th>Inspection Score</th>\n",
       "      <th>Grade</th>\n",
       "    </tr>\n",
       "  </thead>\n",
       "  <tbody>\n",
       "    <tr>\n",
       "      <th>0</th>\n",
       "      <td>Bakery-no seating</td>\n",
       "      <td>17.425287</td>\n",
       "      <td>1.000000</td>\n",
       "    </tr>\n",
       "    <tr>\n",
       "      <th>1</th>\n",
       "      <td>Caterer</td>\n",
       "      <td>6.451974</td>\n",
       "      <td>1.000000</td>\n",
       "    </tr>\n",
       "    <tr>\n",
       "      <th>2</th>\n",
       "      <td>Meat/Sea Food</td>\n",
       "      <td>8.458553</td>\n",
       "      <td>1.000000</td>\n",
       "    </tr>\n",
       "    <tr>\n",
       "      <th>3</th>\n",
       "      <td>Mobile Food Unit</td>\n",
       "      <td>15.960869</td>\n",
       "      <td>1.000000</td>\n",
       "    </tr>\n",
       "    <tr>\n",
       "      <th>4</th>\n",
       "      <td>Non-Profit Institution</td>\n",
       "      <td>6.566644</td>\n",
       "      <td>1.000000</td>\n",
       "    </tr>\n",
       "    <tr>\n",
       "      <th>5</th>\n",
       "      <td>Seating 0-12</td>\n",
       "      <td>13.540798</td>\n",
       "      <td>1.348671</td>\n",
       "    </tr>\n",
       "    <tr>\n",
       "      <th>6</th>\n",
       "      <td>Seating 13-50</td>\n",
       "      <td>18.174298</td>\n",
       "      <td>1.410335</td>\n",
       "    </tr>\n",
       "    <tr>\n",
       "      <th>7</th>\n",
       "      <td>Seating 151-250</td>\n",
       "      <td>19.403330</td>\n",
       "      <td>1.425880</td>\n",
       "    </tr>\n",
       "    <tr>\n",
       "      <th>8</th>\n",
       "      <td>Seating 51-150</td>\n",
       "      <td>19.715195</td>\n",
       "      <td>1.460785</td>\n",
       "    </tr>\n",
       "    <tr>\n",
       "      <th>9</th>\n",
       "      <td>Seating &gt; 250</td>\n",
       "      <td>18.537015</td>\n",
       "      <td>1.378588</td>\n",
       "    </tr>\n",
       "  </tbody>\n",
       "</table>\n",
       "</div>"
      ],
      "text/plain": [
       "                 capacity  Inspection Score     Grade\n",
       "0       Bakery-no seating         17.425287  1.000000\n",
       "1                 Caterer          6.451974  1.000000\n",
       "2           Meat/Sea Food          8.458553  1.000000\n",
       "3        Mobile Food Unit         15.960869  1.000000\n",
       "4  Non-Profit Institution          6.566644  1.000000\n",
       "5            Seating 0-12         13.540798  1.348671\n",
       "6           Seating 13-50         18.174298  1.410335\n",
       "7         Seating 151-250         19.403330  1.425880\n",
       "8          Seating 51-150         19.715195  1.460785\n",
       "9           Seating > 250         18.537015  1.378588"
      ]
     },
     "execution_count": 128,
     "metadata": {},
     "output_type": "execute_result"
    }
   ],
   "source": [
    "inspection_mean3=R3_m.drop(['Longitude','Latitude','Inspection Closed Business'],axis=1).groupby(by='capacity',as_index=False).mean()\n",
    "inspection_mean3"
   ]
  },
  {
   "cell_type": "code",
   "execution_count": 129,
   "id": "17d52751",
   "metadata": {},
   "outputs": [
    {
     "data": {
      "image/png": "[encoded data removed]",
      "text/plain": [
       "<Figure size 432x288 with 1 Axes>"
      ]
     },
     "metadata": {
      "needs_background": "light"
     },
     "output_type": "display_data"
    },
    {
     "data": {
      "image/png": "[encoded data removed]",
      "text/plain": [
       "<Figure size 432x288 with 1 Axes>"
      ]
     },
     "metadata": {
      "needs_background": "light"
     },
     "output_type": "display_data"
    },
    {
     "data": {
      "image/png": "[encoded data removed]",
      "text/plain": [
       "<Figure size 432x288 with 1 Axes>"
      ]
     },
     "metadata": {
      "needs_background": "light"
     },
     "output_type": "display_data"
    },
    {
     "data": {
      "image/png": "[encoded data removed]",
      "text/plain": [
       "<Figure size 432x288 with 1 Axes>"
      ]
     },
     "metadata": {
      "needs_background": "light"
     },
     "output_type": "display_data"
    },
    {
     "data": {
      "image/png": "[encoded data removed]",
      "text/plain": [
       "<Figure size 432x288 with 1 Axes>"
      ]
     },
     "metadata": {
      "needs_background": "light"
     },
     "output_type": "display_data"
    },
    {
     "data": {
      "image/png": "[encoded data removed]",
      "text/plain": [
       "<Figure size 432x288 with 1 Axes>"
      ]
     },
     "metadata": {
      "needs_background": "light"
     },
     "output_type": "display_data"
    },
    {
     "data": {
      "image/png": "[encoded data removed]",
      "text/plain": [
       "<Figure size 432x288 with 1 Axes>"
      ]
     },
     "metadata": {
      "needs_background": "light"
     },
     "output_type": "display_data"
    },
    {
     "data": {
      "image/png": "[encoded data removed]",
      "text/plain": [
       "<Figure size 432x288 with 1 Axes>"
      ]
     },
     "metadata": {
      "needs_background": "light"
     },
     "output_type": "display_data"
    },
    {
     "data": {
      "image/png": "[encoded data removed]",
      "text/plain": [
       "<Figure size 432x288 with 1 Axes>"
      ]
     },
     "metadata": {
      "needs_background": "light"
     },
     "output_type": "display_data"
    },
    {
     "data": {
      "image/png": "[encoded data removed]",
      "text/plain": [
       "<Figure size 432x288 with 1 Axes>"
      ]
     },
     "metadata": {
      "needs_background": "light"
     },
     "output_type": "display_data"
    }
   ],
   "source": [
    "\n",
    "capacity_score3=R3_m.pivot_table(index=['capacity','Name'])\n",
    "\n",
    "capacities3=['Bakery-no seating','Caterer',\n",
    "       'Meat/Sea Food', 'Mobile Food Unit', \n",
    "       'Non-Profit Institution','Seating 0-12','Seating 13-50','Seating 151-250','Seating 51-150','Seating > 250']\n",
    "\n",
    "for index,score in enumerate (capacities3):\n",
    "   plt.title(f\"{score}'s mean is {inspection_mean3['Inspection Score'][index]}\" )\n",
    "   sns.histplot(data=capacity_score3.loc[[score]], x=\"Inspection Score\",bins=20)\n",
    "   plt.show()"
   ]
  },
  {
   "cell_type": "code",
   "execution_count": 130,
   "id": "b6a1a503",
   "metadata": {},
   "outputs": [
    {
     "data": {
      "image/png": "[encoded data removed]",
      "text/plain": [
       "<Figure size 2160x504 with 1 Axes>"
      ]
     },
     "metadata": {
      "needs_background": "light"
     },
     "output_type": "display_data"
    }
   ],
   "source": [
    "plt.figure(figsize=(30,7))\n",
    "plt.bar(x=inspection_mean3['capacity'],height=inspection_mean3['Inspection Score'])\n",
    "plt.show()"
   ]
  },
  {
   "cell_type": "markdown",
   "id": "fcd90936",
   "metadata": {},
   "source": [
    "<h3>همانطور که پیش بینی می شد با افزایش سطح ریسک نمرات نیز افزایش پیدا کرده\n",
    "<br>عملکرد رستوران های دارای ظرفیت  در این روند ضعیف تر شده اند<h3>"
   ]
  },
  {
   "cell_type": "markdown",
   "id": "7892e722",
   "metadata": {},
   "source": [
    "## Inspection Closed Business"
   ]
  },
  {
   "cell_type": "code",
   "execution_count": 151,
   "id": "6cff7fe7",
   "metadata": {},
   "outputs": [
    {
     "data": {
      "image/png": "[encoded data removed]",
      "text/plain": [
       "<Figure size 1656x1080 with 1 Axes>"
      ]
     },
     "metadata": {
      "needs_background": "light"
     },
     "output_type": "display_data"
    }
   ],
   "source": [
    "capacity_closed3=R3_m.groupby(by=['capacity','Inspection Closed Business'],as_index=False).size()\n",
    "plt.figure(figsize=(23,15))\n",
    "bars=sns.barplot(data=capacity_closed3, x=\"capacity\", y=\"size\", hue=\"Inspection Closed Business\")\n",
    "plt.yticks(capacity_closed3['size'])\n",
    "for i in bars.containers:\n",
    "    bars.bar_label(i,)\n",
    "plt.show()"
   ]
  },
  {
   "cell_type": "code",
   "execution_count": 133,
   "id": "d03a865d",
   "metadata": {},
   "outputs": [
    {
     "data": {
      "text/html": [
       "<div>\n",
       "<style scoped>\n",
       "    .dataframe tbody tr th:only-of-type {\n",
       "        vertical-align: middle;\n",
       "    }\n",
       "\n",
       "    .dataframe tbody tr th {\n",
       "        vertical-align: top;\n",
       "    }\n",
       "\n",
       "    .dataframe thead th {\n",
       "        text-align: right;\n",
       "    }\n",
       "</style>\n",
       "<table border=\"1\" class=\"dataframe\">\n",
       "  <thead>\n",
       "    <tr style=\"text-align: right;\">\n",
       "      <th></th>\n",
       "      <th>capacity</th>\n",
       "      <th>Inspection Closed Business</th>\n",
       "      <th>size</th>\n",
       "    </tr>\n",
       "  </thead>\n",
       "  <tbody>\n",
       "    <tr>\n",
       "      <th>0</th>\n",
       "      <td>Bakery-no seating</td>\n",
       "      <td>False</td>\n",
       "      <td>261</td>\n",
       "    </tr>\n",
       "    <tr>\n",
       "      <th>1</th>\n",
       "      <td>Caterer</td>\n",
       "      <td>False</td>\n",
       "      <td>1874</td>\n",
       "    </tr>\n",
       "    <tr>\n",
       "      <th>2</th>\n",
       "      <td>Meat/Sea Food</td>\n",
       "      <td>False</td>\n",
       "      <td>13630</td>\n",
       "    </tr>\n",
       "    <tr>\n",
       "      <th>3</th>\n",
       "      <td>Meat/Sea Food</td>\n",
       "      <td>True</td>\n",
       "      <td>14</td>\n",
       "    </tr>\n",
       "    <tr>\n",
       "      <th>4</th>\n",
       "      <td>Mobile Food Unit</td>\n",
       "      <td>False</td>\n",
       "      <td>4004</td>\n",
       "    </tr>\n",
       "    <tr>\n",
       "      <th>5</th>\n",
       "      <td>Mobile Food Unit</td>\n",
       "      <td>True</td>\n",
       "      <td>53</td>\n",
       "    </tr>\n",
       "    <tr>\n",
       "      <th>6</th>\n",
       "      <td>Non-Profit Institution</td>\n",
       "      <td>False</td>\n",
       "      <td>6036</td>\n",
       "    </tr>\n",
       "    <tr>\n",
       "      <th>7</th>\n",
       "      <td>Non-Profit Institution</td>\n",
       "      <td>True</td>\n",
       "      <td>1</td>\n",
       "    </tr>\n",
       "    <tr>\n",
       "      <th>8</th>\n",
       "      <td>Seating 0-12</td>\n",
       "      <td>False</td>\n",
       "      <td>38899</td>\n",
       "    </tr>\n",
       "    <tr>\n",
       "      <th>9</th>\n",
       "      <td>Seating 0-12</td>\n",
       "      <td>True</td>\n",
       "      <td>69</td>\n",
       "    </tr>\n",
       "    <tr>\n",
       "      <th>10</th>\n",
       "      <td>Seating 13-50</td>\n",
       "      <td>False</td>\n",
       "      <td>58146</td>\n",
       "    </tr>\n",
       "    <tr>\n",
       "      <th>11</th>\n",
       "      <td>Seating 13-50</td>\n",
       "      <td>True</td>\n",
       "      <td>143</td>\n",
       "    </tr>\n",
       "    <tr>\n",
       "      <th>12</th>\n",
       "      <td>Seating 151-250</td>\n",
       "      <td>False</td>\n",
       "      <td>10058</td>\n",
       "    </tr>\n",
       "    <tr>\n",
       "      <th>13</th>\n",
       "      <td>Seating 151-250</td>\n",
       "      <td>True</td>\n",
       "      <td>27</td>\n",
       "    </tr>\n",
       "    <tr>\n",
       "      <th>14</th>\n",
       "      <td>Seating 51-150</td>\n",
       "      <td>False</td>\n",
       "      <td>55232</td>\n",
       "    </tr>\n",
       "    <tr>\n",
       "      <th>15</th>\n",
       "      <td>Seating 51-150</td>\n",
       "      <td>True</td>\n",
       "      <td>308</td>\n",
       "    </tr>\n",
       "    <tr>\n",
       "      <th>16</th>\n",
       "      <td>Seating &gt; 250</td>\n",
       "      <td>False</td>\n",
       "      <td>7151</td>\n",
       "    </tr>\n",
       "    <tr>\n",
       "      <th>17</th>\n",
       "      <td>Seating &gt; 250</td>\n",
       "      <td>True</td>\n",
       "      <td>60</td>\n",
       "    </tr>\n",
       "  </tbody>\n",
       "</table>\n",
       "</div>"
      ],
      "text/plain": [
       "                  capacity  Inspection Closed Business   size\n",
       "0        Bakery-no seating                       False    261\n",
       "1                  Caterer                       False   1874\n",
       "2            Meat/Sea Food                       False  13630\n",
       "3            Meat/Sea Food                        True     14\n",
       "4         Mobile Food Unit                       False   4004\n",
       "5         Mobile Food Unit                        True     53\n",
       "6   Non-Profit Institution                       False   6036\n",
       "7   Non-Profit Institution                        True      1\n",
       "8             Seating 0-12                       False  38899\n",
       "9             Seating 0-12                        True     69\n",
       "10           Seating 13-50                       False  58146\n",
       "11           Seating 13-50                        True    143\n",
       "12         Seating 151-250                       False  10058\n",
       "13         Seating 151-250                        True     27\n",
       "14          Seating 51-150                       False  55232\n",
       "15          Seating 51-150                        True    308\n",
       "16           Seating > 250                       False   7151\n",
       "17           Seating > 250                        True     60"
      ]
     },
     "execution_count": 133,
     "metadata": {},
     "output_type": "execute_result"
    }
   ],
   "source": [
    "capacity_closed3"
   ]
  },
  {
   "cell_type": "markdown",
   "id": "8307897a",
   "metadata": {},
   "source": [
    "<h4>با افزایش سطح ریسک بازرس های به طور جدی تری برای تعطیلی مراکز اقدام می کنند و باتوجه به عملکرد ضغیف مراکز دارای ظرفیت پیش بینی می شد که عمده تعطیلی ها برای این رستوران ها باشد<h4>"
   ]
  },
  {
   "cell_type": "code",
   "execution_count": 134,
   "id": "aae4349c",
   "metadata": {},
   "outputs": [
    {
     "data": {
      "text/html": [
       "<div>\n",
       "<style scoped>\n",
       "    .dataframe tbody tr th:only-of-type {\n",
       "        vertical-align: middle;\n",
       "    }\n",
       "\n",
       "    .dataframe tbody tr th {\n",
       "        vertical-align: top;\n",
       "    }\n",
       "\n",
       "    .dataframe thead th {\n",
       "        text-align: right;\n",
       "    }\n",
       "</style>\n",
       "<table border=\"1\" class=\"dataframe\">\n",
       "  <thead>\n",
       "    <tr style=\"text-align: right;\">\n",
       "      <th></th>\n",
       "      <th>Inspection Result</th>\n",
       "      <th>size</th>\n",
       "    </tr>\n",
       "  </thead>\n",
       "  <tbody>\n",
       "    <tr>\n",
       "      <th>0</th>\n",
       "      <td>Baseline Data</td>\n",
       "      <td>1</td>\n",
       "    </tr>\n",
       "    <tr>\n",
       "      <th>1</th>\n",
       "      <td>Complete</td>\n",
       "      <td>19</td>\n",
       "    </tr>\n",
       "    <tr>\n",
       "      <th>2</th>\n",
       "      <td>Not Accessible</td>\n",
       "      <td>1</td>\n",
       "    </tr>\n",
       "    <tr>\n",
       "      <th>3</th>\n",
       "      <td>Out of Business</td>\n",
       "      <td>1</td>\n",
       "    </tr>\n",
       "    <tr>\n",
       "      <th>4</th>\n",
       "      <td>Satisfactory</td>\n",
       "      <td>4</td>\n",
       "    </tr>\n",
       "    <tr>\n",
       "      <th>5</th>\n",
       "      <td>Unsatisfactory</td>\n",
       "      <td>649</td>\n",
       "    </tr>\n",
       "  </tbody>\n",
       "</table>\n",
       "</div>"
      ],
      "text/plain": [
       "  Inspection Result  size\n",
       "0     Baseline Data     1\n",
       "1          Complete    19\n",
       "2    Not Accessible     1\n",
       "3   Out of Business     1\n",
       "4      Satisfactory     4\n",
       "5    Unsatisfactory   649"
      ]
     },
     "execution_count": 134,
     "metadata": {},
     "output_type": "execute_result"
    }
   ],
   "source": [
    "mask3=R3_m['Inspection Closed Business']==True\n",
    "inspection_result3=R3_m[mask3]\n",
    "\n",
    "inspection_result_size3=inspection_result3.groupby('Inspection Result',as_index=False).size()\n",
    "inspection_result_size3"
   ]
  },
  {
   "cell_type": "markdown",
   "id": "ffb0f709",
   "metadata": {},
   "source": [
    "# موضاعات قابل طرح  \n",
    "  \n",
    "۱- آیا این دسته از بیزنس ها دارای اهمیت کمی هستند برای تعطیلی؟<br>\n",
    "<h5 style='color:orange'>در این دسته میزان تعطیلی ها بیشتر شده است و این میتواند تاییدی باشد بر اینکه<br> \n",
    "risk category <br>\n",
    "برای تعطیلی ها نقش مهمی ایفا می کند\n",
    "<h5><br>\n",
    "۲- ایا نمره پایین علت تعطیل نشدن بوده است؟<br>\n",
    "<h5 style='color:orange'> نمی توان با قطعیت گفت . <h5>\n",
    "<br>افزایش grade در رستوران های با ظرفیت\n",
    "\n",
    "## فرضیات\n",
    "\n",
    "۱- ارنباط مستقیم inspection score و inspection result=Unsatisfactory<br>\n",
    "۲- شرط لازم برای تعطیلی -Unsatisfactory و - RED<br>\n",
    "همچنین نمرات بالا inspection score\n",
    "\n",
    "\n",
    "۴- با افزایش سطح ریسک میزان نمرات نیز افزایش می یابد(inspection score)\n",
    "<br><h5 style='color:orange'>با افزایش سطح ریسک رستوران های دارای ظرفیت عملکردشان ضعیف تر شده است<h5>"
   ]
  },
  {
   "cell_type": "markdown",
   "id": "d56172e5",
   "metadata": {},
   "source": [
    "# Risk Category Not Permanent plumbing"
   ]
  },
  {
   "cell_type": "code",
   "execution_count": 137,
   "id": "608b4a46-709f-4154-9938-31d1d7fea910",
   "metadata": {},
   "outputs": [
    {
     "data": {
      "text/html": [
       "<div>\n",
       "<style scoped>\n",
       "    .dataframe tbody tr th:only-of-type {\n",
       "        vertical-align: middle;\n",
       "    }\n",
       "\n",
       "    .dataframe tbody tr th {\n",
       "        vertical-align: top;\n",
       "    }\n",
       "\n",
       "    .dataframe thead th {\n",
       "        text-align: right;\n",
       "    }\n",
       "</style>\n",
       "<table border=\"1\" class=\"dataframe\">\n",
       "  <thead>\n",
       "    <tr style=\"text-align: right;\">\n",
       "      <th></th>\n",
       "      <th>Name</th>\n",
       "      <th>Longitude</th>\n",
       "      <th>Latitude</th>\n",
       "      <th>Inspection Type</th>\n",
       "      <th>Inspection Score</th>\n",
       "      <th>Inspection Result</th>\n",
       "      <th>Inspection Closed Business</th>\n",
       "      <th>Violation Type</th>\n",
       "      <th>Grade</th>\n",
       "      <th>Category</th>\n",
       "      <th>capacity</th>\n",
       "    </tr>\n",
       "  </thead>\n",
       "  <tbody>\n",
       "    <tr>\n",
       "      <th>4464</th>\n",
       "      <td>ACCESSO SHOWARE CENTER</td>\n",
       "      <td>-122.240084</td>\n",
       "      <td>47.387861</td>\n",
       "      <td>Routine Inspection/Field Review</td>\n",
       "      <td>0.0</td>\n",
       "      <td>Satisfactory</td>\n",
       "      <td>False</td>\n",
       "      <td>BLUE</td>\n",
       "      <td>1.0</td>\n",
       "      <td>0</td>\n",
       "      <td>Limited Food Services</td>\n",
       "    </tr>\n",
       "  </tbody>\n",
       "</table>\n",
       "</div>"
      ],
      "text/plain": [
       "                        Name   Longitude   Latitude  \\\n",
       "4464  ACCESSO SHOWARE CENTER -122.240084  47.387861   \n",
       "\n",
       "                      Inspection Type  Inspection Score Inspection Result  \\\n",
       "4464  Routine Inspection/Field Review               0.0      Satisfactory   \n",
       "\n",
       "      Inspection Closed Business Violation Type  Grade  Category  \\\n",
       "4464                       False           BLUE    1.0         0   \n",
       "\n",
       "                   capacity  \n",
       "4464  Limited Food Services  "
      ]
     },
     "execution_count": 137,
     "metadata": {},
     "output_type": "execute_result"
    }
   ],
   "source": [
    "NPP=df.loc[df['Category']==0]\n",
    "NPP.head(1)\n"
   ]
  },
  {
   "cell_type": "markdown",
   "id": "468b4221",
   "metadata": {},
   "source": [
    "## بررسی اولیه دیتا"
   ]
  },
  {
   "cell_type": "markdown",
   "id": "062a9668",
   "metadata": {},
   "source": [
    "<h3>این دسته داراس grade 1 می باشد و قابلیت تحلیلی ندارد و حذف می شود<h3>"
   ]
  },
  {
   "cell_type": "code",
   "execution_count": 144,
   "id": "c9cd53dd",
   "metadata": {},
   "outputs": [
    {
     "data": {
      "text/plain": [
       "array([1.])"
      ]
     },
     "execution_count": 144,
     "metadata": {},
     "output_type": "execute_result"
    }
   ],
   "source": [
    "NPP.Grade.unique()"
   ]
  },
  {
   "cell_type": "code",
   "execution_count": 146,
   "id": "8f86c09a",
   "metadata": {},
   "outputs": [
    {
     "ename": "KeyError",
     "evalue": "\"['Grade'] not found in axis\"",
     "output_type": "error",
     "traceback": [
      "\u001b[0;31m---------------------------------------------------------------------------\u001b[0m",
      "\u001b[0;31mKeyError\u001b[0m                                  Traceback (most recent call last)",
      "\u001b[1;32m/Users/arianzarifian/Downloads/ML-project/project.ipynb Cell 104\u001b[0m in \u001b[0;36m<cell line: 1>\u001b[0;34m()\u001b[0m\n\u001b[0;32m----> <a href='vscode-notebook-cell:/Users/arianzarifian/Downloads/ML-project/project.ipynb#Y223sZmlsZQ%3D%3D?line=0'>1</a>\u001b[0m NPP\u001b[39m.\u001b[39;49mdrop([\u001b[39m'\u001b[39;49m\u001b[39mGrade\u001b[39;49m\u001b[39m'\u001b[39;49m],axis\u001b[39m=\u001b[39;49m\u001b[39m1\u001b[39;49m,inplace\u001b[39m=\u001b[39;49m\u001b[39mTrue\u001b[39;49;00m)\n\u001b[1;32m      <a href='vscode-notebook-cell:/Users/arianzarifian/Downloads/ML-project/project.ipynb#Y223sZmlsZQ%3D%3D?line=1'>2</a>\u001b[0m NPP\u001b[39m.\u001b[39mhead(\u001b[39m2\u001b[39m)\n",
      "File \u001b[0;32m~/opt/anaconda3/lib/python3.9/site-packages/pandas/util/_decorators.py:311\u001b[0m, in \u001b[0;36mdeprecate_nonkeyword_arguments.<locals>.decorate.<locals>.wrapper\u001b[0;34m(*args, **kwargs)\u001b[0m\n\u001b[1;32m    305\u001b[0m \u001b[39mif\u001b[39;00m \u001b[39mlen\u001b[39m(args) \u001b[39m>\u001b[39m num_allow_args:\n\u001b[1;32m    306\u001b[0m     warnings\u001b[39m.\u001b[39mwarn(\n\u001b[1;32m    307\u001b[0m         msg\u001b[39m.\u001b[39mformat(arguments\u001b[39m=\u001b[39marguments),\n\u001b[1;32m    308\u001b[0m         \u001b[39mFutureWarning\u001b[39;00m,\n\u001b[1;32m    309\u001b[0m         stacklevel\u001b[39m=\u001b[39mstacklevel,\n\u001b[1;32m    310\u001b[0m     )\n\u001b[0;32m--> 311\u001b[0m \u001b[39mreturn\u001b[39;00m func(\u001b[39m*\u001b[39;49margs, \u001b[39m*\u001b[39;49m\u001b[39m*\u001b[39;49mkwargs)\n",
      "File \u001b[0;32m~/opt/anaconda3/lib/python3.9/site-packages/pandas/core/frame.py:4954\u001b[0m, in \u001b[0;36mDataFrame.drop\u001b[0;34m(self, labels, axis, index, columns, level, inplace, errors)\u001b[0m\n\u001b[1;32m   4806\u001b[0m \u001b[39m@deprecate_nonkeyword_arguments\u001b[39m(version\u001b[39m=\u001b[39m\u001b[39mNone\u001b[39;00m, allowed_args\u001b[39m=\u001b[39m[\u001b[39m\"\u001b[39m\u001b[39mself\u001b[39m\u001b[39m\"\u001b[39m, \u001b[39m\"\u001b[39m\u001b[39mlabels\u001b[39m\u001b[39m\"\u001b[39m])\n\u001b[1;32m   4807\u001b[0m \u001b[39mdef\u001b[39;00m \u001b[39mdrop\u001b[39m(\n\u001b[1;32m   4808\u001b[0m     \u001b[39mself\u001b[39m,\n\u001b[0;32m   (...)\u001b[0m\n\u001b[1;32m   4815\u001b[0m     errors: \u001b[39mstr\u001b[39m \u001b[39m=\u001b[39m \u001b[39m\"\u001b[39m\u001b[39mraise\u001b[39m\u001b[39m\"\u001b[39m,\n\u001b[1;32m   4816\u001b[0m ):\n\u001b[1;32m   4817\u001b[0m     \u001b[39m\"\"\"\u001b[39;00m\n\u001b[1;32m   4818\u001b[0m \u001b[39m    Drop specified labels from rows or columns.\u001b[39;00m\n\u001b[1;32m   4819\u001b[0m \n\u001b[0;32m   (...)\u001b[0m\n\u001b[1;32m   4952\u001b[0m \u001b[39m            weight  1.0     0.8\u001b[39;00m\n\u001b[1;32m   4953\u001b[0m \u001b[39m    \"\"\"\u001b[39;00m\n\u001b[0;32m-> 4954\u001b[0m     \u001b[39mreturn\u001b[39;00m \u001b[39msuper\u001b[39;49m()\u001b[39m.\u001b[39;49mdrop(\n\u001b[1;32m   4955\u001b[0m         labels\u001b[39m=\u001b[39;49mlabels,\n\u001b[1;32m   4956\u001b[0m         axis\u001b[39m=\u001b[39;49maxis,\n\u001b[1;32m   4957\u001b[0m         index\u001b[39m=\u001b[39;49mindex,\n\u001b[1;32m   4958\u001b[0m         columns\u001b[39m=\u001b[39;49mcolumns,\n\u001b[1;32m   4959\u001b[0m         level\u001b[39m=\u001b[39;49mlevel,\n\u001b[1;32m   4960\u001b[0m         inplace\u001b[39m=\u001b[39;49minplace,\n\u001b[1;32m   4961\u001b[0m         errors\u001b[39m=\u001b[39;49merrors,\n\u001b[1;32m   4962\u001b[0m     )\n",
      "File \u001b[0;32m~/opt/anaconda3/lib/python3.9/site-packages/pandas/core/generic.py:4267\u001b[0m, in \u001b[0;36mNDFrame.drop\u001b[0;34m(self, labels, axis, index, columns, level, inplace, errors)\u001b[0m\n\u001b[1;32m   4265\u001b[0m \u001b[39mfor\u001b[39;00m axis, labels \u001b[39min\u001b[39;00m axes\u001b[39m.\u001b[39mitems():\n\u001b[1;32m   4266\u001b[0m     \u001b[39mif\u001b[39;00m labels \u001b[39mis\u001b[39;00m \u001b[39mnot\u001b[39;00m \u001b[39mNone\u001b[39;00m:\n\u001b[0;32m-> 4267\u001b[0m         obj \u001b[39m=\u001b[39m obj\u001b[39m.\u001b[39;49m_drop_axis(labels, axis, level\u001b[39m=\u001b[39;49mlevel, errors\u001b[39m=\u001b[39;49merrors)\n\u001b[1;32m   4269\u001b[0m \u001b[39mif\u001b[39;00m inplace:\n\u001b[1;32m   4270\u001b[0m     \u001b[39mself\u001b[39m\u001b[39m.\u001b[39m_update_inplace(obj)\n",
      "File \u001b[0;32m~/opt/anaconda3/lib/python3.9/site-packages/pandas/core/generic.py:4311\u001b[0m, in \u001b[0;36mNDFrame._drop_axis\u001b[0;34m(self, labels, axis, level, errors, consolidate, only_slice)\u001b[0m\n\u001b[1;32m   4309\u001b[0m         new_axis \u001b[39m=\u001b[39m axis\u001b[39m.\u001b[39mdrop(labels, level\u001b[39m=\u001b[39mlevel, errors\u001b[39m=\u001b[39merrors)\n\u001b[1;32m   4310\u001b[0m     \u001b[39melse\u001b[39;00m:\n\u001b[0;32m-> 4311\u001b[0m         new_axis \u001b[39m=\u001b[39m axis\u001b[39m.\u001b[39;49mdrop(labels, errors\u001b[39m=\u001b[39;49merrors)\n\u001b[1;32m   4312\u001b[0m     indexer \u001b[39m=\u001b[39m axis\u001b[39m.\u001b[39mget_indexer(new_axis)\n\u001b[1;32m   4314\u001b[0m \u001b[39m# Case for non-unique axis\u001b[39;00m\n\u001b[1;32m   4315\u001b[0m \u001b[39melse\u001b[39;00m:\n",
      "File \u001b[0;32m~/opt/anaconda3/lib/python3.9/site-packages/pandas/core/indexes/base.py:6644\u001b[0m, in \u001b[0;36mIndex.drop\u001b[0;34m(self, labels, errors)\u001b[0m\n\u001b[1;32m   6642\u001b[0m \u001b[39mif\u001b[39;00m mask\u001b[39m.\u001b[39many():\n\u001b[1;32m   6643\u001b[0m     \u001b[39mif\u001b[39;00m errors \u001b[39m!=\u001b[39m \u001b[39m\"\u001b[39m\u001b[39mignore\u001b[39m\u001b[39m\"\u001b[39m:\n\u001b[0;32m-> 6644\u001b[0m         \u001b[39mraise\u001b[39;00m \u001b[39mKeyError\u001b[39;00m(\u001b[39mf\u001b[39m\u001b[39m\"\u001b[39m\u001b[39m{\u001b[39;00m\u001b[39mlist\u001b[39m(labels[mask])\u001b[39m}\u001b[39;00m\u001b[39m not found in axis\u001b[39m\u001b[39m\"\u001b[39m)\n\u001b[1;32m   6645\u001b[0m     indexer \u001b[39m=\u001b[39m indexer[\u001b[39m~\u001b[39mmask]\n\u001b[1;32m   6646\u001b[0m \u001b[39mreturn\u001b[39;00m \u001b[39mself\u001b[39m\u001b[39m.\u001b[39mdelete(indexer)\n",
      "\u001b[0;31mKeyError\u001b[0m: \"['Grade'] not found in axis\""
     ]
    }
   ],
   "source": [
    "NPP.drop(['Grade'],axis=1,inplace=True)\n",
    "NPP.head(2)"
   ]
  },
  {
   "cell_type": "markdown",
   "id": "87185e57",
   "metadata": {},
   "source": []
  },
  {
   "cell_type": "markdown",
   "id": "49d59f26",
   "metadata": {},
   "source": [
    "## Inspection Score"
   ]
  },
  {
   "cell_type": "markdown",
   "id": "439654c1",
   "metadata": {},
   "source": []
  },
  {
   "cell_type": "markdown",
   "id": "a8164acc",
   "metadata": {},
   "source": [
    "<h2>در این مرحله برای بررسی میانگین امتیاز کسب شده توسط گروه های مختلف باید داده های پرت را خارج کنیم<h2>"
   ]
  },
  {
   "cell_type": "code",
   "execution_count": 147,
   "id": "d0e9dc51",
   "metadata": {},
   "outputs": [
    {
     "data": {
      "image/png": "[encoded data removed]",
      "text/plain": [
       "<Figure size 2160x504 with 1 Axes>"
      ]
     },
     "metadata": {
      "needs_background": "light"
     },
     "output_type": "display_data"
    }
   ],
   "source": [
    "\n",
    "plt.figure(figsize=(30,7))\n",
    "sns.boxplot(x=NPP[\"Inspection Score\"],y=NPP[\"capacity\"])\n",
    "plt.show()"
   ]
  },
  {
   "cell_type": "code",
   "execution_count": 148,
   "id": "5896f3b9",
   "metadata": {},
   "outputs": [
    {
     "data": {
      "text/html": [
       "<div>\n",
       "<style scoped>\n",
       "    .dataframe tbody tr th:only-of-type {\n",
       "        vertical-align: middle;\n",
       "    }\n",
       "\n",
       "    .dataframe tbody tr th {\n",
       "        vertical-align: top;\n",
       "    }\n",
       "\n",
       "    .dataframe thead th {\n",
       "        text-align: right;\n",
       "    }\n",
       "</style>\n",
       "<table border=\"1\" class=\"dataframe\">\n",
       "  <thead>\n",
       "    <tr style=\"text-align: right;\">\n",
       "      <th></th>\n",
       "      <th>capacity</th>\n",
       "      <th>Inspection Score</th>\n",
       "      <th>Category</th>\n",
       "    </tr>\n",
       "  </thead>\n",
       "  <tbody>\n",
       "    <tr>\n",
       "      <th>0</th>\n",
       "      <td>Limited Food Services</td>\n",
       "      <td>10.978337</td>\n",
       "      <td>0.0</td>\n",
       "    </tr>\n",
       "  </tbody>\n",
       "</table>\n",
       "</div>"
      ],
      "text/plain": [
       "                capacity  Inspection Score  Category\n",
       "0  Limited Food Services         10.978337       0.0"
      ]
     },
     "execution_count": 148,
     "metadata": {},
     "output_type": "execute_result"
    }
   ],
   "source": [
    "inspection_std4=NPP.drop(['Longitude','Latitude','Inspection Closed Business'],axis=1).groupby(by='capacity',as_index=False).std()\n",
    "inspection_std4"
   ]
  },
  {
   "cell_type": "markdown",
   "id": "b0baaa99",
   "metadata": {},
   "source": [
    "<h4>داده قابل حذفی وجود ندارد<h4>"
   ]
  },
  {
   "cell_type": "code",
   "execution_count": 149,
   "id": "57defa54",
   "metadata": {},
   "outputs": [
    {
     "data": {
      "text/html": [
       "<div>\n",
       "<style scoped>\n",
       "    .dataframe tbody tr th:only-of-type {\n",
       "        vertical-align: middle;\n",
       "    }\n",
       "\n",
       "    .dataframe tbody tr th {\n",
       "        vertical-align: top;\n",
       "    }\n",
       "\n",
       "    .dataframe thead th {\n",
       "        text-align: right;\n",
       "    }\n",
       "</style>\n",
       "<table border=\"1\" class=\"dataframe\">\n",
       "  <thead>\n",
       "    <tr style=\"text-align: right;\">\n",
       "      <th></th>\n",
       "      <th>capacity</th>\n",
       "      <th>Inspection Score</th>\n",
       "      <th>Category</th>\n",
       "    </tr>\n",
       "  </thead>\n",
       "  <tbody>\n",
       "    <tr>\n",
       "      <th>0</th>\n",
       "      <td>Limited Food Services</td>\n",
       "      <td>8.207815</td>\n",
       "      <td>0.0</td>\n",
       "    </tr>\n",
       "  </tbody>\n",
       "</table>\n",
       "</div>"
      ],
      "text/plain": [
       "                capacity  Inspection Score  Category\n",
       "0  Limited Food Services          8.207815       0.0"
      ]
     },
     "execution_count": 149,
     "metadata": {},
     "output_type": "execute_result"
    }
   ],
   "source": [
    "inspection_mean4=NPP.drop(['Longitude','Latitude','Inspection Closed Business'],axis=1).groupby(by='capacity',as_index=False).mean()\n",
    "inspection_mean4\n"
   ]
  },
  {
   "cell_type": "code",
   "execution_count": 150,
   "id": "0057aac9",
   "metadata": {},
   "outputs": [
    {
     "data": {
      "image/png": "[encoded data removed]",
      "text/plain": [
       "<Figure size 432x288 with 1 Axes>"
      ]
     },
     "metadata": {
      "needs_background": "light"
     },
     "output_type": "display_data"
    }
   ],
   "source": [
    "\n",
    "capacity_score4=NPP.pivot_table(index=['capacity','Name'])\n",
    "\n",
    "capacities4=['Limited Food Services']\n",
    "\n",
    "for index,score in enumerate (capacities4):\n",
    "   plt.title(f\"{score}'s mean is {inspection_mean4['Inspection Score'][index]}\" )\n",
    "   sns.histplot(data=capacity_score4.loc[[score]], x=\"Inspection Score\",bins=20)\n",
    "   plt.show()"
   ]
  },
  {
   "cell_type": "markdown",
   "id": "656b23e8",
   "metadata": {},
   "source": [
    "<h3style='color:green'> باید بررسی شود با کدام دسته مشابهت بیشتری دارد<h3>"
   ]
  },
  {
   "cell_type": "markdown",
   "metadata": {},
   "source": [
    "## Inspection Closed Business"
   ]
  },
  {
   "cell_type": "code",
   "execution_count": 152,
   "id": "9b7f23af-a47b-4d0b-b6be-f1736d06f753",
   "metadata": {},
   "outputs": [
    {
     "data": {
      "image/png": "[encoded data removed]",
      "text/plain": [
       "<Figure size 1656x1080 with 1 Axes>"
      ]
     },
     "metadata": {
      "needs_background": "light"
     },
     "output_type": "display_data"
    }
   ],
   "source": [
    "capacity_closed4=NPP.groupby(by=['capacity','Inspection Closed Business'],as_index=False).size()\n",
    "plt.figure(figsize=(23,15))\n",
    "bars=sns.barplot(data=capacity_closed4, x=\"capacity\", y=\"size\", hue=\"Inspection Closed Business\")\n",
    "plt.yticks(capacity_closed4['size'])\n",
    "for i in bars.containers:\n",
    "    bars.bar_label(i,)\n",
    "plt.show()"
   ]
  },
  {
   "cell_type": "code",
   "execution_count": 154,
   "id": "ca2683d7",
   "metadata": {},
   "outputs": [
    {
     "data": {
      "text/html": [
       "<div>\n",
       "<style scoped>\n",
       "    .dataframe tbody tr th:only-of-type {\n",
       "        vertical-align: middle;\n",
       "    }\n",
       "\n",
       "    .dataframe tbody tr th {\n",
       "        vertical-align: top;\n",
       "    }\n",
       "\n",
       "    .dataframe thead th {\n",
       "        text-align: right;\n",
       "    }\n",
       "</style>\n",
       "<table border=\"1\" class=\"dataframe\">\n",
       "  <thead>\n",
       "    <tr style=\"text-align: right;\">\n",
       "      <th></th>\n",
       "      <th>capacity</th>\n",
       "      <th>Inspection Closed Business</th>\n",
       "      <th>size</th>\n",
       "    </tr>\n",
       "  </thead>\n",
       "  <tbody>\n",
       "    <tr>\n",
       "      <th>0</th>\n",
       "      <td>Limited Food Services</td>\n",
       "      <td>False</td>\n",
       "      <td>1119</td>\n",
       "    </tr>\n",
       "    <tr>\n",
       "      <th>1</th>\n",
       "      <td>Limited Food Services</td>\n",
       "      <td>True</td>\n",
       "      <td>7</td>\n",
       "    </tr>\n",
       "  </tbody>\n",
       "</table>\n",
       "</div>"
      ],
      "text/plain": [
       "                capacity  Inspection Closed Business  size\n",
       "0  Limited Food Services                       False  1119\n",
       "1  Limited Food Services                        True     7"
      ]
     },
     "execution_count": 154,
     "metadata": {},
     "output_type": "execute_result"
    }
   ],
   "source": [
    "capacity_closed4"
   ]
  },
  {
   "cell_type": "code",
   "execution_count": 155,
   "id": "297e2743",
   "metadata": {},
   "outputs": [
    {
     "data": {
      "text/html": [
       "<div>\n",
       "<style scoped>\n",
       "    .dataframe tbody tr th:only-of-type {\n",
       "        vertical-align: middle;\n",
       "    }\n",
       "\n",
       "    .dataframe tbody tr th {\n",
       "        vertical-align: top;\n",
       "    }\n",
       "\n",
       "    .dataframe thead th {\n",
       "        text-align: right;\n",
       "    }\n",
       "</style>\n",
       "<table border=\"1\" class=\"dataframe\">\n",
       "  <thead>\n",
       "    <tr style=\"text-align: right;\">\n",
       "      <th></th>\n",
       "      <th>Inspection Result</th>\n",
       "      <th>size</th>\n",
       "    </tr>\n",
       "  </thead>\n",
       "  <tbody>\n",
       "    <tr>\n",
       "      <th>0</th>\n",
       "      <td>Unsatisfactory</td>\n",
       "      <td>7</td>\n",
       "    </tr>\n",
       "  </tbody>\n",
       "</table>\n",
       "</div>"
      ],
      "text/plain": [
       "  Inspection Result  size\n",
       "0    Unsatisfactory     7"
      ]
     },
     "execution_count": 155,
     "metadata": {},
     "output_type": "execute_result"
    }
   ],
   "source": [
    "mask4=NPP['Inspection Closed Business']==True\n",
    "inspection_result_size4=NPP[mask4]\n",
    "\n",
    "inspection_result_size4=inspection_result_size4.groupby('Inspection Result',as_index=False).size()\n",
    "inspection_result_size4"
   ]
  },
  {
   "cell_type": "markdown",
   "id": "4dca7827",
   "metadata": {},
   "source": [
    "# موضاعات قابل طرح  \n",
    "  \n",
    "بررسی شود به کدام دسته شبیه است\n"
   ]
  },
  {
   "cell_type": "markdown",
   "id": "74b051d3",
   "metadata": {},
   "source": [
    "# conclusion"
   ]
  },
  {
   "cell_type": "markdown",
   "id": "d3f7bf8d",
   "metadata": {},
   "source": []
  },
  {
   "cell_type": "markdown",
   "id": "208d34c3",
   "metadata": {},
   "source": [
    "## موضوعات قابل طرح  \n",
    "  \n",
    "\n",
    "<h5 style='color:orange'> با افزایش سطح ریسک، تعطیلی ها بیشتر شده است و این میتواند تاییدی باشد بر اینکه<br> \n",
    "risk category <br>\n",
    "برای تعطیلی ها نقش مهمی ایفا می کند\n",
    "<h5><br>\n",
    "۲- ایا نمره پایین علت تعطیل نشدن بوده است؟<br>\n",
    "<h5 style='color:orange'> نمی توان با قطعیت گفت . <h5>\n",
    "<br>افزایشی grade در رستوران های با ظرفیت\n",
    "\n",
    "## فرضیات\n",
    "\n",
    "۱- ارنباط مستقیم inspection score و inspection result=Unsatisfactory<br>\n",
    "۲- شرط لازم برای تعطیلی -Unsatisfactory و - RED<br>\n",
    "همچنین نمرات بالا inspection score\n",
    "\n",
    "\n",
    "۴- با افزایش سطح ریسک میزان نمرات نیز افزایش می یابد(inspection score)\n",
    "<br><h5 style='color:orange'>با افزایش سطح ریسک رستوران های دارای ظرفیت عملکردشان ضعیف تر شده است<h5>"
   ]
  },
  {
   "cell_type": "markdown",
   "id": "4d1d6ff8",
   "metadata": {},
   "source": [
    "## اقدامات\n",
    "\n",
    "۱-  بررسی رستوران های دارای ظرفیت یکسان در سطوح ریسکی مختلف به منظور بررسی میزان تاثیر سطوح ریسکی در نمره دهی و تعطیلی مراکز<br>\n",
    "۲- بررسی رستوران های مشترک در سطوح ریسکی مختلف<br>\n",
    "۳- بررسی تعداد دفعات بازرسی و علل بازرسی در سطوح مختلف ریسکی رستوران های مشترک<br>\n",
    "۴- بررسی علل تعطیلی رستوران ها با نتایج غیر Unsatisfactory<br>\n",
    "۵- Risk Category Not Permanent plumbing به کدام دسته نزدیک است؟<br>\n",
    " "
   ]
  },
  {
   "cell_type": "markdown",
   "id": "bce07724",
   "metadata": {},
   "source": []
  }
 ],
 "metadata": {
  "kernelspec": {
   "display_name": "Python 3.9.12 ('base')",
   "language": "python",
   "name": "python3"
  },
  "language_info": {
   "codemirror_mode": {
    "name": "ipython",
    "version": 3
   },
   "file_extension": ".py",
   "mimetype": "text/x-python",
   "name": "python",
   "nbconvert_exporter": "python",
   "pygments_lexer": "ipython3",
   "version": "3.9.12"
  },
  "vscode": {
   "interpreter": {
    "hash": "381afda6634acabfe02de722b0985adea3cc2e228af5cdbefa626e4cfe1e2f2d"
   }
  }
 },
 "nbformat": 4,
 "nbformat_minor": 5
}
